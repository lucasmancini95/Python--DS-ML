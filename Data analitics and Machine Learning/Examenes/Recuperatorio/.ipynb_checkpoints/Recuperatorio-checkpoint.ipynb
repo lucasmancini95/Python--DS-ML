{
 "cells": [
  {
   "cell_type": "markdown",
   "metadata": {},
   "source": [
    "<h1><center>Recuperatorio del 1er Parcial </center></h1><h2><center>Encuesta Permanente de Hogares (INDEC)</center></h2><h3><center>Análisis de Datos con Python - 24 de Mayo de 2016</center></h3>\n",
    "\n",
    "En este examen usaremos datos del _INDEC_ que se encuentran en el archivo **EPH_IND_2004-2017_T2.csv**. Los mismo fueron recolectados a partir de entrevistas individuales en cinco regiones del país durante los segundos trimestre entre 2004 y 2017. "
   ]
  },
  {
   "cell_type": "markdown",
   "metadata": {},
   "source": [
    "**Ejercicio 1:**\n",
    " 1. Cargar los datos del archivo en un DataFrame llamado df. \n",
    " 1. Determinar las variables y sus tipos\n",
    " 1. Si existen datos faltantes, cuantos y de qué variables"
   ]
  },
  {
   "cell_type": "code",
   "execution_count": 91,
   "metadata": {},
   "outputs": [],
   "source": [
    "import pandas as pd\n",
    "import numpy as np\n",
    "import matplotlib.pyplot as plt\n",
    "import seaborn as sns"
   ]
  },
  {
   "cell_type": "code",
   "execution_count": 92,
   "metadata": {},
   "outputs": [
    {
     "data": {
      "text/html": [
       "<div>\n",
       "<style scoped>\n",
       "    .dataframe tbody tr th:only-of-type {\n",
       "        vertical-align: middle;\n",
       "    }\n",
       "\n",
       "    .dataframe tbody tr th {\n",
       "        vertical-align: top;\n",
       "    }\n",
       "\n",
       "    .dataframe thead th {\n",
       "        text-align: right;\n",
       "    }\n",
       "</style>\n",
       "<table border=\"1\" class=\"dataframe\">\n",
       "  <thead>\n",
       "    <tr style=\"text-align: right;\">\n",
       "      <th></th>\n",
       "      <th>Nro_Vivienda</th>\n",
       "      <th>Nro_Hogar</th>\n",
       "      <th>Componente</th>\n",
       "      <th>Ano</th>\n",
       "      <th>Region</th>\n",
       "      <th>RelHogar</th>\n",
       "      <th>Sexo</th>\n",
       "      <th>Edad</th>\n",
       "      <th>NivelEd</th>\n",
       "      <th>CondActividad</th>\n",
       "      <th>CatOcupacion</th>\n",
       "      <th>CatInactividad</th>\n",
       "      <th>IngTI</th>\n",
       "      <th>DIngTIG</th>\n",
       "    </tr>\n",
       "  </thead>\n",
       "  <tbody>\n",
       "    <tr>\n",
       "      <th>0</th>\n",
       "      <td>125111.0</td>\n",
       "      <td>1.0</td>\n",
       "      <td>1.0</td>\n",
       "      <td>2004.0</td>\n",
       "      <td>GBA</td>\n",
       "      <td>1.0</td>\n",
       "      <td>Hombre</td>\n",
       "      <td>63.0</td>\n",
       "      <td>4.0</td>\n",
       "      <td>1.0</td>\n",
       "      <td>3.0</td>\n",
       "      <td>0.0</td>\n",
       "      <td>0.0</td>\n",
       "      <td>0.0</td>\n",
       "    </tr>\n",
       "    <tr>\n",
       "      <th>1</th>\n",
       "      <td>125111.0</td>\n",
       "      <td>1.0</td>\n",
       "      <td>2.0</td>\n",
       "      <td>2004.0</td>\n",
       "      <td>GBA</td>\n",
       "      <td>2.0</td>\n",
       "      <td>Mujer</td>\n",
       "      <td>52.0</td>\n",
       "      <td>4.0</td>\n",
       "      <td>1.0</td>\n",
       "      <td>3.0</td>\n",
       "      <td>0.0</td>\n",
       "      <td>1000.0</td>\n",
       "      <td>9.0</td>\n",
       "    </tr>\n",
       "    <tr>\n",
       "      <th>2</th>\n",
       "      <td>125458.0</td>\n",
       "      <td>1.0</td>\n",
       "      <td>1.0</td>\n",
       "      <td>2004.0</td>\n",
       "      <td>GBA</td>\n",
       "      <td>1.0</td>\n",
       "      <td>Hombre</td>\n",
       "      <td>26.0</td>\n",
       "      <td>3.0</td>\n",
       "      <td>1.0</td>\n",
       "      <td>3.0</td>\n",
       "      <td>0.0</td>\n",
       "      <td>1000.0</td>\n",
       "      <td>9.0</td>\n",
       "    </tr>\n",
       "    <tr>\n",
       "      <th>3</th>\n",
       "      <td>125458.0</td>\n",
       "      <td>1.0</td>\n",
       "      <td>2.0</td>\n",
       "      <td>2004.0</td>\n",
       "      <td>GBA</td>\n",
       "      <td>2.0</td>\n",
       "      <td>Mujer</td>\n",
       "      <td>23.0</td>\n",
       "      <td>6.0</td>\n",
       "      <td>1.0</td>\n",
       "      <td>3.0</td>\n",
       "      <td>0.0</td>\n",
       "      <td>600.0</td>\n",
       "      <td>7.0</td>\n",
       "    </tr>\n",
       "    <tr>\n",
       "      <th>4</th>\n",
       "      <td>125458.0</td>\n",
       "      <td>1.0</td>\n",
       "      <td>3.0</td>\n",
       "      <td>2004.0</td>\n",
       "      <td>GBA</td>\n",
       "      <td>3.0</td>\n",
       "      <td>Hombre</td>\n",
       "      <td>6.0</td>\n",
       "      <td>1.0</td>\n",
       "      <td>4.0</td>\n",
       "      <td>0.0</td>\n",
       "      <td>3.0</td>\n",
       "      <td>0.0</td>\n",
       "      <td>0.0</td>\n",
       "    </tr>\n",
       "  </tbody>\n",
       "</table>\n",
       "</div>"
      ],
      "text/plain": [
       "   Nro_Vivienda  Nro_Hogar  Componente     Ano Region  RelHogar    Sexo  Edad  \\\n",
       "0      125111.0        1.0         1.0  2004.0    GBA       1.0  Hombre  63.0   \n",
       "1      125111.0        1.0         2.0  2004.0    GBA       2.0   Mujer  52.0   \n",
       "2      125458.0        1.0         1.0  2004.0    GBA       1.0  Hombre  26.0   \n",
       "3      125458.0        1.0         2.0  2004.0    GBA       2.0   Mujer  23.0   \n",
       "4      125458.0        1.0         3.0  2004.0    GBA       3.0  Hombre   6.0   \n",
       "\n",
       "   NivelEd  CondActividad  CatOcupacion  CatInactividad   IngTI  DIngTIG  \n",
       "0      4.0            1.0           3.0             0.0     0.0      0.0  \n",
       "1      4.0            1.0           3.0             0.0  1000.0      9.0  \n",
       "2      3.0            1.0           3.0             0.0  1000.0      9.0  \n",
       "3      6.0            1.0           3.0             0.0   600.0      7.0  \n",
       "4      1.0            4.0           0.0             3.0     0.0      0.0  "
      ]
     },
     "execution_count": 92,
     "metadata": {},
     "output_type": "execute_result"
    }
   ],
   "source": [
    "#1\n",
    "df=pd.read_csv(\"EPH_IND_2004-2017_T2.csv.tar.gz\")\n",
    "df.drop(\"EPH_IND_2004-2017_T2.csv\",axis=1,inplace=True) #se levanto una columna que es el indice del csv, la borro, ya que el data frame ya tiene su indice\n",
    "df.head()"
   ]
  },
  {
   "cell_type": "code",
   "execution_count": 4,
   "metadata": {},
   "outputs": [
    {
     "data": {
      "text/plain": [
       "Nro_Vivienda      float64\n",
       "Nro_Hogar         float64\n",
       "Componente        float64\n",
       "Ano               float64\n",
       "Region             object\n",
       "RelHogar          float64\n",
       "Sexo               object\n",
       "Edad              float64\n",
       "NivelEd           float64\n",
       "CondActividad     float64\n",
       "CatOcupacion      float64\n",
       "CatInactividad    float64\n",
       "IngTI             float64\n",
       "DIngTIG           float64\n",
       "dtype: object"
      ]
     },
     "execution_count": 4,
     "metadata": {},
     "output_type": "execute_result"
    }
   ],
   "source": [
    "#2\n",
    "df.dtypes\n",
    "#se ve que todas la columnas son de tipo float, a exepecion de Region y Sexo que son cadenas"
   ]
  },
  {
   "cell_type": "code",
   "execution_count": 5,
   "metadata": {},
   "outputs": [
    {
     "name": "stdout",
     "output_type": "stream",
     "text": [
      "En Nro_Vivienda hay 1 datos faltantes\n",
      "En Nro_Hogar hay 1 datos faltantes\n",
      "En Componente hay 1 datos faltantes\n",
      "En Ano hay 1 datos faltantes\n",
      "En Region hay 1 datos faltantes\n",
      "En RelHogar hay 1 datos faltantes\n",
      "En Sexo hay 1 datos faltantes\n",
      "En Edad hay 1 datos faltantes\n",
      "En NivelEd hay 1 datos faltantes\n",
      "En CondActividad hay 1 datos faltantes\n",
      "En CatOcupacion hay 1 datos faltantes\n",
      "En CatInactividad hay 1 datos faltantes\n",
      "En IngTI hay 1 datos faltantes\n",
      "En DIngTIG hay 1 datos faltantes\n"
     ]
    }
   ],
   "source": [
    "#3\n",
    "for col in df.columns:\n",
    "    print('En {1} hay {0} datos faltantes'.format(pd.isnull(df[col]).values.sum(), col))"
   ]
  },
  {
   "cell_type": "code",
   "execution_count": 6,
   "metadata": {},
   "outputs": [
    {
     "data": {
      "text/html": [
       "<div>\n",
       "<style scoped>\n",
       "    .dataframe tbody tr th:only-of-type {\n",
       "        vertical-align: middle;\n",
       "    }\n",
       "\n",
       "    .dataframe tbody tr th {\n",
       "        vertical-align: top;\n",
       "    }\n",
       "\n",
       "    .dataframe thead th {\n",
       "        text-align: right;\n",
       "    }\n",
       "</style>\n",
       "<table border=\"1\" class=\"dataframe\">\n",
       "  <thead>\n",
       "    <tr style=\"text-align: right;\">\n",
       "      <th></th>\n",
       "      <th>Nro_Vivienda</th>\n",
       "      <th>Nro_Hogar</th>\n",
       "      <th>Componente</th>\n",
       "      <th>Ano</th>\n",
       "      <th>Region</th>\n",
       "      <th>RelHogar</th>\n",
       "      <th>Sexo</th>\n",
       "      <th>Edad</th>\n",
       "      <th>NivelEd</th>\n",
       "      <th>CondActividad</th>\n",
       "      <th>CatOcupacion</th>\n",
       "      <th>CatInactividad</th>\n",
       "      <th>IngTI</th>\n",
       "      <th>DIngTIG</th>\n",
       "    </tr>\n",
       "  </thead>\n",
       "  <tbody>\n",
       "    <tr>\n",
       "      <th>787427</th>\n",
       "      <td>NaN</td>\n",
       "      <td>NaN</td>\n",
       "      <td>NaN</td>\n",
       "      <td>NaN</td>\n",
       "      <td>NaN</td>\n",
       "      <td>NaN</td>\n",
       "      <td>NaN</td>\n",
       "      <td>NaN</td>\n",
       "      <td>NaN</td>\n",
       "      <td>NaN</td>\n",
       "      <td>NaN</td>\n",
       "      <td>NaN</td>\n",
       "      <td>NaN</td>\n",
       "      <td>NaN</td>\n",
       "    </tr>\n",
       "  </tbody>\n",
       "</table>\n",
       "</div>"
      ],
      "text/plain": [
       "        Nro_Vivienda  Nro_Hogar  Componente  Ano Region  RelHogar Sexo  Edad  \\\n",
       "787427           NaN        NaN         NaN  NaN    NaN       NaN  NaN   NaN   \n",
       "\n",
       "        NivelEd  CondActividad  CatOcupacion  CatInactividad  IngTI  DIngTIG  \n",
       "787427      NaN            NaN           NaN             NaN    NaN      NaN  "
      ]
     },
     "execution_count": 6,
     "metadata": {},
     "output_type": "execute_result"
    }
   ],
   "source": [
    "#Hay un dato faltante en cada columna, pero examinando los datos se puede ver que esto se debe a que existe una fila en el df que esta vacia\n",
    "df.tail(1)"
   ]
  },
  {
   "cell_type": "code",
   "execution_count": 7,
   "metadata": {},
   "outputs": [
    {
     "data": {
      "text/html": [
       "<div>\n",
       "<style scoped>\n",
       "    .dataframe tbody tr th:only-of-type {\n",
       "        vertical-align: middle;\n",
       "    }\n",
       "\n",
       "    .dataframe tbody tr th {\n",
       "        vertical-align: top;\n",
       "    }\n",
       "\n",
       "    .dataframe thead th {\n",
       "        text-align: right;\n",
       "    }\n",
       "</style>\n",
       "<table border=\"1\" class=\"dataframe\">\n",
       "  <thead>\n",
       "    <tr style=\"text-align: right;\">\n",
       "      <th></th>\n",
       "      <th>Nro_Vivienda</th>\n",
       "      <th>Nro_Hogar</th>\n",
       "      <th>Componente</th>\n",
       "      <th>Ano</th>\n",
       "      <th>Region</th>\n",
       "      <th>RelHogar</th>\n",
       "      <th>Sexo</th>\n",
       "      <th>Edad</th>\n",
       "      <th>NivelEd</th>\n",
       "      <th>CondActividad</th>\n",
       "      <th>CatOcupacion</th>\n",
       "      <th>CatInactividad</th>\n",
       "      <th>IngTI</th>\n",
       "      <th>DIngTIG</th>\n",
       "    </tr>\n",
       "  </thead>\n",
       "  <tbody>\n",
       "    <tr>\n",
       "      <th>787426</th>\n",
       "      <td>486690.0</td>\n",
       "      <td>1.0</td>\n",
       "      <td>2.0</td>\n",
       "      <td>2017.0</td>\n",
       "      <td>Pampeana</td>\n",
       "      <td>2.0</td>\n",
       "      <td>Mujer</td>\n",
       "      <td>50.0</td>\n",
       "      <td>3.0</td>\n",
       "      <td>3.0</td>\n",
       "      <td>0.0</td>\n",
       "      <td>4.0</td>\n",
       "      <td>0.0</td>\n",
       "      <td>0.0</td>\n",
       "    </tr>\n",
       "  </tbody>\n",
       "</table>\n",
       "</div>"
      ],
      "text/plain": [
       "        Nro_Vivienda  Nro_Hogar  Componente     Ano    Region  RelHogar  \\\n",
       "787426      486690.0        1.0         2.0  2017.0  Pampeana       2.0   \n",
       "\n",
       "         Sexo  Edad  NivelEd  CondActividad  CatOcupacion  CatInactividad  \\\n",
       "787426  Mujer  50.0      3.0            3.0           0.0             4.0   \n",
       "\n",
       "        IngTI  DIngTIG  \n",
       "787426    0.0      0.0  "
      ]
     },
     "execution_count": 7,
     "metadata": {},
     "output_type": "execute_result"
    }
   ],
   "source": [
    "#por lo tanto parece razonable desechar dicha fila\n",
    "df.drop(787427,inplace=True)\n",
    "df.tail(1) # se ve que la ultima fila ya no es la vacia"
   ]
  },
  {
   "cell_type": "code",
   "execution_count": 8,
   "metadata": {},
   "outputs": [
    {
     "name": "stdout",
     "output_type": "stream",
     "text": [
      "En Nro_Vivienda hay 0 datos faltantes\n",
      "En Nro_Hogar hay 0 datos faltantes\n",
      "En Componente hay 0 datos faltantes\n",
      "En Ano hay 0 datos faltantes\n",
      "En Region hay 0 datos faltantes\n",
      "En RelHogar hay 0 datos faltantes\n",
      "En Sexo hay 0 datos faltantes\n",
      "En Edad hay 0 datos faltantes\n",
      "En NivelEd hay 0 datos faltantes\n",
      "En CondActividad hay 0 datos faltantes\n",
      "En CatOcupacion hay 0 datos faltantes\n",
      "En CatInactividad hay 0 datos faltantes\n",
      "En IngTI hay 0 datos faltantes\n",
      "En DIngTIG hay 0 datos faltantes\n"
     ]
    }
   ],
   "source": [
    "for col in df.columns:\n",
    "    print('En {1} hay {0} datos faltantes'.format(pd.isnull(df[col]).values.sum(), col))\n",
    "#ahora ya no hay datos faltantes"
   ]
  },
  {
   "cell_type": "markdown",
   "metadata": {},
   "source": [
    "**Ejercicio 2:**\n",
    " 1. Calcular la cantidad total de hombres y mujeres encuestados. Graficar.\n",
    " 1. Graficar la cantidad de hombres y mujeres encuestados cada año\n",
    " 1. Graficar la cantidad de personas encuestadas en cada región y cada año"
   ]
  },
  {
   "cell_type": "code",
   "execution_count": 9,
   "metadata": {},
   "outputs": [
    {
     "name": "stdout",
     "output_type": "stream",
     "text": [
      "La cantidad de mujeres encuentadas fue de 411001 y la de hombres de 376426\n"
     ]
    }
   ],
   "source": [
    "#1\n",
    "numero_hombres_encuestados=df[df.Sexo==\"Hombre\"].count()[0]\n",
    "numero_mujeres_encuestados=df[df.Sexo==\"Mujer\"].count()[0]\n",
    "print(\"La cantidad de mujeres encuentadas fue de {0} y la de hombres de {1}\".format(numero_mujeres_encuestados,numero_hombres_encuestados))"
   ]
  },
  {
   "cell_type": "code",
   "execution_count": 206,
   "metadata": {},
   "outputs": [
    {
     "data": {
      "text/plain": [
       "<seaborn.axisgrid.FacetGrid at 0x21b8bec1898>"
      ]
     },
     "execution_count": 206,
     "metadata": {},
     "output_type": "execute_result"
    },
    {
     "data": {
      "text/plain": [
       "<matplotlib.figure.Figure at 0x21b8bec1c50>"
      ]
     },
     "metadata": {},
     "output_type": "display_data"
    },
    {
     "data": {
      "image/png": "[encoded data removed]",
      "text/plain": [
       "<matplotlib.figure.Figure at 0x21b89ca7a58>"
      ]
     },
     "metadata": {},
     "output_type": "display_data"
    }
   ],
   "source": [
    "#Hago un grafico tipo countplot\n",
    "colors = ['#78C850', #mujer\n",
    "          '#F08030']  #hombre\n",
    "plt.figure(figsize=(14,6))\n",
    "#sns.countplot(x=\"Sexo\",data=df,palette=colors)\n",
    "sns.factorplot(x='Sexo' , data= df , kind= \"count\", order=[\"Mujer\",\"Hombre\"],palette=colors)"
   ]
  },
  {
   "cell_type": "code",
   "execution_count": 208,
   "metadata": {},
   "outputs": [
    {
     "data": {
      "text/plain": [
       "<seaborn.axisgrid.FacetGrid at 0x21b89ca7b00>"
      ]
     },
     "execution_count": 208,
     "metadata": {},
     "output_type": "execute_result"
    },
    {
     "data": {
      "image/png": "[encoded data removed]",
      "text/plain": [
       "<matplotlib.figure.Figure at 0x21b89affeb8>"
      ]
     },
     "metadata": {},
     "output_type": "display_data"
    }
   ],
   "source": [
    "#2\n",
    "sns.factorplot(x='Sexo' , data= df , kind= \"count\", hue=\"Ano\")\n"
   ]
  },
  {
   "cell_type": "code",
   "execution_count": 49,
   "metadata": {},
   "outputs": [
    {
     "name": "stdout",
     "output_type": "stream",
     "text": [
      "En el año 2004, se encuestaron 22838 hombres\n",
      "En el año 2004, se encuestaron 25031 mujeres\n",
      "En el año 2005, se encuestaron 22438 hombres\n",
      "En el año 2005, se encuestaron 24474 mujeres\n",
      "En el año 2006, se encuestaron 22766 hombres\n",
      "En el año 2006, se encuestaron 24914 mujeres\n",
      "En el año 2007, se encuestaron 30303 hombres\n",
      "En el año 2007, se encuestaron 32932 mujeres\n",
      "En el año 2008, se encuestaron 29479 hombres\n",
      "En el año 2008, se encuestaron 32051 mujeres\n",
      "En el año 2009, se encuestaron 28820 hombres\n",
      "En el año 2009, se encuestaron 31238 mujeres\n",
      "En el año 2010, se encuestaron 28658 hombres\n",
      "En el año 2010, se encuestaron 30841 mujeres\n",
      "En el año 2011, se encuestaron 28195 hombres\n",
      "En el año 2011, se encuestaron 30531 mujeres\n",
      "En el año 2012, se encuestaron 27328 hombres\n",
      "En el año 2012, se encuestaron 29587 mujeres\n",
      "En el año 2013, se encuestaron 26612 hombres\n",
      "En el año 2013, se encuestaron 28805 mujeres\n",
      "En el año 2014, se encuestaron 29145 hombres\n",
      "En el año 2014, se encuestaron 31967 mujeres\n",
      "En el año 2015, se encuestaron 28770 hombres\n",
      "En el año 2015, se encuestaron 31258 mujeres\n",
      "En el año 2016, se encuestaron 25546 hombres\n",
      "En el año 2016, se encuestaron 28486 mujeres\n",
      "En el año 2017, se encuestaron 25528 hombres\n",
      "En el año 2017, se encuestaron 28886 mujeres\n"
     ]
    }
   ],
   "source": [
    "# se puede verificar el grafico anterior comparando con los datos:\n",
    "for i in range(2004,2018):\n",
    "    print(\"En el año {0}, se encuestaron {1} hombres\".format(i,df[(df.Sexo==\"Hombre\") & (df.Ano==i)].Nro_Vivienda.count()))\n",
    "    print(\"En el año {0}, se encuestaron {1} mujeres\".format(i,df[(df.Sexo==\"Mujer\") & (df.Ano==i)].Nro_Vivienda.count()))\n"
   ]
  },
  {
   "cell_type": "code",
   "execution_count": 207,
   "metadata": {},
   "outputs": [
    {
     "data": {
      "text/plain": [
       "<seaborn.axisgrid.FacetGrid at 0x21b89affdd8>"
      ]
     },
     "execution_count": 207,
     "metadata": {},
     "output_type": "execute_result"
    },
    {
     "data": {
      "image/png": "[encoded data removed]",
      "text/plain": [
       "<matplotlib.figure.Figure at 0x21b89c89048>"
      ]
     },
     "metadata": {},
     "output_type": "display_data"
    }
   ],
   "source": [
    "#3\n",
    "sns.factorplot(x='Region' , data= df , kind= \"count\", hue=\"Ano\").set_xticklabels(rotation=90)\n"
   ]
  },
  {
   "cell_type": "code",
   "execution_count": 58,
   "metadata": {},
   "outputs": [
    {
     "data": {
      "image/png": "[encoded data removed]",
      "text/plain": [
       "<matplotlib.figure.Figure at 0x21ac0238780>"
      ]
     },
     "metadata": {},
     "output_type": "display_data"
    },
    {
     "data": {
      "image/png": "[encoded data removed]",
      "text/plain": [
       "<matplotlib.figure.Figure at 0x21af09e5550>"
      ]
     },
     "metadata": {},
     "output_type": "display_data"
    },
    {
     "data": {
      "image/png": "[encoded data removed]",
      "text/plain": [
       "<matplotlib.figure.Figure at 0x21ad53653c8>"
      ]
     },
     "metadata": {},
     "output_type": "display_data"
    }
   ],
   "source": [
    "#Si el grafico anterior esta muy sobre cargado se puede realizar uno para cada año para poder visualizar mejor los datos\n",
    "desde=2004 #con estas dos variables se selecciona cuales graficos se desea visualizar\n",
    "hasta=2006\n",
    "for i in range(desde,hasta+1):\n",
    "    sns.factorplot(x='Region' , data= df[df.Ano==i] , kind= \"count\", hue=\"Ano\").set_xticklabels(rotation=90)\n"
   ]
  },
  {
   "cell_type": "markdown",
   "metadata": {},
   "source": [
    "**Ejercicio 3:** Generar un nuevo DataFrame a partir de **df** que se llame **df2017** y contenga solo los datos de personas encuestadas en el 2017 y con ingersos (IngTI) mayores que cero. Usando este nuevo DataFrame:\n",
    " 1. Calcular el ingreso total individual (IngTI) medio de cada región. \n",
    " 1. Realizar un boxplot (o violin plot) comparando la distribución de los ingresos en cada región.\n",
    " 1. Agregar una nueva columna al df2017 llamada \"IngTI_\" que contenga, para cada encuestado, el mínimo entre los ingresos que declaró y $\\$$40000 (en otras palabras, asignarle ingresos de $\\$$40000 a las personas que ganan más que ese monto). Repetir el gráfico anterior usando la nueva columna en lugar de \"IngTI\". Observe que la información se visualiza mejor ya que el eje vertical no es tan amplio.\n",
    " 1. Repetir el gráfico anterior (comparando la distribución de los ingresos en cada región) separando los datos por género.\n",
    " 1. Describa brevemente lo observa en este último gráfico."
   ]
  },
  {
   "cell_type": "code",
   "execution_count": 116,
   "metadata": {},
   "outputs": [
    {
     "name": "stdout",
     "output_type": "stream",
     "text": [
      "70.0\n",
      "2017.0    30016\n",
      "Name: Ano, dtype: int64\n"
     ]
    }
   ],
   "source": [
    "df_2017=pd.DataFrame(df[(df.Ano==2017) & (df.IngTI>0)])\n",
    "#verificamos que el df quedo bien\n",
    "print(df_2017.IngTI.min()) #el ingreso minimo es de 70\n",
    "print(df_2017.Ano.value_counts()) #el unico Ano que hay es el 2017\n",
    "df_2017.drop(\"Ano\",axis=1,inplace=True) #saco la columna año, ya que es informacion irrelevante"
   ]
  },
  {
   "cell_type": "code",
   "execution_count": 94,
   "metadata": {},
   "outputs": [
    {
     "data": {
      "text/plain": [
       "Region\n",
       "Cuyo          8600.0\n",
       "GBA          10000.0\n",
       "NEA           8000.0\n",
       "NOA           7500.0\n",
       "Pampeana      9000.0\n",
       "Patagonia    15000.0\n",
       "Name: IngTI, dtype: float64"
      ]
     },
     "execution_count": 94,
     "metadata": {},
     "output_type": "execute_result"
    }
   ],
   "source": [
    "#1\n",
    "df_2017.groupby(\"Region\")[\"IngTI\"].median() #la mediana, es mejor estimativo"
   ]
  },
  {
   "cell_type": "code",
   "execution_count": 95,
   "metadata": {},
   "outputs": [
    {
     "data": {
      "text/plain": [
       "Region\n",
       "Cuyo         10872.708258\n",
       "GBA          12923.784231\n",
       "NEA           9417.507612\n",
       "NOA           9691.776066\n",
       "Pampeana     11478.780947\n",
       "Patagonia    17444.572666\n",
       "Name: IngTI, dtype: float64"
      ]
     },
     "execution_count": 95,
     "metadata": {},
     "output_type": "execute_result"
    }
   ],
   "source": [
    "df_2017.groupby(\"Region\")[\"IngTI\"].mean() #la media"
   ]
  },
  {
   "cell_type": "code",
   "execution_count": 96,
   "metadata": {},
   "outputs": [
    {
     "data": {
      "text/plain": [
       "<matplotlib.axes._subplots.AxesSubplot at 0x21ad5e910b8>"
      ]
     },
     "execution_count": 96,
     "metadata": {},
     "output_type": "execute_result"
    },
    {
     "data": {
      "image/png": "[encoded data removed]",
      "text/plain": [
       "<matplotlib.figure.Figure at 0x21ad5e8dd30>"
      ]
     },
     "metadata": {},
     "output_type": "display_data"
    }
   ],
   "source": [
    "#2\n",
    "#primero el violin plot\n",
    "sns.violinplot(x='Region', y='IngTI',data=df_2017)\n"
   ]
  },
  {
   "cell_type": "code",
   "execution_count": 77,
   "metadata": {},
   "outputs": [
    {
     "data": {
      "text/plain": [
       "(0, 50000)"
      ]
     },
     "execution_count": 77,
     "metadata": {},
     "output_type": "execute_result"
    },
    {
     "data": {
      "image/png": "[encoded data removed]",
      "text/plain": [
       "<matplotlib.figure.Figure at 0x21af1cab860>"
      ]
     },
     "metadata": {},
     "output_type": "display_data"
    }
   ],
   "source": [
    "sns.violinplot(x='Region', y='IngTI',data=df_2017)\n",
    "plt.ylim(0,50000) #se puede limitar el grafico para ver mejor el Ingreso Total medio"
   ]
  },
  {
   "cell_type": "code",
   "execution_count": 139,
   "metadata": {},
   "outputs": [
    {
     "data": {
      "text/plain": [
       "(0, 50000)"
      ]
     },
     "execution_count": 139,
     "metadata": {},
     "output_type": "execute_result"
    },
    {
     "data": {
      "image/png": "[encoded data removed]",
      "text/plain": [
       "<matplotlib.figure.Figure at 0x21ae6e96048>"
      ]
     },
     "metadata": {},
     "output_type": "display_data"
    }
   ],
   "source": [
    "#lo mismo pero esta vez con box plot\n",
    "plt.figure(figsize=(14,6))\n",
    "sns.boxplot(x='Region', y='IngTI',data=df_2017)\n",
    "plt.ylim(0,50000)"
   ]
  },
  {
   "cell_type": "code",
   "execution_count": 136,
   "metadata": {},
   "outputs": [
    {
     "name": "stdout",
     "output_type": "stream",
     "text": [
      "40000.0\n",
      "500000.0\n"
     ]
    },
    {
     "data": {
      "text/html": [
       "<div>\n",
       "<style scoped>\n",
       "    .dataframe tbody tr th:only-of-type {\n",
       "        vertical-align: middle;\n",
       "    }\n",
       "\n",
       "    .dataframe tbody tr th {\n",
       "        vertical-align: top;\n",
       "    }\n",
       "\n",
       "    .dataframe thead th {\n",
       "        text-align: right;\n",
       "    }\n",
       "</style>\n",
       "<table border=\"1\" class=\"dataframe\">\n",
       "  <thead>\n",
       "    <tr style=\"text-align: right;\">\n",
       "      <th></th>\n",
       "      <th>Nro_Vivienda</th>\n",
       "      <th>Nro_Hogar</th>\n",
       "      <th>Componente</th>\n",
       "      <th>Region</th>\n",
       "      <th>RelHogar</th>\n",
       "      <th>Sexo</th>\n",
       "      <th>Edad</th>\n",
       "      <th>NivelEd</th>\n",
       "      <th>CondActividad</th>\n",
       "      <th>CatOcupacion</th>\n",
       "      <th>CatInactividad</th>\n",
       "      <th>IngTI</th>\n",
       "      <th>DIngTIG</th>\n",
       "      <th>IngTI_</th>\n",
       "    </tr>\n",
       "  </thead>\n",
       "  <tbody>\n",
       "    <tr>\n",
       "      <th>733013</th>\n",
       "      <td>507965.0</td>\n",
       "      <td>1.0</td>\n",
       "      <td>1.0</td>\n",
       "      <td>Pampeana</td>\n",
       "      <td>1.0</td>\n",
       "      <td>Hombre</td>\n",
       "      <td>71.0</td>\n",
       "      <td>2.0</td>\n",
       "      <td>3.0</td>\n",
       "      <td>0.0</td>\n",
       "      <td>1.0</td>\n",
       "      <td>5900.0</td>\n",
       "      <td>3.0</td>\n",
       "      <td>5900.0</td>\n",
       "    </tr>\n",
       "    <tr>\n",
       "      <th>733014</th>\n",
       "      <td>507965.0</td>\n",
       "      <td>1.0</td>\n",
       "      <td>2.0</td>\n",
       "      <td>Pampeana</td>\n",
       "      <td>2.0</td>\n",
       "      <td>Mujer</td>\n",
       "      <td>66.0</td>\n",
       "      <td>2.0</td>\n",
       "      <td>3.0</td>\n",
       "      <td>0.0</td>\n",
       "      <td>1.0</td>\n",
       "      <td>5900.0</td>\n",
       "      <td>3.0</td>\n",
       "      <td>5900.0</td>\n",
       "    </tr>\n",
       "    <tr>\n",
       "      <th>733015</th>\n",
       "      <td>507965.0</td>\n",
       "      <td>1.0</td>\n",
       "      <td>4.0</td>\n",
       "      <td>Pampeana</td>\n",
       "      <td>5.0</td>\n",
       "      <td>Hombre</td>\n",
       "      <td>20.0</td>\n",
       "      <td>4.0</td>\n",
       "      <td>1.0</td>\n",
       "      <td>3.0</td>\n",
       "      <td>0.0</td>\n",
       "      <td>10000.0</td>\n",
       "      <td>6.0</td>\n",
       "      <td>10000.0</td>\n",
       "    </tr>\n",
       "    <tr>\n",
       "      <th>733016</th>\n",
       "      <td>507893.0</td>\n",
       "      <td>1.0</td>\n",
       "      <td>1.0</td>\n",
       "      <td>Pampeana</td>\n",
       "      <td>1.0</td>\n",
       "      <td>Mujer</td>\n",
       "      <td>47.0</td>\n",
       "      <td>2.0</td>\n",
       "      <td>3.0</td>\n",
       "      <td>0.0</td>\n",
       "      <td>4.0</td>\n",
       "      <td>1900.0</td>\n",
       "      <td>1.0</td>\n",
       "      <td>1900.0</td>\n",
       "    </tr>\n",
       "    <tr>\n",
       "      <th>733017</th>\n",
       "      <td>507893.0</td>\n",
       "      <td>1.0</td>\n",
       "      <td>2.0</td>\n",
       "      <td>Pampeana</td>\n",
       "      <td>2.0</td>\n",
       "      <td>Hombre</td>\n",
       "      <td>43.0</td>\n",
       "      <td>4.0</td>\n",
       "      <td>1.0</td>\n",
       "      <td>3.0</td>\n",
       "      <td>0.0</td>\n",
       "      <td>14000.0</td>\n",
       "      <td>7.0</td>\n",
       "      <td>14000.0</td>\n",
       "    </tr>\n",
       "  </tbody>\n",
       "</table>\n",
       "</div>"
      ],
      "text/plain": [
       "        Nro_Vivienda  Nro_Hogar  Componente    Region  RelHogar    Sexo  Edad  \\\n",
       "733013      507965.0        1.0         1.0  Pampeana       1.0  Hombre  71.0   \n",
       "733014      507965.0        1.0         2.0  Pampeana       2.0   Mujer  66.0   \n",
       "733015      507965.0        1.0         4.0  Pampeana       5.0  Hombre  20.0   \n",
       "733016      507893.0        1.0         1.0  Pampeana       1.0   Mujer  47.0   \n",
       "733017      507893.0        1.0         2.0  Pampeana       2.0  Hombre  43.0   \n",
       "\n",
       "        NivelEd  CondActividad  CatOcupacion  CatInactividad    IngTI  \\\n",
       "733013      2.0            3.0           0.0             1.0   5900.0   \n",
       "733014      2.0            3.0           0.0             1.0   5900.0   \n",
       "733015      4.0            1.0           3.0             0.0  10000.0   \n",
       "733016      2.0            3.0           0.0             4.0   1900.0   \n",
       "733017      4.0            1.0           3.0             0.0  14000.0   \n",
       "\n",
       "        DIngTIG   IngTI_  \n",
       "733013      3.0   5900.0  \n",
       "733014      3.0   5900.0  \n",
       "733015      6.0  10000.0  \n",
       "733016      1.0   1900.0  \n",
       "733017      7.0  14000.0  "
      ]
     },
     "execution_count": 136,
     "metadata": {},
     "output_type": "execute_result"
    }
   ],
   "source": [
    "#3\n",
    "def f_IngTI(x):\n",
    "    if(x>40000):\n",
    "        return 40000\n",
    "    else:\n",
    "        return x\n",
    "    \n",
    "\n",
    "df_2017[\"IngTI_\"]=df_2017.IngTI.apply(f_IngTI)\n",
    "print(df_2017.IngTI_.max())\n",
    "print(df_2017.IngTI.max())\n",
    "df_2017.head()"
   ]
  },
  {
   "cell_type": "code",
   "execution_count": 138,
   "metadata": {},
   "outputs": [
    {
     "data": {
      "text/plain": [
       "<matplotlib.axes._subplots.AxesSubplot at 0x21ae6d987b8>"
      ]
     },
     "execution_count": 138,
     "metadata": {},
     "output_type": "execute_result"
    },
    {
     "data": {
      "image/png": "[encoded data removed]",
      "text/plain": [
       "<matplotlib.figure.Figure at 0x21ae6f33160>"
      ]
     },
     "metadata": {},
     "output_type": "display_data"
    }
   ],
   "source": [
    "plt.figure(figsize=(14,6))\n",
    "sns.boxplot(x='Region', y='IngTI_', data=df_2017)"
   ]
  },
  {
   "cell_type": "code",
   "execution_count": 140,
   "metadata": {},
   "outputs": [
    {
     "data": {
      "text/plain": [
       "<matplotlib.axes._subplots.AxesSubplot at 0x21ae6e71898>"
      ]
     },
     "execution_count": 140,
     "metadata": {},
     "output_type": "execute_result"
    },
    {
     "data": {
      "image/png": "[encoded data removed]",
      "text/plain": [
       "<matplotlib.figure.Figure at 0x21ae4478588>"
      ]
     },
     "metadata": {},
     "output_type": "display_data"
    }
   ],
   "source": [
    "#4\n",
    "plt.figure(figsize=(14,6))\n",
    "sns.boxplot(x='Region', y='IngTI_',hue=\"Sexo\", data=df_2017,palette=colors)"
   ]
  },
  {
   "cell_type": "code",
   "execution_count": 108,
   "metadata": {},
   "outputs": [
    {
     "data": {
      "text/plain": [
       "Pampeana     8345\n",
       "NOA          6685\n",
       "GBA          5200\n",
       "Patagonia    3578\n",
       "Cuyo         3318\n",
       "NEA          2890\n",
       "Name: Region, dtype: int64"
      ]
     },
     "execution_count": 108,
     "metadata": {},
     "output_type": "execute_result"
    }
   ],
   "source": [
    "#5 \n",
    "#en este ultimo grafico se puede observar que la media de los ingresos Totales individuales en todas las regiones (y en 2017):\n",
    "#es siempre mayor para los hombres que para las mujeres."
   ]
  },
  {
   "cell_type": "markdown",
   "metadata": {},
   "source": [
    "**Ejercicio 4:**  Generar un nuevo DataFrame a partir de **df** que se llame **dfGBA** y contenga solo los datos de personas encuestadas en el Gran Buenos Aires (GBA) y con ingresos mayores a cero. Usando este nuevo DataFrame:\n",
    " 1. Calcular el ingreso total individual (IngTI) medio en GBA para cada año. \n",
    " 1. Realizar un boxplot (o violin plot) comparando la distribución de los ingresos en cada año.\n",
    " 1. Agregar una nueva columna al dfGBA llamada \"IngRel\" (ingresos relativos) que contenga, para cada encuestado, el cociente entre sus ingresos y el ingreso medio de ese año, calculado en el primer punto. Repetir el gráfico anterior usando la nueva columna en lugar de \"IngTI\". Repetir el gráfico anterior usando los ingresos relativos en lugar de los ingresos.\n",
    " 1. Modificar los límites del eje vertical del último gráfico para que vayan entre 0 y 3, de forma de visualizar mejor la información.\n",
    " 1. Repetir el último gráfico (comparando la distribución de los ingresos relativo en cada año) separando los datos por género.\n",
    " 1. Describa brevemente lo observa en este último gráfico."
   ]
  },
  {
   "cell_type": "code",
   "execution_count": 117,
   "metadata": {},
   "outputs": [
    {
     "data": {
      "text/html": [
       "<div>\n",
       "<style scoped>\n",
       "    .dataframe tbody tr th:only-of-type {\n",
       "        vertical-align: middle;\n",
       "    }\n",
       "\n",
       "    .dataframe tbody tr th {\n",
       "        vertical-align: top;\n",
       "    }\n",
       "\n",
       "    .dataframe thead th {\n",
       "        text-align: right;\n",
       "    }\n",
       "</style>\n",
       "<table border=\"1\" class=\"dataframe\">\n",
       "  <thead>\n",
       "    <tr style=\"text-align: right;\">\n",
       "      <th></th>\n",
       "      <th>Nro_Vivienda</th>\n",
       "      <th>Nro_Hogar</th>\n",
       "      <th>Componente</th>\n",
       "      <th>Ano</th>\n",
       "      <th>RelHogar</th>\n",
       "      <th>Sexo</th>\n",
       "      <th>Edad</th>\n",
       "      <th>NivelEd</th>\n",
       "      <th>CondActividad</th>\n",
       "      <th>CatOcupacion</th>\n",
       "      <th>CatInactividad</th>\n",
       "      <th>IngTI</th>\n",
       "      <th>DIngTIG</th>\n",
       "    </tr>\n",
       "  </thead>\n",
       "  <tbody>\n",
       "    <tr>\n",
       "      <th>1</th>\n",
       "      <td>125111.0</td>\n",
       "      <td>1.0</td>\n",
       "      <td>2.0</td>\n",
       "      <td>2004.0</td>\n",
       "      <td>2.0</td>\n",
       "      <td>Mujer</td>\n",
       "      <td>52.0</td>\n",
       "      <td>4.0</td>\n",
       "      <td>1.0</td>\n",
       "      <td>3.0</td>\n",
       "      <td>0.0</td>\n",
       "      <td>1000.0</td>\n",
       "      <td>9.0</td>\n",
       "    </tr>\n",
       "    <tr>\n",
       "      <th>2</th>\n",
       "      <td>125458.0</td>\n",
       "      <td>1.0</td>\n",
       "      <td>1.0</td>\n",
       "      <td>2004.0</td>\n",
       "      <td>1.0</td>\n",
       "      <td>Hombre</td>\n",
       "      <td>26.0</td>\n",
       "      <td>3.0</td>\n",
       "      <td>1.0</td>\n",
       "      <td>3.0</td>\n",
       "      <td>0.0</td>\n",
       "      <td>1000.0</td>\n",
       "      <td>9.0</td>\n",
       "    </tr>\n",
       "    <tr>\n",
       "      <th>3</th>\n",
       "      <td>125458.0</td>\n",
       "      <td>1.0</td>\n",
       "      <td>2.0</td>\n",
       "      <td>2004.0</td>\n",
       "      <td>2.0</td>\n",
       "      <td>Mujer</td>\n",
       "      <td>23.0</td>\n",
       "      <td>6.0</td>\n",
       "      <td>1.0</td>\n",
       "      <td>3.0</td>\n",
       "      <td>0.0</td>\n",
       "      <td>600.0</td>\n",
       "      <td>7.0</td>\n",
       "    </tr>\n",
       "    <tr>\n",
       "      <th>5</th>\n",
       "      <td>125558.0</td>\n",
       "      <td>1.0</td>\n",
       "      <td>1.0</td>\n",
       "      <td>2004.0</td>\n",
       "      <td>1.0</td>\n",
       "      <td>Hombre</td>\n",
       "      <td>54.0</td>\n",
       "      <td>2.0</td>\n",
       "      <td>1.0</td>\n",
       "      <td>2.0</td>\n",
       "      <td>0.0</td>\n",
       "      <td>2500.0</td>\n",
       "      <td>10.0</td>\n",
       "    </tr>\n",
       "    <tr>\n",
       "      <th>7</th>\n",
       "      <td>125558.0</td>\n",
       "      <td>1.0</td>\n",
       "      <td>3.0</td>\n",
       "      <td>2004.0</td>\n",
       "      <td>3.0</td>\n",
       "      <td>Mujer</td>\n",
       "      <td>25.0</td>\n",
       "      <td>5.0</td>\n",
       "      <td>1.0</td>\n",
       "      <td>2.0</td>\n",
       "      <td>0.0</td>\n",
       "      <td>120.0</td>\n",
       "      <td>1.0</td>\n",
       "    </tr>\n",
       "  </tbody>\n",
       "</table>\n",
       "</div>"
      ],
      "text/plain": [
       "   Nro_Vivienda  Nro_Hogar  Componente     Ano  RelHogar    Sexo  Edad  \\\n",
       "1      125111.0        1.0         2.0  2004.0       2.0   Mujer  52.0   \n",
       "2      125458.0        1.0         1.0  2004.0       1.0  Hombre  26.0   \n",
       "3      125458.0        1.0         2.0  2004.0       2.0   Mujer  23.0   \n",
       "5      125558.0        1.0         1.0  2004.0       1.0  Hombre  54.0   \n",
       "7      125558.0        1.0         3.0  2004.0       3.0   Mujer  25.0   \n",
       "\n",
       "   NivelEd  CondActividad  CatOcupacion  CatInactividad   IngTI  DIngTIG  \n",
       "1      4.0            1.0           3.0             0.0  1000.0      9.0  \n",
       "2      3.0            1.0           3.0             0.0  1000.0      9.0  \n",
       "3      6.0            1.0           3.0             0.0   600.0      7.0  \n",
       "5      2.0            1.0           2.0             0.0  2500.0     10.0  \n",
       "7      5.0            1.0           2.0             0.0   120.0      1.0  "
      ]
     },
     "execution_count": 117,
     "metadata": {},
     "output_type": "execute_result"
    }
   ],
   "source": [
    "df_GBA=pd.DataFrame(df[(df.Region==\"GBA\") & (df.IngTI>0)])\n",
    "df_GBA.drop(\"Region\",axis=1,inplace=True)\n",
    "df_GBA.head()"
   ]
  },
  {
   "cell_type": "code",
   "execution_count": 156,
   "metadata": {},
   "outputs": [
    {
     "data": {
      "text/html": [
       "<div>\n",
       "<style scoped>\n",
       "    .dataframe tbody tr th:only-of-type {\n",
       "        vertical-align: middle;\n",
       "    }\n",
       "\n",
       "    .dataframe tbody tr th {\n",
       "        vertical-align: top;\n",
       "    }\n",
       "\n",
       "    .dataframe thead th {\n",
       "        text-align: right;\n",
       "    }\n",
       "</style>\n",
       "<table border=\"1\" class=\"dataframe\">\n",
       "  <thead>\n",
       "    <tr style=\"text-align: right;\">\n",
       "      <th></th>\n",
       "      <th>IngTI</th>\n",
       "    </tr>\n",
       "    <tr>\n",
       "      <th>Ano</th>\n",
       "      <th></th>\n",
       "    </tr>\n",
       "  </thead>\n",
       "  <tbody>\n",
       "    <tr>\n",
       "      <th>2004.0</th>\n",
       "      <td>702.888113</td>\n",
       "    </tr>\n",
       "    <tr>\n",
       "      <th>2005.0</th>\n",
       "      <td>810.355673</td>\n",
       "    </tr>\n",
       "    <tr>\n",
       "      <th>2006.0</th>\n",
       "      <td>992.498419</td>\n",
       "    </tr>\n",
       "    <tr>\n",
       "      <th>2007.0</th>\n",
       "      <td>1202.038070</td>\n",
       "    </tr>\n",
       "    <tr>\n",
       "      <th>2008.0</th>\n",
       "      <td>1531.931269</td>\n",
       "    </tr>\n",
       "    <tr>\n",
       "      <th>2009.0</th>\n",
       "      <td>1834.330656</td>\n",
       "    </tr>\n",
       "    <tr>\n",
       "      <th>2010.0</th>\n",
       "      <td>2121.307629</td>\n",
       "    </tr>\n",
       "    <tr>\n",
       "      <th>2011.0</th>\n",
       "      <td>2839.946015</td>\n",
       "    </tr>\n",
       "    <tr>\n",
       "      <th>2012.0</th>\n",
       "      <td>3475.649504</td>\n",
       "    </tr>\n",
       "    <tr>\n",
       "      <th>2013.0</th>\n",
       "      <td>4281.957781</td>\n",
       "    </tr>\n",
       "    <tr>\n",
       "      <th>2014.0</th>\n",
       "      <td>5615.583054</td>\n",
       "    </tr>\n",
       "    <tr>\n",
       "      <th>2015.0</th>\n",
       "      <td>7204.901755</td>\n",
       "    </tr>\n",
       "    <tr>\n",
       "      <th>2016.0</th>\n",
       "      <td>10123.051433</td>\n",
       "    </tr>\n",
       "    <tr>\n",
       "      <th>2017.0</th>\n",
       "      <td>12923.784231</td>\n",
       "    </tr>\n",
       "  </tbody>\n",
       "</table>\n",
       "</div>"
      ],
      "text/plain": [
       "               IngTI\n",
       "Ano                 \n",
       "2004.0    702.888113\n",
       "2005.0    810.355673\n",
       "2006.0    992.498419\n",
       "2007.0   1202.038070\n",
       "2008.0   1531.931269\n",
       "2009.0   1834.330656\n",
       "2010.0   2121.307629\n",
       "2011.0   2839.946015\n",
       "2012.0   3475.649504\n",
       "2013.0   4281.957781\n",
       "2014.0   5615.583054\n",
       "2015.0   7204.901755\n",
       "2016.0  10123.051433\n",
       "2017.0  12923.784231"
      ]
     },
     "execution_count": 156,
     "metadata": {},
     "output_type": "execute_result"
    }
   ],
   "source": [
    "#1\n",
    "df_GBA.groupby(\"Ano\")[[\"IngTI\"]].mean()"
   ]
  },
  {
   "cell_type": "code",
   "execution_count": 145,
   "metadata": {},
   "outputs": [
    {
     "data": {
      "text/plain": [
       "<matplotlib.axes._subplots.AxesSubplot at 0x21ae6e5f4e0>"
      ]
     },
     "execution_count": 145,
     "metadata": {},
     "output_type": "execute_result"
    },
    {
     "data": {
      "image/png": "[encoded data removed]",
      "text/plain": [
       "<matplotlib.figure.Figure at 0x21ae4506160>"
      ]
     },
     "metadata": {},
     "output_type": "display_data"
    }
   ],
   "source": [
    "#2\n",
    "plt.figure(figsize=(14,6))\n",
    "sns.boxplot(x='Ano', y='IngTI',data=df_GBA)"
   ]
  },
  {
   "cell_type": "code",
   "execution_count": 200,
   "metadata": {},
   "outputs": [
    {
     "data": {
      "text/html": [
       "<div>\n",
       "<style scoped>\n",
       "    .dataframe tbody tr th:only-of-type {\n",
       "        vertical-align: middle;\n",
       "    }\n",
       "\n",
       "    .dataframe tbody tr th {\n",
       "        vertical-align: top;\n",
       "    }\n",
       "\n",
       "    .dataframe thead th {\n",
       "        text-align: right;\n",
       "    }\n",
       "</style>\n",
       "<table border=\"1\" class=\"dataframe\">\n",
       "  <thead>\n",
       "    <tr style=\"text-align: right;\">\n",
       "      <th></th>\n",
       "      <th>Nro_Vivienda</th>\n",
       "      <th>Nro_Hogar</th>\n",
       "      <th>Componente</th>\n",
       "      <th>Ano</th>\n",
       "      <th>RelHogar</th>\n",
       "      <th>Sexo</th>\n",
       "      <th>Edad</th>\n",
       "      <th>NivelEd</th>\n",
       "      <th>CondActividad</th>\n",
       "      <th>CatOcupacion</th>\n",
       "      <th>CatInactividad</th>\n",
       "      <th>IngTI</th>\n",
       "      <th>DIngTIG</th>\n",
       "      <th>IngRel</th>\n",
       "    </tr>\n",
       "  </thead>\n",
       "  <tbody>\n",
       "    <tr>\n",
       "      <th>1</th>\n",
       "      <td>125111.0</td>\n",
       "      <td>1.0</td>\n",
       "      <td>2.0</td>\n",
       "      <td>2004.0</td>\n",
       "      <td>2.0</td>\n",
       "      <td>Mujer</td>\n",
       "      <td>52.0</td>\n",
       "      <td>4.0</td>\n",
       "      <td>1.0</td>\n",
       "      <td>3.0</td>\n",
       "      <td>0.0</td>\n",
       "      <td>1000.0</td>\n",
       "      <td>9.0</td>\n",
       "      <td>1.422702</td>\n",
       "    </tr>\n",
       "    <tr>\n",
       "      <th>2</th>\n",
       "      <td>125458.0</td>\n",
       "      <td>1.0</td>\n",
       "      <td>1.0</td>\n",
       "      <td>2004.0</td>\n",
       "      <td>1.0</td>\n",
       "      <td>Hombre</td>\n",
       "      <td>26.0</td>\n",
       "      <td>3.0</td>\n",
       "      <td>1.0</td>\n",
       "      <td>3.0</td>\n",
       "      <td>0.0</td>\n",
       "      <td>1000.0</td>\n",
       "      <td>9.0</td>\n",
       "      <td>1.422702</td>\n",
       "    </tr>\n",
       "    <tr>\n",
       "      <th>3</th>\n",
       "      <td>125458.0</td>\n",
       "      <td>1.0</td>\n",
       "      <td>2.0</td>\n",
       "      <td>2004.0</td>\n",
       "      <td>2.0</td>\n",
       "      <td>Mujer</td>\n",
       "      <td>23.0</td>\n",
       "      <td>6.0</td>\n",
       "      <td>1.0</td>\n",
       "      <td>3.0</td>\n",
       "      <td>0.0</td>\n",
       "      <td>600.0</td>\n",
       "      <td>7.0</td>\n",
       "      <td>0.853621</td>\n",
       "    </tr>\n",
       "    <tr>\n",
       "      <th>5</th>\n",
       "      <td>125558.0</td>\n",
       "      <td>1.0</td>\n",
       "      <td>1.0</td>\n",
       "      <td>2004.0</td>\n",
       "      <td>1.0</td>\n",
       "      <td>Hombre</td>\n",
       "      <td>54.0</td>\n",
       "      <td>2.0</td>\n",
       "      <td>1.0</td>\n",
       "      <td>2.0</td>\n",
       "      <td>0.0</td>\n",
       "      <td>2500.0</td>\n",
       "      <td>10.0</td>\n",
       "      <td>3.556754</td>\n",
       "    </tr>\n",
       "    <tr>\n",
       "      <th>7</th>\n",
       "      <td>125558.0</td>\n",
       "      <td>1.0</td>\n",
       "      <td>3.0</td>\n",
       "      <td>2004.0</td>\n",
       "      <td>3.0</td>\n",
       "      <td>Mujer</td>\n",
       "      <td>25.0</td>\n",
       "      <td>5.0</td>\n",
       "      <td>1.0</td>\n",
       "      <td>2.0</td>\n",
       "      <td>0.0</td>\n",
       "      <td>120.0</td>\n",
       "      <td>1.0</td>\n",
       "      <td>0.170724</td>\n",
       "    </tr>\n",
       "  </tbody>\n",
       "</table>\n",
       "</div>"
      ],
      "text/plain": [
       "   Nro_Vivienda  Nro_Hogar  Componente     Ano  RelHogar    Sexo  Edad  \\\n",
       "1      125111.0        1.0         2.0  2004.0       2.0   Mujer  52.0   \n",
       "2      125458.0        1.0         1.0  2004.0       1.0  Hombre  26.0   \n",
       "3      125458.0        1.0         2.0  2004.0       2.0   Mujer  23.0   \n",
       "5      125558.0        1.0         1.0  2004.0       1.0  Hombre  54.0   \n",
       "7      125558.0        1.0         3.0  2004.0       3.0   Mujer  25.0   \n",
       "\n",
       "   NivelEd  CondActividad  CatOcupacion  CatInactividad   IngTI  DIngTIG  \\\n",
       "1      4.0            1.0           3.0             0.0  1000.0      9.0   \n",
       "2      3.0            1.0           3.0             0.0  1000.0      9.0   \n",
       "3      6.0            1.0           3.0             0.0   600.0      7.0   \n",
       "5      2.0            1.0           2.0             0.0  2500.0     10.0   \n",
       "7      5.0            1.0           2.0             0.0   120.0      1.0   \n",
       "\n",
       "     IngRel  \n",
       "1  1.422702  \n",
       "2  1.422702  \n",
       "3  0.853621  \n",
       "5  3.556754  \n",
       "7  0.170724  "
      ]
     },
     "execution_count": 200,
     "metadata": {},
     "output_type": "execute_result"
    }
   ],
   "source": [
    "#3\n",
    "def f_IngRel(df):\n",
    "    result=[]\n",
    "    for a in range(2004,2018):\n",
    "        m=df[df.Ano==a].mean().IngTI\n",
    "        for i in df[df.Ano == a].IngTI:\n",
    "            result.append(i/m)\n",
    "    return result\n",
    "\n",
    "\n",
    "#df_aux=pd.DataFrame(df[df.Nro_Vivienda==125111.0])\n",
    "df_GBA[\"IngRel\"]=f_IngRel(df_GBA)\n",
    "df_GBA.head()"
   ]
  },
  {
   "cell_type": "code",
   "execution_count": null,
   "metadata": {},
   "outputs": [],
   "source": [
    "#otra forma no muy eficiente\n",
    "def f_IngRel(df):\n",
    "    result=[]\n",
    "    x=df.IngTI\n",
    "    y=df.Ano\n",
    "    zipped=zip(x,y)\n",
    "    for a,b in zipped:\n",
    "        result.append(a/(df[df.Ano==b].mean().IngTI))\n",
    "    return result\n",
    "\n",
    "df_aux=pd.DataFrame(df[df.Nro_Vivienda==125111.0])\n",
    "f_IngRel(df_aux)\n"
   ]
  },
  {
   "cell_type": "code",
   "execution_count": 199,
   "metadata": {},
   "outputs": [
    {
     "data": {
      "text/plain": [
       "<matplotlib.axes._subplots.AxesSubplot at 0x21cf69e34a8>"
      ]
     },
     "execution_count": 199,
     "metadata": {},
     "output_type": "execute_result"
    },
    {
     "data": {
      "image/png": "[encoded data removed]",
      "text/plain": [
       "<matplotlib.figure.Figure at 0x21affbc86a0>"
      ]
     },
     "metadata": {},
     "output_type": "display_data"
    }
   ],
   "source": [
    "plt.figure(figsize=(14,6))\n",
    "sns.boxplot(x='Ano', y='IngRel',data=df_GBA)"
   ]
  },
  {
   "cell_type": "code",
   "execution_count": 201,
   "metadata": {},
   "outputs": [
    {
     "data": {
      "text/plain": [
       "(0, 3)"
      ]
     },
     "execution_count": 201,
     "metadata": {},
     "output_type": "execute_result"
    },
    {
     "data": {
      "image/png": "[encoded data removed]",
      "text/plain": [
       "<matplotlib.figure.Figure at 0x21cf69fd828>"
      ]
     },
     "metadata": {},
     "output_type": "display_data"
    }
   ],
   "source": [
    "#4\n",
    "plt.figure(figsize=(14,6))\n",
    "sns.boxplot(x='Ano', y='IngRel',data=df_GBA)\n",
    "plt.ylim(0,3)"
   ]
  },
  {
   "cell_type": "code",
   "execution_count": 203,
   "metadata": {},
   "outputs": [
    {
     "data": {
      "text/plain": [
       "(0, 3)"
      ]
     },
     "execution_count": 203,
     "metadata": {},
     "output_type": "execute_result"
    },
    {
     "data": {
      "image/png": "[encoded data removed]",
      "text/plain": [
       "<matplotlib.figure.Figure at 0x21b89ac7208>"
      ]
     },
     "metadata": {},
     "output_type": "display_data"
    }
   ],
   "source": [
    "#5\n",
    "plt.figure(figsize=(14,6))\n",
    "sns.boxplot(x='Ano', y='IngRel',hue=\"Sexo\",data=df_GBA, palette=colors)\n",
    "plt.ylim(0,3)"
   ]
  },
  {
   "cell_type": "code",
   "execution_count": 209,
   "metadata": {},
   "outputs": [],
   "source": [
    "#6\n",
    "#en el ultimo grafico se ve como la Relacion entre Ingreso Total de cada individuo y el promedio del año se mantuvo relativamente constante.\n",
    "#y que de todas formas la dsesigualdad de genero se matuvo constante a travez de los años"
   ]
  },
  {
   "cell_type": "markdown",
   "metadata": {},
   "source": [
    "El **coeficiente de Gini** se utiliza para medir la desigualdad en los ingresos en una población. Si los ingresos de una población de $n$ personas están dados por $x_1, x_2, \\ldots, x_n$, entonces su coeficiente de Gini se define como\n",
    "\n",
    "$$ G = \\frac{\\displaystyle{\\sum_{i=1}^n \\sum_{j=1}^n \\left| x_i - x_j \\right|}}{\\displaystyle{2n\\sum_{i=1}^n x_i}}.$$\n",
    "\n",
    "Este coeficiente es un número entre 0 y 1, en donde 0 representa la perfecta igualdad (todos tienen los mismos ingresos) y el valor 1 representa la máxima concentración (una persona tiene todos los ingresos y los demás ninguno).\n",
    "\n",
    "**Ejercicio 5:** \n",
    "1. Implementar una función que reciba un vector de ingresos y devuelva su coficiente de Gini.\n",
    "1. A partir de dfGBA, generar una Serie Gini_GBA que contenga como índice los años y como dato el coeficiente de Gini de GBA ese año.\n",
    "1. Graficar los resultados obtenidos.\n",
    "1. Describa brevemente lo observa en este gráfico."
   ]
  },
  {
   "cell_type": "code",
   "execution_count": 284,
   "metadata": {},
   "outputs": [],
   "source": [
    "#1\n",
    "def f_mod(x):\n",
    "    if(x<0):\n",
    "        return (-1)*x\n",
    "    else:\n",
    "        return x\n",
    "    \n",
    "def Gini(v):\n",
    "    v=np.array(v)\n",
    "    n=v.size\n",
    "    sum=0\n",
    "    for i in range(0,n):\n",
    "        for j in range(0,n):\n",
    "            sum=sum+ f_mod(v[i]-v[j])\n",
    "\n",
    "    den=(2*n*v.sum())\n",
    "    return sum/den\n",
    "\n",
    "    "
   ]
  },
  {
   "cell_type": "code",
   "execution_count": 266,
   "metadata": {},
   "outputs": [
    {
     "data": {
      "text/plain": [
       "0.6666666666666666"
      ]
     },
     "execution_count": 266,
     "metadata": {},
     "output_type": "execute_result"
    }
   ],
   "source": [
    "x=np.array([0,100])\n",
    "Gini(x)"
   ]
  },
  {
   "cell_type": "code",
   "execution_count": 262,
   "metadata": {},
   "outputs": [
    {
     "data": {
      "text/plain": [
       "0.0"
      ]
     },
     "execution_count": 262,
     "metadata": {},
     "output_type": "execute_result"
    }
   ],
   "source": [
    "x=np.array([1,1,1,1,1])\n",
    "Gini(x)"
   ]
  },
  {
   "cell_type": "code",
   "execution_count": 263,
   "metadata": {},
   "outputs": [
    {
     "data": {
      "text/plain": [
       "0.1065918653576437"
      ]
     },
     "execution_count": 263,
     "metadata": {},
     "output_type": "execute_result"
    }
   ],
   "source": [
    "x=np.array([1.33,1.3,2.0,1.1,1.4])\n",
    "Gini(x)"
   ]
  },
  {
   "cell_type": "code",
   "execution_count": null,
   "metadata": {},
   "outputs": [],
   "source": [
    "\n",
    "2#\n",
    "Gini_GBA=pd.Series()\n",
    "n=0\n",
    "for i in range (2004,2018):\n",
    "    Gini_GBA.set_value(n,Gini(df_GBA[df_GBA.Ano==i].IngTI))\n",
    "    n=n+1\n",
    "Gini_GBA\n"
   ]
  },
  {
   "cell_type": "code",
   "execution_count": null,
   "metadata": {},
   "outputs": [],
   "source": [
    "df_GBA[df_GBA.Ano==2004].groupby(\"Ano\")[[\"IngTI\"]].apply(Gini)"
   ]
  },
  {
   "cell_type": "code",
   "execution_count": null,
   "metadata": {},
   "outputs": [],
   "source": [
    "#3\n",
    "Gini_GBA.plot(kind=\"bar\")"
   ]
  }
 ],
 "metadata": {
  "kernelspec": {
   "display_name": "Python 3",
   "language": "python",
   "name": "python3"
  },
  "language_info": {
   "codemirror_mode": {
    "name": "ipython",
    "version": 3
   },
   "file_extension": ".py",
   "mimetype": "text/x-python",
   "name": "python",
   "nbconvert_exporter": "python",
   "pygments_lexer": "ipython3",
   "version": "3.6.4"
  }
 },
 "nbformat": 4,
 "nbformat_minor": 2
}
