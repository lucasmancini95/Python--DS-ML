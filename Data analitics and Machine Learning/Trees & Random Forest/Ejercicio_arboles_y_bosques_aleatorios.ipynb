{
 "cells": [
  {
   "cell_type": "markdown",
   "metadata": {},
   "source": [
    "## Ejercicio: Arboles de decision\n",
    "\n",
    "<br> 1) Crear un DataFrame (df) con la base de datos Titanic.csv:<br>"
   ]
  },
  {
   "cell_type": "markdown",
   "metadata": {},
   "source": [
    "<br> a) ¿Existen valores NANs en el df? ¿En qué variables aparecen? ¿De qué tipo son esas variables? (categóricas, continuas).\n",
    "Una opción sería eliminar los datos donde se presentan NANs. Otra opción es reemplazar los NANs por valores razonables y no perder ese dato. ¿Cómo completaría los NANs presentes en variables que indican categoría?\n",
    "¿Y en los casos de las variables continuas?\n",
    "Realizar los cambios necesarios para obtener un df sin NANs y sin eliminar ninguna fila. <br>"
   ]
  },
  {
   "cell_type": "code",
   "execution_count": 36,
   "metadata": {},
   "outputs": [
    {
     "name": "stdout",
     "output_type": "stream",
     "text": [
      "El atributo Age tiene 263 valores NaN\n",
      "El atributo Fare tiene 1 valores NaN\n",
      "El atributo Cabin tiene 1014 valores NaN\n",
      "El atributo Embarked tiene 2 valores NaN\n"
     ]
    }
   ],
   "source": [
    "import pandas as pd\n",
    "\n",
    "df_titanic = pd.read_csv('Titanic.csv')\n",
    "\n",
    "\n",
    "#Veo los atributos que tienen NaNs y cuantos tienen\n",
    "cant_pasajeros = df_titanic['PassengerId'].size\n",
    "for atribute in df_titanic.columns:\n",
    "    if df_titanic[atribute].isnull().sum() != 0:\n",
    "        print('El atributo {0} tiene {1} valores NaN'.format(atribute, df_titanic[atribute].isnull().sum()))\n"
   ]
  },
  {
   "cell_type": "code",
   "execution_count": 37,
   "metadata": {},
   "outputs": [
    {
     "name": "stdout",
     "output_type": "stream",
     "text": [
      "Hay en total 1014 NaN en cabin, no tiene sentido considerarlo como atributo valioso ya que el %77.46371275783041 de los datos estan faltantes.\n"
     ]
    }
   ],
   "source": [
    "#Limpio el df, asignando valores a los NaN.\n",
    "\n",
    "#Atributo Cabin:\n",
    "print('Hay en total 1014 NaN en cabin, no tiene sentido considerarlo como atributo valioso ya que el %{0} de los datos estan faltantes.'.format(1014/cant_pasajeros * 100))\n",
    "df_titanic = df_titanic.drop('Cabin', axis=1)"
   ]
  },
  {
   "cell_type": "code",
   "execution_count": 38,
   "metadata": {},
   "outputs": [
    {
     "name": "stdout",
     "output_type": "stream",
     "text": [
      "Busco la edad promedio de los pasajeros segun el sexo y lleno los NaN de cada sexo con el promedio. Edad promedio de mujeres: 28.68708762886598. Edad promedio de hombres: 30.58522796352584\n"
     ]
    }
   ],
   "source": [
    "#Atributo Age: Busco la edad promedio de los hombres y de las mujeres y lleno los NaN correspondientes con este promedio.\n",
    "\n",
    "edad_prom_hombres = df_titanic[(df_titanic['Age'].isnull() == False) & (df_titanic['Sex'] == 'male')].Age.mean()\n",
    "edad_prom_mujeres = df_titanic[(df_titanic['Age'].isnull() == False) & (df_titanic['Sex'] == 'female')].Age.mean()\n",
    "df_titanic.iloc[df_titanic[df_titanic['Sex']=='male'].index] = df_titanic.iloc[df_titanic[df_titanic['Sex']=='male'].index].fillna(value={'Age':edad_prom_hombres})\n",
    "df_titanic.iloc[df_titanic[df_titanic['Sex']=='female'].index] = df_titanic.iloc[df_titanic[df_titanic['Sex']=='female'].index].fillna(value={'Age':edad_prom_mujeres})\n",
    "print('Busco la edad promedio de los pasajeros segun el sexo y lleno los NaN de cada sexo con el promedio. Edad promedio de mujeres: {0}. Edad promedio de hombres: {1}'.format(edad_prom_mujeres, edad_prom_hombres))"
   ]
  },
  {
   "cell_type": "code",
   "execution_count": 39,
   "metadata": {},
   "outputs": [],
   "source": [
    "#Atributo Fare: Al ser uno solo, lo lleno con la tarifa promedio\n",
    "df_titanic.iloc[df_titanic[df_titanic.Fare.isnull()==True].index] = df_titanic.iloc[df_titanic[df_titanic.Fare.isnull()==True].index].fillna(value={'Fare':df_titanic.Fare.mean()})\n",
    "#Atributo Embarked: Al ser solo dos valores, me fijo donde embarco el promedio y se lo asigno a estos NaN\n",
    "df_titanic.iloc[df_titanic[df_titanic.Embarked.isnull()==True].index] = df_titanic.iloc[df_titanic[df_titanic.Embarked.isnull()==True].index].fillna(value={'Embarked':df_titanic.Embarked.describe().top})"
   ]
  },
  {
   "cell_type": "code",
   "execution_count": 40,
   "metadata": {},
   "outputs": [
    {
     "name": "stdout",
     "output_type": "stream",
     "text": [
      "Luego de esta limpieza no hay mas valores NaN en los datos. \n",
      "PassengerId    0\n",
      "Survived       0\n",
      "Pclass         0\n",
      "Name           0\n",
      "Sex            0\n",
      "Age            0\n",
      "SibSp          0\n",
      "Parch          0\n",
      "Ticket         0\n",
      "Fare           0\n",
      "Embarked       0\n",
      "dtype: int64\n"
     ]
    }
   ],
   "source": [
    "print('Luego de esta limpieza no hay mas valores NaN en los datos. \\n{0}'.format(df_titanic.isnull().sum()))"
   ]
  },
  {
   "cell_type": "markdown",
   "metadata": {},
   "source": [
    "<br> b) Crear una variable $X$ con las columnas Pclass, Sex, Age, Fare, Embarked y una variable $y$ con las columna Survived. <br>"
   ]
  },
  {
   "cell_type": "code",
   "execution_count": 41,
   "metadata": {},
   "outputs": [],
   "source": [
    "X = df_titanic[['Pclass', 'Sex', 'Age', 'Fare', 'Embarked']]\n",
    "Y = df_titanic.Survived"
   ]
  },
  {
   "cell_type": "markdown",
   "metadata": {},
   "source": [
    "<br> c) Crear $X_{train}, X_{test}, y_{train}, y_{test}$. <br>"
   ]
  },
  {
   "cell_type": "code",
   "execution_count": 46,
   "metadata": {},
   "outputs": [
    {
     "data": {
      "text/plain": [
       "array(['female', 'male'], dtype=object)"
      ]
     },
     "execution_count": 46,
     "metadata": {},
     "output_type": "execute_result"
    }
   ],
   "source": [
    "#Como mas adelante pide que use el DecisionTreeClassifier, este me pide que los valores que tomen los atributos no sean string, debo preprocesar antes Sex y Embarked.\n",
    "#La libreria Preprocessing de sklearn me facilita esto\n",
    "from sklearn.preprocessing import LabelEncoder\n",
    "# con esta funcion puedo ver si alguna columna son string --> isinstance(df_titanic.Sex[0],str)\n",
    "le = LabelEncoder()\n",
    "le.fit(X.Sex)\n",
    "sex_encoded = le.transform(X.Sex)\n",
    "X = X.drop('Sex', axis=1).iloc[:]\n",
    "X['Sex'] = sex_encoded\n",
    "le.classes_"
   ]
  },
  {
   "cell_type": "code",
   "execution_count": 34,
   "metadata": {},
   "outputs": [
    {
     "data": {
      "text/plain": [
       "array(['C', 'Q', 'S'], dtype=object)"
      ]
     },
     "execution_count": 34,
     "metadata": {},
     "output_type": "execute_result"
    }
   ],
   "source": [
    "#Exactamente lo mismo para embarked\n",
    "le.fit(X.Embarked)\n",
    "emb_encoded = le.transform(X.Embarked)\n",
    "X = X.drop('Embarked', axis=1).iloc[:]\n",
    "X['Embarked'] = emb_encoded\n",
    "le.classes_\n"
   ]
  },
  {
   "cell_type": "code",
   "execution_count": 9,
   "metadata": {},
   "outputs": [],
   "source": [
    "#otra forma de hacer esto para todas las columnas al mismo tiempo es:\n",
    "columnas_no_numericas=[\"Sex\",\"Embarked\"]\n",
    "for col in (df_titanic[columnas_no_numericas]).columns:\n",
    "    df_titanic[col] = pd.Categorical(df_titanic[col] ).codes\n",
    "X = df_titanic[['Pclass', 'Sex', 'Age', 'Fare', 'Embarked']]\n",
    "Y = df_titanic.Survived"
   ]
  },
  {
   "cell_type": "code",
   "execution_count": 10,
   "metadata": {},
   "outputs": [
    {
     "data": {
      "text/html": [
       "<div>\n",
       "<style scoped>\n",
       "    .dataframe tbody tr th:only-of-type {\n",
       "        vertical-align: middle;\n",
       "    }\n",
       "\n",
       "    .dataframe tbody tr th {\n",
       "        vertical-align: top;\n",
       "    }\n",
       "\n",
       "    .dataframe thead th {\n",
       "        text-align: right;\n",
       "    }\n",
       "</style>\n",
       "<table border=\"1\" class=\"dataframe\">\n",
       "  <thead>\n",
       "    <tr style=\"text-align: right;\">\n",
       "      <th></th>\n",
       "      <th>Pclass</th>\n",
       "      <th>Sex</th>\n",
       "      <th>Age</th>\n",
       "      <th>Fare</th>\n",
       "      <th>Embarked</th>\n",
       "    </tr>\n",
       "  </thead>\n",
       "  <tbody>\n",
       "    <tr>\n",
       "      <th>0</th>\n",
       "      <td>3</td>\n",
       "      <td>1</td>\n",
       "      <td>22.0</td>\n",
       "      <td>7.2500</td>\n",
       "      <td>2</td>\n",
       "    </tr>\n",
       "    <tr>\n",
       "      <th>1</th>\n",
       "      <td>1</td>\n",
       "      <td>0</td>\n",
       "      <td>38.0</td>\n",
       "      <td>71.2833</td>\n",
       "      <td>0</td>\n",
       "    </tr>\n",
       "    <tr>\n",
       "      <th>2</th>\n",
       "      <td>3</td>\n",
       "      <td>0</td>\n",
       "      <td>26.0</td>\n",
       "      <td>7.9250</td>\n",
       "      <td>2</td>\n",
       "    </tr>\n",
       "    <tr>\n",
       "      <th>3</th>\n",
       "      <td>1</td>\n",
       "      <td>0</td>\n",
       "      <td>35.0</td>\n",
       "      <td>53.1000</td>\n",
       "      <td>2</td>\n",
       "    </tr>\n",
       "    <tr>\n",
       "      <th>4</th>\n",
       "      <td>3</td>\n",
       "      <td>1</td>\n",
       "      <td>35.0</td>\n",
       "      <td>8.0500</td>\n",
       "      <td>2</td>\n",
       "    </tr>\n",
       "  </tbody>\n",
       "</table>\n",
       "</div>"
      ],
      "text/plain": [
       "   Pclass  Sex   Age     Fare  Embarked\n",
       "0       3    1  22.0   7.2500         2\n",
       "1       1    0  38.0  71.2833         0\n",
       "2       3    0  26.0   7.9250         2\n",
       "3       1    0  35.0  53.1000         2\n",
       "4       3    1  35.0   8.0500         2"
      ]
     },
     "execution_count": 10,
     "metadata": {},
     "output_type": "execute_result"
    }
   ],
   "source": [
    "X.head() #observar que las variables de Sex y Embarked ahora son numericas y no strings\n"
   ]
  },
  {
   "cell_type": "code",
   "execution_count": 11,
   "metadata": {},
   "outputs": [],
   "source": [
    "from sklearn.model_selection import train_test_split\n",
    "random_seed = 1234\n",
    "Xtrain, Xtest, Ytrain, Ytest = train_test_split(X, Y, test_size = 0.2, random_state=random_seed)"
   ]
  },
  {
   "cell_type": "markdown",
   "metadata": {},
   "source": [
    "<br> d) Realizar una clasificación con el algoritmo DecisionTreeClassifier. <br>"
   ]
  },
  {
   "cell_type": "code",
   "execution_count": 12,
   "metadata": {},
   "outputs": [
    {
     "data": {
      "text/html": [
       "<div>\n",
       "<style scoped>\n",
       "    .dataframe tbody tr th:only-of-type {\n",
       "        vertical-align: middle;\n",
       "    }\n",
       "\n",
       "    .dataframe tbody tr th {\n",
       "        vertical-align: top;\n",
       "    }\n",
       "\n",
       "    .dataframe thead th {\n",
       "        text-align: right;\n",
       "    }\n",
       "</style>\n",
       "<table border=\"1\" class=\"dataframe\">\n",
       "  <thead>\n",
       "    <tr style=\"text-align: right;\">\n",
       "      <th></th>\n",
       "      <th>Pclass</th>\n",
       "      <th>Sex</th>\n",
       "      <th>Age</th>\n",
       "      <th>Fare</th>\n",
       "      <th>Embarked</th>\n",
       "    </tr>\n",
       "  </thead>\n",
       "  <tbody>\n",
       "    <tr>\n",
       "      <th>718</th>\n",
       "      <td>3</td>\n",
       "      <td>1</td>\n",
       "      <td>30.585228</td>\n",
       "      <td>15.5000</td>\n",
       "      <td>1</td>\n",
       "    </tr>\n",
       "    <tr>\n",
       "      <th>868</th>\n",
       "      <td>3</td>\n",
       "      <td>1</td>\n",
       "      <td>30.585228</td>\n",
       "      <td>9.5000</td>\n",
       "      <td>2</td>\n",
       "    </tr>\n",
       "    <tr>\n",
       "      <th>801</th>\n",
       "      <td>2</td>\n",
       "      <td>0</td>\n",
       "      <td>31.000000</td>\n",
       "      <td>26.2500</td>\n",
       "      <td>2</td>\n",
       "    </tr>\n",
       "    <tr>\n",
       "      <th>422</th>\n",
       "      <td>3</td>\n",
       "      <td>1</td>\n",
       "      <td>29.000000</td>\n",
       "      <td>7.8750</td>\n",
       "      <td>2</td>\n",
       "    </tr>\n",
       "    <tr>\n",
       "      <th>207</th>\n",
       "      <td>3</td>\n",
       "      <td>1</td>\n",
       "      <td>26.000000</td>\n",
       "      <td>18.7875</td>\n",
       "      <td>0</td>\n",
       "    </tr>\n",
       "  </tbody>\n",
       "</table>\n",
       "</div>"
      ],
      "text/plain": [
       "     Pclass  Sex        Age     Fare  Embarked\n",
       "718       3    1  30.585228  15.5000         1\n",
       "868       3    1  30.585228   9.5000         2\n",
       "801       2    0  31.000000  26.2500         2\n",
       "422       3    1  29.000000   7.8750         2\n",
       "207       3    1  26.000000  18.7875         0"
      ]
     },
     "execution_count": 12,
     "metadata": {},
     "output_type": "execute_result"
    }
   ],
   "source": [
    "Xtrain.head()"
   ]
  },
  {
   "cell_type": "code",
   "execution_count": 13,
   "metadata": {},
   "outputs": [],
   "source": [
    "from sklearn import tree\n",
    "clf = tree.DecisionTreeClassifier(criterion='entropy')\n",
    "clf.fit(Xtrain, Ytrain)\n",
    "ypred = clf.predict(Xtest)"
   ]
  },
  {
   "cell_type": "markdown",
   "metadata": {},
   "source": [
    "<br> e) Evaluar la exactitud, la precisión, recall y $F_1$-score de la clasifiación realizada.<br>"
   ]
  },
  {
   "cell_type": "code",
   "execution_count": 14,
   "metadata": {},
   "outputs": [
    {
     "name": "stdout",
     "output_type": "stream",
     "text": [
      "La exactitud del modelo fue de : %82.06106870229007\n",
      "La precision del modelo fue : %74.11764705882354\n",
      "El f1-score es: 0.7283236994219654\n"
     ]
    }
   ],
   "source": [
    "from sklearn.metrics import accuracy_score, precision_score, f1_score\n",
    "\n",
    "print('La exactitud del modelo fue de : %{0}'.format(accuracy_score(Ytest, ypred)*100))\n",
    "print('La precision del modelo fue : %{0}'.format(precision_score(Ytest, ypred)*100)) #La precision es la capacidad del modelo de NO clasificar una muestra como positiva si es negativa (falsos positivos))\n",
    "print('El f1-score es: {0}'.format(f1_score(Ytest, ypred))) #El f1 score es un promedio pesado entre la precision y el recall. Donde recall es la capacidad del modelo de encontrar todas las muestras positivas."
   ]
  },
  {
   "cell_type": "markdown",
   "metadata": {},
   "source": [
    "<br> f) Realizar la matriz de confusión. Utilizar la función heatmap dentro de la librería seaborn para plotear la matriz de confusión. <br>"
   ]
  },
  {
   "cell_type": "code",
   "execution_count": 15,
   "metadata": {},
   "outputs": [
    {
     "name": "stdout",
     "output_type": "stream",
     "text": [
      "El modelo predijo que 21 de los 171 muertos sobrevivieron, y que 24 de los 88 sobrevivientes murieron.\n"
     ]
    },
    {
     "data": {
      "text/plain": [
       "<matplotlib.axes._subplots.AxesSubplot at 0x29b45f90ac8>"
      ]
     },
     "execution_count": 15,
     "metadata": {},
     "output_type": "execute_result"
    }
   ],
   "source": [
    "#Una matriz de confusion muestra la cantidad de falsos positivos y falsos negativos que obtuvo el modelo.\n",
    "#En la horizontal se encuentran los valores que son reales, en este caso muertos (0) fueron 150 + 21 = 171 y vivos (1) fueron 24 + 64 = 88.\n",
    "#En la vertical se encuentran los valores que el modelo obtuvo 150 + 24 = 174 muertos y 21 + 64 = 85 vivos. \n",
    "#En donde coincide el 1 vertical con el 0 horizontal ( y respectivamente el 0 vertical con el 1 horizontal ) se encuentran la cantidad de falsos positivos y falsos negativos.\n",
    "from sklearn.metrics import confusion_matrix\n",
    "import seaborn as sns\n",
    "cm = confusion_matrix(Ytest, ypred)\n",
    "print('El modelo predijo que 21 de los 171 muertos sobrevivieron, y que 24 de los 88 sobrevivientes murieron.')\n",
    "sns.heatmap(cm, annot=True)\n"
   ]
  },
  {
   "cell_type": "markdown",
   "metadata": {},
   "source": [
    "<br> g) Dentro de DecisionTreeClassifier está la opción de crear clasificadores con una cantidad de niveles establecida o considerando solo cierta cantidad de atributos. Realizar una nueva clasificación experimentando con distintas opciones de las características: max depth y max features.  Comparar la nueva clasificación con la anterior.<br>"
   ]
  },
  {
   "cell_type": "code",
   "execution_count": 16,
   "metadata": {},
   "outputs": [
    {
     "name": "stdout",
     "output_type": "stream",
     "text": [
      "La exactitud del modelo fue de : %87.78625954198473\n",
      "La precision del modelo fue : %84.14634146341463\n",
      "El f1-score es: 0.8117647058823529\n"
     ]
    },
    {
     "data": {
      "text/plain": [
       "<matplotlib.axes._subplots.AxesSubplot at 0x29b4613b9e8>"
      ]
     },
     "execution_count": 16,
     "metadata": {},
     "output_type": "execute_result"
    },
    {
     "data": {
      "image/png": "[encoded data removed]",
      "text/plain": [
       "<matplotlib.figure.Figure at 0x29b4613b470>"
      ]
     },
     "metadata": {},
     "output_type": "display_data"
    }
   ],
   "source": [
    "#Modelo creado con una profundidad de 3\n",
    "clf_dp3 = tree.DecisionTreeClassifier(criterion='entropy', max_depth=3)\n",
    "clf_dp3.fit(Xtrain, Ytrain)\n",
    "ypred_dp3 = clf_dp3.predict(Xtest)\n",
    "\n",
    "print('La exactitud del modelo fue de : %{0}'.format(accuracy_score(Ytest, ypred_dp3)*100))\n",
    "print('La precision del modelo fue : %{0}'.format(precision_score(Ytest, ypred_dp3)*100)) \n",
    "print('El f1-score es: {0}'.format(f1_score(Ytest, ypred_dp3)))\n",
    "sns.heatmap(confusion_matrix(Ytest, ypred_dp3), annot=True)"
   ]
  },
  {
   "cell_type": "code",
   "execution_count": 17,
   "metadata": {},
   "outputs": [
    {
     "name": "stdout",
     "output_type": "stream",
     "text": [
      "La exactitud del modelo fue de : %83.96946564885496\n",
      "La precision del modelo fue : %73.95833333333334\n",
      "El f1-score es: 0.7717391304347826\n"
     ]
    },
    {
     "data": {
      "text/plain": [
       "<matplotlib.axes._subplots.AxesSubplot at 0x29b461600b8>"
      ]
     },
     "execution_count": 17,
     "metadata": {},
     "output_type": "execute_result"
    },
    {
     "data": {
      "image/png": "[encoded data removed]",
      "text/plain": [
       "<matplotlib.figure.Figure at 0x29b464e5b00>"
      ]
     },
     "metadata": {},
     "output_type": "display_data"
    }
   ],
   "source": [
    "#Modelo creado con profundidad de 4 y maximo de atributos por split 2\n",
    "clf_dp4_s2 = tree.DecisionTreeClassifier(criterion='entropy', max_depth=4, max_features=2)\n",
    "clf_dp4_s2.fit(Xtrain, Ytrain)\n",
    "ypred_dp4_s2 = clf_dp4_s2.predict(Xtest)\n",
    "\n",
    "print('La exactitud del modelo fue de : %{0}'.format(accuracy_score(Ytest, ypred_dp4_s2)*100))\n",
    "print('La precision del modelo fue : %{0}'.format(precision_score(Ytest, ypred_dp4_s2)*100)) \n",
    "print('El f1-score es: {0}'.format(f1_score(Ytest, ypred_dp4_s2)))\n",
    "sns.heatmap(confusion_matrix(Ytest, ypred_dp4_s2), annot=True)"
   ]
  },
  {
   "cell_type": "code",
   "execution_count": 18,
   "metadata": {},
   "outputs": [
    {
     "name": "stdout",
     "output_type": "stream",
     "text": [
      "La exactitud del modelo fue de : %85.87786259541986\n",
      "La precision del modelo fue : %81.48148148148148\n",
      "El f1-score es: 0.7810650887573963\n"
     ]
    },
    {
     "data": {
      "text/plain": [
       "<matplotlib.axes._subplots.AxesSubplot at 0x29b46148358>"
      ]
     },
     "execution_count": 18,
     "metadata": {},
     "output_type": "execute_result"
    },
    {
     "data": {
      "image/png": "[encoded data removed]",
      "text/plain": [
       "<matplotlib.figure.Figure at 0x29b465895f8>"
      ]
     },
     "metadata": {},
     "output_type": "display_data"
    }
   ],
   "source": [
    "#Modelo creado con profundidad de 3 y maximo de atributos por split 2\n",
    "clf_dp3_s2 = tree.DecisionTreeClassifier(criterion='entropy', max_depth=3, max_features=2)\n",
    "clf_dp3_s2.fit(Xtrain, Ytrain)\n",
    "ypred_dp3_s2 = clf_dp3_s2.predict(Xtest)\n",
    "\n",
    "print('La exactitud del modelo fue de : %{0}'.format(accuracy_score(Ytest, ypred_dp3_s2)*100))\n",
    "print('La precision del modelo fue : %{0}'.format(precision_score(Ytest, ypred_dp3_s2)*100)) \n",
    "print('El f1-score es: {0}'.format(f1_score(Ytest, ypred_dp3_s2)))\n",
    "sns.heatmap(confusion_matrix(Ytest, ypred_dp3_s2), annot=True)"
   ]
  },
  {
   "cell_type": "markdown",
   "metadata": {},
   "source": [
    "Se nota que a medida que uno limita la cantidad de features por split y la profundidad del arbol encuentra un modelo mas general, que ajusta mejor a los datos de test."
   ]
  },
  {
   "cell_type": "markdown",
   "metadata": {},
   "source": [
    "## Ejercicio: Bosques aleatorios.\n",
    "<br> 2) Crear un DataFrame (df) con la base de datos $\\textbf{iris}$: <br>\n",
    "\n"
   ]
  },
  {
   "cell_type": "code",
   "execution_count": 19,
   "metadata": {},
   "outputs": [
    {
     "data": {
      "text/html": [
       "<div>\n",
       "<style scoped>\n",
       "    .dataframe tbody tr th:only-of-type {\n",
       "        vertical-align: middle;\n",
       "    }\n",
       "\n",
       "    .dataframe tbody tr th {\n",
       "        vertical-align: top;\n",
       "    }\n",
       "\n",
       "    .dataframe thead th {\n",
       "        text-align: right;\n",
       "    }\n",
       "</style>\n",
       "<table border=\"1\" class=\"dataframe\">\n",
       "  <thead>\n",
       "    <tr style=\"text-align: right;\">\n",
       "      <th></th>\n",
       "      <th>sepal length (cm)</th>\n",
       "      <th>sepal width (cm)</th>\n",
       "      <th>petal length (cm)</th>\n",
       "      <th>petal width (cm)</th>\n",
       "    </tr>\n",
       "  </thead>\n",
       "  <tbody>\n",
       "    <tr>\n",
       "      <th>0</th>\n",
       "      <td>5.1</td>\n",
       "      <td>3.5</td>\n",
       "      <td>1.4</td>\n",
       "      <td>0.2</td>\n",
       "    </tr>\n",
       "    <tr>\n",
       "      <th>1</th>\n",
       "      <td>4.9</td>\n",
       "      <td>3.0</td>\n",
       "      <td>1.4</td>\n",
       "      <td>0.2</td>\n",
       "    </tr>\n",
       "    <tr>\n",
       "      <th>2</th>\n",
       "      <td>4.7</td>\n",
       "      <td>3.2</td>\n",
       "      <td>1.3</td>\n",
       "      <td>0.2</td>\n",
       "    </tr>\n",
       "    <tr>\n",
       "      <th>3</th>\n",
       "      <td>4.6</td>\n",
       "      <td>3.1</td>\n",
       "      <td>1.5</td>\n",
       "      <td>0.2</td>\n",
       "    </tr>\n",
       "    <tr>\n",
       "      <th>4</th>\n",
       "      <td>5.0</td>\n",
       "      <td>3.6</td>\n",
       "      <td>1.4</td>\n",
       "      <td>0.2</td>\n",
       "    </tr>\n",
       "  </tbody>\n",
       "</table>\n",
       "</div>"
      ],
      "text/plain": [
       "   sepal length (cm)  sepal width (cm)  petal length (cm)  petal width (cm)\n",
       "0                5.1               3.5                1.4               0.2\n",
       "1                4.9               3.0                1.4               0.2\n",
       "2                4.7               3.2                1.3               0.2\n",
       "3                4.6               3.1                1.5               0.2\n",
       "4                5.0               3.6                1.4               0.2"
      ]
     },
     "execution_count": 19,
     "metadata": {},
     "output_type": "execute_result"
    }
   ],
   "source": [
    "from sklearn import datasets\n",
    "\n",
    "data_iris = datasets.load_iris() \n",
    "df_iris = pd.DataFrame(data_iris.data, columns=data_iris.feature_names)\n",
    "df_iris.head()"
   ]
  },
  {
   "cell_type": "markdown",
   "metadata": {},
   "source": [
    "<br> a) Crear $X_{train}, X_{test}, y_{train}, y_{test}$.<br>"
   ]
  },
  {
   "cell_type": "code",
   "execution_count": 20,
   "metadata": {},
   "outputs": [],
   "source": [
    "random_seed_rf = 1\n",
    "X_train, X_test, Y_train, Y_test = train_test_split(df_iris, data_iris.target, test_size=0.2, random_state=random_seed_rf)"
   ]
  },
  {
   "cell_type": "markdown",
   "metadata": {},
   "source": [
    "<br> b) Realizar una clasificación con el algoritmo $\\textbf{RandomForestClassifier}$.<br>"
   ]
  },
  {
   "cell_type": "code",
   "execution_count": 21,
   "metadata": {},
   "outputs": [],
   "source": [
    "from sklearn.ensemble import RandomForestClassifier\n",
    "clf_rf = RandomForestClassifier(criterion='entropy', random_state=random_seed, max_features=2)\n",
    "clf_rf.fit(X_train, Y_train)\n",
    "y_pred_rf = clf_rf.predict(X_test)"
   ]
  },
  {
   "cell_type": "markdown",
   "metadata": {},
   "source": [
    "<br> c) Evaluar la exactitud, la precisión, recall y $F_1$-score de la clasifiación realizada. Realizar la matriz de confusión. Utilizar la función $\\textbf{heatmap}$ dentro de la librería $\\textbf{seaborn}$ para plotear la matriz de confusión.<br>"
   ]
  },
  {
   "cell_type": "code",
   "execution_count": 22,
   "metadata": {},
   "outputs": [
    {
     "name": "stdout",
     "output_type": "stream",
     "text": [
      "La exactitud del modelo fue de : %96.66666666666667\n"
     ]
    },
    {
     "data": {
      "text/plain": [
       "<matplotlib.axes._subplots.AxesSubplot at 0x29b467ec470>"
      ]
     },
     "execution_count": 22,
     "metadata": {},
     "output_type": "execute_result"
    },
    {
     "data": {
      "image/png": "[encoded data removed]",
      "text/plain": [
       "<matplotlib.figure.Figure at 0x29b467d9ef0>"
      ]
     },
     "metadata": {},
     "output_type": "display_data"
    }
   ],
   "source": [
    "print('La exactitud del modelo fue de : %{0}'.format(accuracy_score(Y_test, y_pred_rf)*100))\n",
    "sns.heatmap(confusion_matrix(Y_test, y_pred_rf), annot=True)"
   ]
  },
  {
   "cell_type": "markdown",
   "metadata": {},
   "source": [
    "<br> e) Dentro de $\\textbf{RandomForestClassifier}$ está la opción de crear cierta cantidad de arboles para el bosque y/o considerando solo cierta cantidad de niveles de cada árbol.<br> \n",
    "Realizar una nueva clasificación experimentando con distintas opciones de las características: $\\textbf{n estimators}$ y $\\textbf{max depth}$.  Comparar la nueva clasificación con la anterior.<br>"
   ]
  },
  {
   "cell_type": "code",
   "execution_count": 23,
   "metadata": {},
   "outputs": [
    {
     "name": "stdout",
     "output_type": "stream",
     "text": [
      "La exactitud del modelo fue de : %96.66666666666667\n"
     ]
    },
    {
     "data": {
      "text/plain": [
       "<matplotlib.axes._subplots.AxesSubplot at 0x29b46888e48>"
      ]
     },
     "execution_count": 23,
     "metadata": {},
     "output_type": "execute_result"
    },
    {
     "data": {
      "image/png": "[encoded data removed]",
      "text/plain": [
       "<matplotlib.figure.Figure at 0x29b4683c438>"
      ]
     },
     "metadata": {},
     "output_type": "display_data"
    }
   ],
   "source": [
    "#Random forests con arboles de maxima profundidad 3\n",
    "clf_rf_3dp = RandomForestClassifier(criterion='entropy', max_depth=3, max_features=2)\n",
    "clf_rf_3dp.fit(X_train, Y_train)\n",
    "y_pred_rf_3dp = clf_rf_3dp.predict(X_test)\n",
    "print('La exactitud del modelo fue de : %{0}'.format(accuracy_score(Y_test, y_pred_rf_3dp)*100))\n",
    "sns.heatmap(confusion_matrix(Y_test, y_pred_rf_3dp), annot=True)"
   ]
  },
  {
   "cell_type": "code",
   "execution_count": 24,
   "metadata": {},
   "outputs": [
    {
     "name": "stdout",
     "output_type": "stream",
     "text": [
      "La exactitud del modelo fue de : %96.66666666666667\n"
     ]
    },
    {
     "data": {
      "text/plain": [
       "<matplotlib.axes._subplots.AxesSubplot at 0x29b468a15c0>"
      ]
     },
     "execution_count": 24,
     "metadata": {},
     "output_type": "execute_result"
    },
    {
     "data": {
      "image/png": "[encoded data removed]",
      "text/plain": [
       "<matplotlib.figure.Figure at 0x29b468d5550>"
      ]
     },
     "metadata": {},
     "output_type": "display_data"
    }
   ],
   "source": [
    "#Random forests con arboles de maxima profundidad 2 y 2 arboles\n",
    "clf_rf_2dp_2tr = RandomForestClassifier(criterion='entropy', max_depth=2, n_estimators=2, max_features=2)\n",
    "clf_rf_2dp_2tr.fit(X_train, Y_train)\n",
    "y_pred_rf_2dp_2tr = clf_rf_2dp_2tr.predict(X_test)\n",
    "print('La exactitud del modelo fue de : %{0}'.format(accuracy_score(Y_test, y_pred_rf_2dp_2tr)*100))\n",
    "sns.heatmap(confusion_matrix(Y_test, y_pred_rf_2dp_2tr), annot=True)"
   ]
  },
  {
   "cell_type": "code",
   "execution_count": 25,
   "metadata": {},
   "outputs": [
    {
     "name": "stdout",
     "output_type": "stream",
     "text": [
      "La exactitud del modelo fue de: %96.66666666666667\n"
     ]
    },
    {
     "data": {
      "text/plain": [
       "<matplotlib.axes._subplots.AxesSubplot at 0x29b4693a748>"
      ]
     },
     "execution_count": 25,
     "metadata": {},
     "output_type": "execute_result"
    },
    {
     "data": {
      "image/png": "[encoded data removed]",
      "text/plain": [
       "<matplotlib.figure.Figure at 0x29b4697e5f8>"
      ]
     },
     "metadata": {},
     "output_type": "display_data"
    }
   ],
   "source": [
    "#Pruenbo con un modelo de un arbol de decision singular\n",
    "clf_dt = tree.DecisionTreeClassifier(criterion='entropy', max_depth=3, max_features=2)\n",
    "clf_dt.fit(X_train, Y_train)\n",
    "y_pred_dt = clf_dt.predict(X_test)\n",
    "print('La exactitud del modelo fue de: %{0}'.format(accuracy_score(Y_test, y_pred_dt)*100))\n",
    "sns.heatmap(confusion_matrix(Y_test, y_pred_dt), annot=True)"
   ]
  }
 ],
 "metadata": {
  "kernelspec": {
   "display_name": "Python 3",
   "language": "python",
   "name": "python3"
  },
  "language_info": {
   "codemirror_mode": {
    "name": "ipython",
    "version": 3
   },
   "file_extension": ".py",
   "mimetype": "text/x-python",
   "name": "python",
   "nbconvert_exporter": "python",
   "pygments_lexer": "ipython3",
   "version": "3.6.4"
  }
 },
 "nbformat": 4,
 "nbformat_minor": 2
}
