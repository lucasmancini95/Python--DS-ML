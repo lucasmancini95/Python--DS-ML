{
 "cells": [
  {
   "cell_type": "code",
   "execution_count": null,
   "metadata": {},
   "outputs": [],
   "source": [
    "import pandas as pd\n",
    "from sklearn import tree\n",
    "#from sklearn.model_selection import train_test_split version 0.19\n",
    "import sklearn.cross_validation as cv\n",
    "from sklearn.metrics import accuracy_score, classification_report\n",
    "\n",
    "file = 'Tennis_1.csv'\n",
    "df = pd.read_csv(file)\n",
    "\n",
    "df\n",
    "\n",
    "for col in df.columns:\n",
    "    df[col] = pd.Categorical(df[col] ).codes\n",
    "\n",
    "\n",
    "X= df[['outlook', 'temp', 'humidity', 'windy']]\n",
    "y=df[['play']]\n",
    "\n",
    "\n",
    "X_train, X_test, y_train, y_test = cv.train_test_split(X, y, test_size=0.2, random_state=42)\n",
    "\n",
    "\n",
    "clf = tree.DecisionTreeClassifier(criterion='entropy')\n",
    "clf.fit(X_train,y_train)\n",
    "print(clf.score(X_test, y_test))\n",
    "\n",
    "\n",
    "#predictions = clf.predict(X_test)\n",
    "\n",
    "## Look at the confusion matrix ([TN,FN],[FP,TP])\n",
    "#confusion_matrix(y_test,predictions)\n",
    "\n",
    "\n",
    "#_____________________________________________________________\n",
    "\n",
    "#for col in df.columns:\n",
    "#    df[col] = pd.Categorical(df[col] ).codes\n",
    "\n",
    "#_____________________________________________________________\n",
    "\n",
    "#c = pd.DataFrame(confusion_matrix(y_test, predicted))\n",
    "#sns.heatmap(c, annot=True)\n",
    "\n",
    "X_train"
   ]
  }
 ],
 "metadata": {
  "kernelspec": {
   "display_name": "Python 3",
   "language": "python",
   "name": "python3"
  },
  "language_info": {
   "codemirror_mode": {
    "name": "ipython",
    "version": 3
   },
   "file_extension": ".py",
   "mimetype": "text/x-python",
   "name": "python",
   "nbconvert_exporter": "python",
   "pygments_lexer": "ipython3",
   "version": "3.6.5"
  }
 },
 "nbformat": 4,
 "nbformat_minor": 2
}
