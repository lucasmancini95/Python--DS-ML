{
 "cells": [
  {
   "cell_type": "markdown",
   "metadata": {},
   "source": [
    "# Ejercicio Naive Bayes\n",
    "\n",
    "<br>1) Estimadores de media y desvío. Considere una variable aleatoria con distribucion gaussiana con media μ=0 y desvio σ=1.</br>"
   ]
  },
  {
   "cell_type": "code",
   "execution_count": 8,
   "metadata": {},
   "outputs": [],
   "source": [
    "import pandas as pd\n",
    "import numpy as np\n",
    "import sklearn.naive_bayes as GaussianNB\n",
    "import matplotlib.pyplot as plt\n",
    "%matplotlib inline"
   ]
  },
  {
   "cell_type": "markdown",
   "metadata": {},
   "source": [
    "<br>a) A partir de muestras de tamaño n (n=3, 5, 10, 20 y 100), estimar los parametros $\\hat{\\mu}$ y ${\\hat{\\sigma}}$ usando los estimadores de máxima verosimilitud y calcular $a={\\hat{\\mu}}-{\\mu}$ y $b={\\frac{\\hat{\\sigma}}{\\sigma}}$. Repetir 1000 veces el experimento y calcular la media de los a y de los b para los diferentes valores de n propuestos.</br>"
   ]
  },
  {
   "cell_type": "code",
   "execution_count": 9,
   "metadata": {},
   "outputs": [
    {
     "data": {
      "text/html": [
       "<div>\n",
       "<style scoped>\n",
       "    .dataframe tbody tr th:only-of-type {\n",
       "        vertical-align: middle;\n",
       "    }\n",
       "\n",
       "    .dataframe tbody tr th {\n",
       "        vertical-align: top;\n",
       "    }\n",
       "\n",
       "    .dataframe thead th {\n",
       "        text-align: right;\n",
       "    }\n",
       "</style>\n",
       "<table border=\"1\" class=\"dataframe\">\n",
       "  <thead>\n",
       "    <tr style=\"text-align: right;\">\n",
       "      <th></th>\n",
       "      <th>n</th>\n",
       "      <th>a</th>\n",
       "      <th>b</th>\n",
       "    </tr>\n",
       "  </thead>\n",
       "  <tbody>\n",
       "    <tr>\n",
       "      <th>0</th>\n",
       "      <td>3</td>\n",
       "      <td>-0.018550</td>\n",
       "      <td>0.680864</td>\n",
       "    </tr>\n",
       "    <tr>\n",
       "      <th>1</th>\n",
       "      <td>5</td>\n",
       "      <td>-0.014748</td>\n",
       "      <td>0.795682</td>\n",
       "    </tr>\n",
       "    <tr>\n",
       "      <th>2</th>\n",
       "      <td>10</td>\n",
       "      <td>-0.006645</td>\n",
       "      <td>0.884497</td>\n",
       "    </tr>\n",
       "    <tr>\n",
       "      <th>3</th>\n",
       "      <td>20</td>\n",
       "      <td>-0.007797</td>\n",
       "      <td>0.944892</td>\n",
       "    </tr>\n",
       "    <tr>\n",
       "      <th>4</th>\n",
       "      <td>100</td>\n",
       "      <td>0.000461</td>\n",
       "      <td>0.996453</td>\n",
       "    </tr>\n",
       "  </tbody>\n",
       "</table>\n",
       "</div>"
      ],
      "text/plain": [
       "     n         a         b\n",
       "0    3 -0.018550  0.680864\n",
       "1    5 -0.014748  0.795682\n",
       "2   10 -0.006645  0.884497\n",
       "3   20 -0.007797  0.944892\n",
       "4  100  0.000461  0.996453"
      ]
     },
     "execution_count": 9,
     "metadata": {},
     "output_type": "execute_result"
    }
   ],
   "source": [
    "mu=0\n",
    "sigma=1\n",
    "df_1a=pd.DataFrame(columns=['n', 'a', 'b'])\n",
    "for n in (3, 5, 10, 20, 100):\n",
    "    A=list()\n",
    "    B=list()\n",
    "    for i in range(1000):\n",
    "        x=np.random.normal(mu, sigma, n)\n",
    "        est_mu = x.mean()\n",
    "        est_sigma = x.var()  #este estimador esta sesgado\n",
    "        A.append(est_mu-mu)\n",
    "        B.append(est_sigma/sigma)\n",
    "    df_1a=df_1a.append(pd.DataFrame([[n, np.mean(A), np.mean(B)]], columns=['n', 'a', 'b']), ignore_index=True)\n",
    "\n",
    "df_1a.head()\n",
    "        "
   ]
  },
  {
   "cell_type": "markdown",
   "metadata": {},
   "source": [
    "<br>b) Repetir el item anterior usando estimadores insesgados. ¿Qué observa?</br>"
   ]
  },
  {
   "cell_type": "code",
   "execution_count": 10,
   "metadata": {},
   "outputs": [
    {
     "data": {
      "text/html": [
       "<div>\n",
       "<style scoped>\n",
       "    .dataframe tbody tr th:only-of-type {\n",
       "        vertical-align: middle;\n",
       "    }\n",
       "\n",
       "    .dataframe tbody tr th {\n",
       "        vertical-align: top;\n",
       "    }\n",
       "\n",
       "    .dataframe thead th {\n",
       "        text-align: right;\n",
       "    }\n",
       "</style>\n",
       "<table border=\"1\" class=\"dataframe\">\n",
       "  <thead>\n",
       "    <tr style=\"text-align: right;\">\n",
       "      <th></th>\n",
       "      <th>n</th>\n",
       "      <th>a</th>\n",
       "      <th>b (estimador insesgado)</th>\n",
       "      <th>b (estimador sesgado)</th>\n",
       "    </tr>\n",
       "  </thead>\n",
       "  <tbody>\n",
       "    <tr>\n",
       "      <th>0</th>\n",
       "      <td>3</td>\n",
       "      <td>0.009607</td>\n",
       "      <td>0.935255</td>\n",
       "      <td>0.623503</td>\n",
       "    </tr>\n",
       "    <tr>\n",
       "      <th>1</th>\n",
       "      <td>5</td>\n",
       "      <td>-0.005149</td>\n",
       "      <td>0.976304</td>\n",
       "      <td>0.781043</td>\n",
       "    </tr>\n",
       "    <tr>\n",
       "      <th>2</th>\n",
       "      <td>10</td>\n",
       "      <td>0.007568</td>\n",
       "      <td>0.993857</td>\n",
       "      <td>0.894471</td>\n",
       "    </tr>\n",
       "    <tr>\n",
       "      <th>3</th>\n",
       "      <td>20</td>\n",
       "      <td>-0.003960</td>\n",
       "      <td>1.008809</td>\n",
       "      <td>0.958369</td>\n",
       "    </tr>\n",
       "    <tr>\n",
       "      <th>4</th>\n",
       "      <td>100</td>\n",
       "      <td>-0.000361</td>\n",
       "      <td>1.001072</td>\n",
       "      <td>0.991061</td>\n",
       "    </tr>\n",
       "  </tbody>\n",
       "</table>\n",
       "</div>"
      ],
      "text/plain": [
       "     n         a  b (estimador insesgado)  b (estimador sesgado)\n",
       "0    3  0.009607                 0.935255               0.623503\n",
       "1    5 -0.005149                 0.976304               0.781043\n",
       "2   10  0.007568                 0.993857               0.894471\n",
       "3   20 -0.003960                 1.008809               0.958369\n",
       "4  100 -0.000361                 1.001072               0.991061"
      ]
     },
     "execution_count": 10,
     "metadata": {},
     "output_type": "execute_result"
    }
   ],
   "source": [
    "df_1b=pd.DataFrame(columns=['n', 'a', 'b (estimador insesgado)', 'b (estimador sesgado)'])\n",
    "for n in (3, 5, 10, 20, 100):\n",
    "    A=list()\n",
    "    B_ss=list()\n",
    "    B_cs=list()\n",
    "    for i in range(1000):\n",
    "        x=np.random.normal(mu, sigma, n)\n",
    "        est_mu = x.mean()\n",
    "        est_sigma_ss = x.var()*(n/(n-1)) #este estimador no esta sesgado \n",
    "        est_sigma_cs = x.var() \n",
    "        A.append(est_mu-mu)\n",
    "        B_ss.append(est_sigma_ss/sigma)\n",
    "        B_cs.append(est_sigma_cs/sigma)\n",
    "    df_1b=df_1b.append(pd.DataFrame([[n, np.mean(A), np.mean(B_ss), np.mean(B_cs)]], columns=['n', 'a', 'b (estimador insesgado)', 'b (estimador sesgado)']), ignore_index=True)\n",
    "\n",
    "df_1b.head()"
   ]
  },
  {
   "cell_type": "markdown",
   "metadata": {},
   "source": [
    "El estimador insesgado es mas cercano a la varianza original ${\\sigma}=1$ "
   ]
  },
  {
   "cell_type": "markdown",
   "metadata": {},
   "source": [
    "2)Usando los datos del archivo tennis.txt, entrenar a mano un clasificador discreto bayesiano ingenuo y usarlo para decidir si habrá partido de tennis un día con las siguientes características: sunny outlook, cool temperature, high himidity and strong wind"
   ]
  },
  {
   "cell_type": "code",
   "execution_count": 35,
   "metadata": {},
   "outputs": [
    {
     "data": {
      "text/html": [
       "<div>\n",
       "<style scoped>\n",
       "    .dataframe tbody tr th:only-of-type {\n",
       "        vertical-align: middle;\n",
       "    }\n",
       "\n",
       "    .dataframe tbody tr th {\n",
       "        vertical-align: top;\n",
       "    }\n",
       "\n",
       "    .dataframe thead th {\n",
       "        text-align: right;\n",
       "    }\n",
       "</style>\n",
       "<table border=\"1\" class=\"dataframe\">\n",
       "  <thead>\n",
       "    <tr style=\"text-align: right;\">\n",
       "      <th></th>\n",
       "      <th>Day</th>\n",
       "      <th>Temp.</th>\n",
       "      <th>Outlook</th>\n",
       "      <th>Humid.</th>\n",
       "      <th>Wind</th>\n",
       "      <th>Play</th>\n",
       "    </tr>\n",
       "  </thead>\n",
       "  <tbody>\n",
       "    <tr>\n",
       "      <th>0</th>\n",
       "      <td>D1</td>\n",
       "      <td>Hot</td>\n",
       "      <td>Sunny</td>\n",
       "      <td>High</td>\n",
       "      <td>Weak</td>\n",
       "      <td>No</td>\n",
       "    </tr>\n",
       "    <tr>\n",
       "      <th>1</th>\n",
       "      <td>D2</td>\n",
       "      <td>Hot</td>\n",
       "      <td>Sunny</td>\n",
       "      <td>High</td>\n",
       "      <td>Strong</td>\n",
       "      <td>No</td>\n",
       "    </tr>\n",
       "    <tr>\n",
       "      <th>2</th>\n",
       "      <td>D3</td>\n",
       "      <td>Hot</td>\n",
       "      <td>Overcst</td>\n",
       "      <td>High</td>\n",
       "      <td>Weak</td>\n",
       "      <td>Yes</td>\n",
       "    </tr>\n",
       "    <tr>\n",
       "      <th>3</th>\n",
       "      <td>D4</td>\n",
       "      <td>Mild</td>\n",
       "      <td>Rain</td>\n",
       "      <td>High</td>\n",
       "      <td>Weak</td>\n",
       "      <td>Yes</td>\n",
       "    </tr>\n",
       "    <tr>\n",
       "      <th>4</th>\n",
       "      <td>D5</td>\n",
       "      <td>Cool</td>\n",
       "      <td>Rain</td>\n",
       "      <td>Normal</td>\n",
       "      <td>Weak</td>\n",
       "      <td>Yes</td>\n",
       "    </tr>\n",
       "    <tr>\n",
       "      <th>5</th>\n",
       "      <td>D6</td>\n",
       "      <td>Cool</td>\n",
       "      <td>Rain</td>\n",
       "      <td>Normal</td>\n",
       "      <td>Strong</td>\n",
       "      <td>No</td>\n",
       "    </tr>\n",
       "    <tr>\n",
       "      <th>6</th>\n",
       "      <td>D7</td>\n",
       "      <td>Cool</td>\n",
       "      <td>Overcst</td>\n",
       "      <td>Normal</td>\n",
       "      <td>Strong</td>\n",
       "      <td>Yes</td>\n",
       "    </tr>\n",
       "    <tr>\n",
       "      <th>7</th>\n",
       "      <td>D8</td>\n",
       "      <td>Mild</td>\n",
       "      <td>Sunny</td>\n",
       "      <td>High</td>\n",
       "      <td>Weak</td>\n",
       "      <td>No</td>\n",
       "    </tr>\n",
       "    <tr>\n",
       "      <th>8</th>\n",
       "      <td>D9</td>\n",
       "      <td>Cool</td>\n",
       "      <td>Sunny</td>\n",
       "      <td>Normal</td>\n",
       "      <td>Weak</td>\n",
       "      <td>Yes</td>\n",
       "    </tr>\n",
       "    <tr>\n",
       "      <th>9</th>\n",
       "      <td>D10</td>\n",
       "      <td>Mild</td>\n",
       "      <td>Rain</td>\n",
       "      <td>Normal</td>\n",
       "      <td>Weak</td>\n",
       "      <td>Yes</td>\n",
       "    </tr>\n",
       "    <tr>\n",
       "      <th>10</th>\n",
       "      <td>Dll</td>\n",
       "      <td>Mild</td>\n",
       "      <td>Sunny</td>\n",
       "      <td>Normal</td>\n",
       "      <td>Strong</td>\n",
       "      <td>Yes</td>\n",
       "    </tr>\n",
       "    <tr>\n",
       "      <th>11</th>\n",
       "      <td>D12</td>\n",
       "      <td>Mild</td>\n",
       "      <td>Overcst</td>\n",
       "      <td>High</td>\n",
       "      <td>Strong</td>\n",
       "      <td>Yes</td>\n",
       "    </tr>\n",
       "    <tr>\n",
       "      <th>12</th>\n",
       "      <td>D13</td>\n",
       "      <td>Hot</td>\n",
       "      <td>Overcst</td>\n",
       "      <td>Normal</td>\n",
       "      <td>Weak</td>\n",
       "      <td>Yes</td>\n",
       "    </tr>\n",
       "    <tr>\n",
       "      <th>13</th>\n",
       "      <td>D14</td>\n",
       "      <td>Mild</td>\n",
       "      <td>Rain</td>\n",
       "      <td>High</td>\n",
       "      <td>Strong</td>\n",
       "      <td>No</td>\n",
       "    </tr>\n",
       "  </tbody>\n",
       "</table>\n",
       "</div>"
      ],
      "text/plain": [
       "    Day  Temp.   Outlook   Humid.     Wind   Play\n",
       "0    D1    Hot     Sunny     High     Weak     No\n",
       "1    D2    Hot     Sunny     High   Strong     No\n",
       "2    D3    Hot   Overcst     High     Weak    Yes\n",
       "3    D4   Mild      Rain     High     Weak   Yes \n",
       "4    D5   Cool      Rain   Normal     Weak    Yes\n",
       "5    D6   Cool      Rain   Normal   Strong     No\n",
       "6    D7   Cool   Overcst   Normal   Strong    Yes\n",
       "7    D8   Mild     Sunny     High     Weak     No\n",
       "8    D9   Cool     Sunny   Normal     Weak    Yes\n",
       "9   D10   Mild      Rain   Normal     Weak    Yes\n",
       "10  Dll   Mild     Sunny   Normal   Strong    Yes\n",
       "11  D12   Mild   Overcst     High   Strong    Yes\n",
       "12  D13    Hot   Overcst   Normal     Weak    Yes\n",
       "13  D14   Mild      Rain     High   Strong     No"
      ]
     },
     "execution_count": 35,
     "metadata": {},
     "output_type": "execute_result"
    }
   ],
   "source": [
    "df_tennis = pd.read_csv('tennis.txt')\n",
    "columns_df=['Day', 'Outlook', 'Temperature', 'Humidity', 'Wind', 'Play']\n",
    "df_tennis"
   ]
  },
  {
   "cell_type": "markdown",
   "metadata": {},
   "source": [
    "Primero hay que limpiar un poco los datos y ponerlos en un formato de tabla correcto."
   ]
  },
  {
   "cell_type": "code",
   "execution_count": null,
   "metadata": {},
   "outputs": [],
   "source": [
    "list_of_rows = list()\n",
    "for event in range(14):\n",
    "    row = list([1,2,3])\n",
    "    for feature in range(int(len(columns_df))):\n",
    "        row.append(df_tennis_aux.T[1+event+15*feature][0])\n",
    "    list_of_rows.append()\n",
    "\n",
    "df_tennis = pd.DataFrame(list_of_rows, columns = columns_df)"
   ]
  },
  {
   "cell_type": "markdown",
   "metadata": {},
   "source": [
    "Calculo las probabilidades de que alguien juege basado en los datos de la tabla."
   ]
  },
  {
   "cell_type": "code",
   "execution_count": null,
   "metadata": {},
   "outputs": [],
   "source": [
    "p_yes = len(df_tennis[df_tennis['Play'] == 'Yes']['Play'])/len(df_tennis['Play'])\n",
    "p_no = len(df_tennis[df_tennis['Play'] == 'No']['Play'])/len(df_tennis['Play'])  "
   ]
  },
  {
   "cell_type": "markdown",
   "metadata": {},
   "source": [
    "Esta funcion crea un diccionario el cual separa las tuplas por clase (en este caso cada clase es \"Yes\" o \"No\"), este diccionario me va a ayudar mas adelante."
   ]
  },
  {
   "cell_type": "markdown",
   "metadata": {},
   "source": [
    "Primero, hay que calcular la probabilidad de cada \"estado\" del dia dependiendo si jugó o no, por ejemplo $p(Hot\\hspace{0.1cm}|\\hspace{0.1cm}Yes)={\\frac{number\\hspace{0.25cm}of\\hspace{0.25cm}hot\\hspace{0.25cm}days\\hspace{0.25cm}and\\hspace{0.25cm}Yes}{days\\hspace{0.25cm}Yes}}$"
   ]
  },
  {
   "cell_type": "code",
   "execution_count": 115,
   "metadata": {},
   "outputs": [],
   "source": [
    "prob_x_if_play = dict()\n",
    "prob_x_if_not_play = dict()\n",
    "for col in df_tennis.columns.drop(['Day', 'Play']):\n",
    "    for state in df_tennis[col].unique():\n",
    "        prob_x_if_play.update({state: len(df_tennis[(df_tennis[col]==state) & (df_tennis['Play']=='Yes')])/len(df_tennis[df_tennis['Play']=='Yes'])})\n",
    "        prob_x_if_not_play.update({state: len(df_tennis[(df_tennis[col]==state) & (df_tennis['Play']=='No')])/len(df_tennis[df_tennis['Play']=='No'])})"
   ]
  },
  {
   "cell_type": "code",
   "execution_count": 118,
   "metadata": {},
   "outputs": [
    {
     "name": "stdout",
     "output_type": "stream",
     "text": [
      "{'Hot': 0.2222222222222222, 'Mild': 0.4444444444444444, 'Cool': 0.3333333333333333, 'Sunny': 0.2222222222222222, 'Overcast': 0.4444444444444444, 'Rain': 0.3333333333333333, 'High': 0.3333333333333333, 'Normal': 0.6666666666666666, 'Weak': 0.6666666666666666, 'Strong': 0.3333333333333333} \n",
      " {'Hot': 0.4, 'Mild': 0.4, 'Cool': 0.2, 'Sunny': 0.6, 'Overcast': 0.0, 'Rain': 0.4, 'High': 0.8, 'Normal': 0.2, 'Weak': 0.4, 'Strong': 0.6}\n"
     ]
    }
   ],
   "source": [
    "print(prob_x_if_play,'\\n' ,prob_x_if_not_play)"
   ]
  },
  {
   "cell_type": "markdown",
   "metadata": {},
   "source": [
    "<br>Sea X una tupla con las diferentes condiciones de un cierto dia, por ejemplo ['Hot', 'Mild', 'Rain', 'Weak'] <br>\n",
    "<br>La probabilidad si jugó o no un cierto dia dado el \"estado\" de este dia va a ser: $p(Yes\\hspace{0.1cm}|\\hspace{0.1cm}X)={\\frac{p(X\\hspace{0.1cm}|\\hspace{0.1cm}Yes) * p(Yes)}{p(X)}}$ o $p(No\\hspace{0.1cm}|\\hspace{0.1cm}X)={\\frac{p(X\\hspace{0.1cm}|\\hspace{0.1cm}No) * p(Yes)}{p(X)}}$ respectivamente.<br>\n",
    "<br>Como la prediccion va a ser \"Yes\" o \"No\" dependiendo de cuales de las dos probabilidades es mayor, no hace falta dividir por el denominador P(X), ya que ambas probabilidades se obtienen dividiendo por lo mismo. <br>\n",
    "<br>La siguiente funcion predice si alguien jugo (1) o no jugo (0) dependiendo del \"estado\" del dia que le pasemos como argumento<br>"
   ]
  },
  {
   "cell_type": "code",
   "execution_count": 125,
   "metadata": {},
   "outputs": [],
   "source": [
    "def predict(state_of_day):\n",
    "    prob_plays_if_SOF = 1\n",
    "    prob_not_plays_if_SOF = 1\n",
    "    for state in state_of_day:\n",
    "        prob_plays_if_SOF *= prob_x_if_play[state] * p_yes\n",
    "        prob_not_plays_if_SOF *= prob_x_if_not_play[state] * p_no\n",
    "        \n",
    "    if prob_plays_if_SOF > prob_not_plays_if_SOF:\n",
    "        return 1\n",
    "    else:\n",
    "        return 0"
   ]
  },
  {
   "cell_type": "code",
   "execution_count": 126,
   "metadata": {},
   "outputs": [
    {
     "name": "stdout",
     "output_type": "stream",
     "text": [
      "Yes\n"
     ]
    }
   ],
   "source": [
    "if predict(['Hot', 'Mild', 'Rain', 'Weak']) == 1:\n",
    "    print('Yes')\n",
    "else:\n",
    "    print('No')"
   ]
  },
  {
   "cell_type": "markdown",
   "metadata": {},
   "source": [
    "<br>3) Usando los datos del archivo HoM.txt, entrenar el clasificador gaussiano bayesiano ingenuo de sklearn y usarlo para clasificar la persona con sexo desconocido que figura en ese archivo.<br>"
   ]
  },
  {
   "cell_type": "code",
   "execution_count": 149,
   "metadata": {},
   "outputs": [
    {
     "data": {
      "text/html": [
       "<div>\n",
       "<style scoped>\n",
       "    .dataframe tbody tr th:only-of-type {\n",
       "        vertical-align: middle;\n",
       "    }\n",
       "\n",
       "    .dataframe tbody tr th {\n",
       "        vertical-align: top;\n",
       "    }\n",
       "\n",
       "    .dataframe thead th {\n",
       "        text-align: right;\n",
       "    }\n",
       "</style>\n",
       "<table border=\"1\" class=\"dataframe\">\n",
       "  <thead>\n",
       "    <tr style=\"text-align: right;\">\n",
       "      <th></th>\n",
       "      <th>Person</th>\n",
       "      <th>height</th>\n",
       "      <th>weight</th>\n",
       "      <th>foot size</th>\n",
       "    </tr>\n",
       "  </thead>\n",
       "  <tbody>\n",
       "    <tr>\n",
       "      <th>0</th>\n",
       "      <td>male</td>\n",
       "      <td>6</td>\n",
       "      <td>180.0</td>\n",
       "      <td>12.0</td>\n",
       "    </tr>\n",
       "    <tr>\n",
       "      <th>1</th>\n",
       "      <td>male</td>\n",
       "      <td>5.92</td>\n",
       "      <td>190.0</td>\n",
       "      <td>11.0</td>\n",
       "    </tr>\n",
       "    <tr>\n",
       "      <th>2</th>\n",
       "      <td>male</td>\n",
       "      <td>5.58</td>\n",
       "      <td>170.0</td>\n",
       "      <td>12.0</td>\n",
       "    </tr>\n",
       "    <tr>\n",
       "      <th>3</th>\n",
       "      <td>male</td>\n",
       "      <td>5.92</td>\n",
       "      <td>165.0</td>\n",
       "      <td>10.0</td>\n",
       "    </tr>\n",
       "    <tr>\n",
       "      <th>4</th>\n",
       "      <td>female</td>\n",
       "      <td>5</td>\n",
       "      <td>100.0</td>\n",
       "      <td>6.0</td>\n",
       "    </tr>\n",
       "    <tr>\n",
       "      <th>5</th>\n",
       "      <td>female</td>\n",
       "      <td>5.5</td>\n",
       "      <td>150.0</td>\n",
       "      <td>8.0</td>\n",
       "    </tr>\n",
       "    <tr>\n",
       "      <th>6</th>\n",
       "      <td>female</td>\n",
       "      <td>5.42</td>\n",
       "      <td>130.0</td>\n",
       "      <td>7.0</td>\n",
       "    </tr>\n",
       "    <tr>\n",
       "      <th>7</th>\n",
       "      <td>female</td>\n",
       "      <td>5.75</td>\n",
       "      <td>150.0</td>\n",
       "      <td>9.0</td>\n",
       "    </tr>\n",
       "  </tbody>\n",
       "</table>\n",
       "</div>"
      ],
      "text/plain": [
       "   Person  height   weight   foot size\n",
       "0    male       6    180.0        12.0\n",
       "1    male    5.92    190.0        11.0\n",
       "2    male    5.58    170.0        12.0\n",
       "3    male    5.92    165.0        10.0\n",
       "4  female       5    100.0         6.0\n",
       "5  female     5.5    150.0         8.0\n",
       "6  female    5.42    130.0         7.0\n",
       "7  female    5.75    150.0         9.0"
      ]
     },
     "execution_count": 149,
     "metadata": {},
     "output_type": "execute_result"
    }
   ],
   "source": [
    "df_HoM = pd.read_csv('HoM.txt')\n",
    "att_unknown_sex = np.array([5, 130, 8])\n",
    "df_HoM = df_HoM.iloc[:8]\n",
    "df_HoM"
   ]
  },
  {
   "cell_type": "code",
   "execution_count": 144,
   "metadata": {},
   "outputs": [],
   "source": [
    "from sklearn.naive_bayes import GaussianNB"
   ]
  },
  {
   "cell_type": "code",
   "execution_count": 159,
   "metadata": {},
   "outputs": [
    {
     "name": "stdout",
     "output_type": "stream",
     "text": [
      "La persona con sexo desconocido es mujer\n"
     ]
    }
   ],
   "source": [
    "gnb = GaussianNB()\n",
    "gnb.fit(df_HoM.drop('Person', axis=1), df_HoM.Person)\n",
    "prediction = gnb.predict(att_unknown_sex.reshape(1,-1))\n",
    "if prediction[0] == 'female':\n",
    "    prediction[0] = 'mujer'\n",
    "else:\n",
    "    prediction[0] = 'hombre'\n",
    "    \n",
    "print('La persona con sexo desconocido es ' + prediction[0])"
   ]
  }
 ],
 "metadata": {
  "kernelspec": {
   "display_name": "Python 3",
   "language": "python",
   "name": "python3"
  },
  "language_info": {
   "codemirror_mode": {
    "name": "ipython",
    "version": 3
   },
   "file_extension": ".py",
   "mimetype": "text/x-python",
   "name": "python",
   "nbconvert_exporter": "python",
   "pygments_lexer": "ipython3",
   "version": "3.6.4"
  }
 },
 "nbformat": 4,
 "nbformat_minor": 2
}
