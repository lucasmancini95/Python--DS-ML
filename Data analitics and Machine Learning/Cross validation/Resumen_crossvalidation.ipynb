{
 "cells": [
  {
   "cell_type": "markdown",
   "metadata": {},
   "source": [
    "## Validacion cruzada\n",
    "<br> La validación cruzada sirve para verificar que un modelo no overfitteo sus parametros a un cierto set de datos. Consiste en dividir el set de datos en varias particiones, usando, en cada iteracion, una particion como test y el resto com train, luego obteniendo el promedio de los scores de cada modelo correspondiente a cada iteración. Existen dos tipos de validacion cruzada: no exhaustiva y exhaustiva.<br>\n",
    "<li>\n",
    "<ul> $\\textbf{Validación cruzada exhaustiva}$: Se exploran todas las posibles maneras en las que el set puede ser dividido en training y test sets. Ejemplo: Leave-One-Out-Cross Validation (LOOCV).</ul>\n",
    "<ul> $\\textbf{Validación cruzada no exhaustiva}$: Se divide el set de datos en una cierta cantidad de particiones y se utiliza, al menos una vez, cada particion como test set. Ejemplo: K-Fold-Cross Validation y Holdout- Crossvalidation.</ul>\n",
    "</li>\n",
    "\n"
   ]
  },
  {
   "cell_type": "markdown",
   "metadata": {},
   "source": [
    "### Hold Out cross validation\n",
    "<br> Se basa simplemente en dividir el set de datos en dos, un training set y test set. Es la manera mas simple de hacer validación cruzada, pero tambien la que implica menor imparcialidad del modelo. <br>\n",
    "<br> Una manera sencilla y rapida de implementarlo es con la funcion de sklearn.model_selection train_test_split, la cual separa un set de datos aleatoriamente en set de training y otro set de test.<br>"
   ]
  },
  {
   "cell_type": "code",
   "execution_count": 5,
   "metadata": {},
   "outputs": [
    {
     "data": {
      "text/html": [
       "<div>\n",
       "<style scoped>\n",
       "    .dataframe tbody tr th:only-of-type {\n",
       "        vertical-align: middle;\n",
       "    }\n",
       "\n",
       "    .dataframe tbody tr th {\n",
       "        vertical-align: top;\n",
       "    }\n",
       "\n",
       "    .dataframe thead th {\n",
       "        text-align: right;\n",
       "    }\n",
       "</style>\n",
       "<table border=\"1\" class=\"dataframe\">\n",
       "  <thead>\n",
       "    <tr style=\"text-align: right;\">\n",
       "      <th></th>\n",
       "      <th>sepal length (cm)</th>\n",
       "      <th>sepal width (cm)</th>\n",
       "      <th>petal length (cm)</th>\n",
       "      <th>petal width (cm)</th>\n",
       "      <th>Specie</th>\n",
       "    </tr>\n",
       "  </thead>\n",
       "  <tbody>\n",
       "    <tr>\n",
       "      <th>0</th>\n",
       "      <td>5.1</td>\n",
       "      <td>3.5</td>\n",
       "      <td>1.4</td>\n",
       "      <td>0.2</td>\n",
       "      <td>0</td>\n",
       "    </tr>\n",
       "    <tr>\n",
       "      <th>1</th>\n",
       "      <td>4.9</td>\n",
       "      <td>3.0</td>\n",
       "      <td>1.4</td>\n",
       "      <td>0.2</td>\n",
       "      <td>0</td>\n",
       "    </tr>\n",
       "    <tr>\n",
       "      <th>2</th>\n",
       "      <td>4.7</td>\n",
       "      <td>3.2</td>\n",
       "      <td>1.3</td>\n",
       "      <td>0.2</td>\n",
       "      <td>0</td>\n",
       "    </tr>\n",
       "    <tr>\n",
       "      <th>3</th>\n",
       "      <td>4.6</td>\n",
       "      <td>3.1</td>\n",
       "      <td>1.5</td>\n",
       "      <td>0.2</td>\n",
       "      <td>0</td>\n",
       "    </tr>\n",
       "    <tr>\n",
       "      <th>4</th>\n",
       "      <td>5.0</td>\n",
       "      <td>3.6</td>\n",
       "      <td>1.4</td>\n",
       "      <td>0.2</td>\n",
       "      <td>0</td>\n",
       "    </tr>\n",
       "  </tbody>\n",
       "</table>\n",
       "</div>"
      ],
      "text/plain": [
       "   sepal length (cm)  sepal width (cm)  petal length (cm)  petal width (cm)  \\\n",
       "0                5.1               3.5                1.4               0.2   \n",
       "1                4.9               3.0                1.4               0.2   \n",
       "2                4.7               3.2                1.3               0.2   \n",
       "3                4.6               3.1                1.5               0.2   \n",
       "4                5.0               3.6                1.4               0.2   \n",
       "\n",
       "   Specie  \n",
       "0       0  \n",
       "1       0  \n",
       "2       0  \n",
       "3       0  \n",
       "4       0  "
      ]
     },
     "execution_count": 5,
     "metadata": {},
     "output_type": "execute_result"
    }
   ],
   "source": [
    "#ejemplo usando el data set iris de sklearn, viendo el score de una regresion logistica.\n",
    "from sklearn.datasets import load_iris\n",
    "import pandas as pd\n",
    "\n",
    "iris = load_iris()\n",
    "iris_df = pd.DataFrame(data=iris.data, columns = iris.feature_names)\n",
    "iris_df['Specie'] = iris.target \n",
    "iris_df.head(5)"
   ]
  },
  {
   "cell_type": "code",
   "execution_count": 6,
   "metadata": {},
   "outputs": [
    {
     "name": "stdout",
     "output_type": "stream",
     "text": [
      "Tamaño del set de train : 120\n",
      "Tamaño del set de test : 30\n"
     ]
    }
   ],
   "source": [
    "from sklearn.model_selection import train_test_split\n",
    "seed = 10012\n",
    "x_train, x_test, y_train, y_test = train_test_split(iris_df.drop(['Specie'], axis=1), iris_df['Specie'], test_size = 0.2, random_state = seed)\n",
    "print('Tamaño del set de train : {0}'.format(y_train.size))\n",
    "print('Tamaño del set de test : {0}'.format(y_test.size))"
   ]
  },
  {
   "cell_type": "code",
   "execution_count": 7,
   "metadata": {},
   "outputs": [
    {
     "name": "stdout",
     "output_type": "stream",
     "text": [
      "Muestra del set de train: \n",
      "      sepal length (cm)  sepal width (cm)  petal length (cm)  petal width (cm)\n",
      "90                 5.5               2.6                4.4               1.2\n",
      "144                6.7               3.3                5.7               2.5\n",
      "45                 4.8               3.0                1.4               0.3\n",
      "137                6.4               3.1                5.5               1.8\n",
      "30                 4.8               3.1                1.6               0.2\n",
      "Labels train:\n",
      "90     1\n",
      "144    2\n",
      "45     0\n",
      "137    2\n",
      "30     0\n",
      "Name: Specie, dtype: int64\n"
     ]
    }
   ],
   "source": [
    "print('Muestra del set de train: \\n {0}\\nLabels train:\\n{1}'.format(x_train.head(5), y_train.head(5)))"
   ]
  },
  {
   "cell_type": "code",
   "execution_count": 8,
   "metadata": {},
   "outputs": [
    {
     "name": "stdout",
     "output_type": "stream",
     "text": [
      "Muestra del set de test: \n",
      "      sepal length (cm)  sepal width (cm)  petal length (cm)  petal width (cm)\n",
      "74                 6.4               2.9                4.3               1.3\n",
      "54                 6.5               2.8                4.6               1.5\n",
      "35                 5.0               3.2                1.2               0.2\n",
      "24                 4.8               3.4                1.9               0.2\n",
      "135                7.7               3.0                6.1               2.3\n",
      "Labels test:\n",
      "74     1\n",
      "54     1\n",
      "35     0\n",
      "24     0\n",
      "135    2\n",
      "Name: Specie, dtype: int64\n"
     ]
    }
   ],
   "source": [
    "print('Muestra del set de test: \\n {0}\\nLabels test:\\n{1}'.format(x_test.head(5), y_test.head(5)))"
   ]
  },
  {
   "cell_type": "code",
   "execution_count": 9,
   "metadata": {},
   "outputs": [
    {
     "name": "stdout",
     "output_type": "stream",
     "text": [
      "La exactitud del modelo de regresion logistica fue: 96.66666666666667%\n",
      "True:[1 1 0 0 2 0 0 2 2 0 2 0 2 1 0 0 2 2 2 2 1 0 0 2 1 1 2 2 2 0]\n",
      "Pred:[1 1 0 0 2 0 0 2 2 0 2 0 2 1 0 0 2 2 2 2 1 0 0 2 1 1 2 1 2 0]\n"
     ]
    }
   ],
   "source": [
    "from sklearn.linear_model import LogisticRegression\n",
    "log_reg = LogisticRegression()\n",
    "log_reg.fit(x_train, y_train)\n",
    "score_lr = log_reg.score(x_test, y_test)\n",
    "print('La exactitud del modelo de regresion logistica fue: {0}%'.format(score_lr*100))\n",
    "print('True:{0}'.format(y_test.ravel()))\n",
    "print('Pred:{0}'.format(log_reg.predict(x_test)))"
   ]
  },
  {
   "cell_type": "markdown",
   "metadata": {},
   "source": [
    "\n",
    "### K-Fold cross validation\n",
    "<br> La validación cruzada K-Folf es utilizada para evaluar diferentes modelos para un set de datos limitado. Se basa en dividir el set de datos en K grupos y generar un modelo usado cada uno de los grupos $K_{i}$ como test y el resto $K-1$ de los fold como train, usando asi todos los $K_{i}$ al menos una vez como test. Se guardan los scores cometidos por cada modelo para ser promediadas o combinadas para llegar a un resultado singular. Por lo general, usar K entre 5 y 10 es una medida aceptada. <br> \n",
    "<br> La funcion de sklearn.model_selection cross_val_score es la manera mas sencilla de implementar este metodo.  <br>  "
   ]
  },
  {
   "cell_type": "code",
   "execution_count": 14,
   "metadata": {},
   "outputs": [
    {
     "name": "stdout",
     "output_type": "stream",
     "text": [
      "El score del modelo logistico calculado con un K-Fold de k = 10 es : 0.9533333333333334%El score del modelo logistico calculado con un K-Fold de k = 10 es : 0.9533333333333334%El score del modelo logistico calculado con un K-Fold de k = 10 es : 0.9533333333333334%El score del modelo logistico calculado con un K-Fold de k = 10 es : 0.9533333333333334%El score del modelo logistico calculado con un K-Fold de k = 10 es : 0.9533333333333334%El score del modelo logistico calculado con un K-Fold de k = 10 es : 0.9533333333333334%El score del modelo logistico calculado con un K-Fold de k = 10 es : 0.9533333333333334%El score del modelo logistico calculado con un K-Fold de k = 10 es : 0.9533333333333334%El score del modelo logistico calculado con un K-Fold de k = 10 es : 0.9533333333333334%El score del modelo logistico calculado con un K-Fold de k = 10 es : 0.9533333333333334%El score del modelo logistico calculado con un K-Fold de k = 10 es : 0.9533333333333334%El score del modelo logistico calculado con un K-Fold de k = 10 es : 0.9533333333333334%El score del modelo logistico calculado con un K-Fold de k = 10 es : 0.9533333333333334%El score del modelo logistico calculado con un K-Fold de k = 10 es : 0.9533333333333334%El score del modelo logistico calculado con un K-Fold de k = 10 es : 0.9533333333333334%El score del modelo logistico calculado con un K-Fold de k = 10 es : 0.9533333333333334%El score del modelo logistico calculado con un K-Fold de k = 10 es : 0.9533333333333334%El score del modelo logistico calculado con un K-Fold de k = 10 es : 0.9533333333333334%El score del modelo logistico calculado con un K-Fold de k = 10 es : 0.9533333333333334%El score del modelo logistico calculado con un K-Fold de k = 10 es : 0.9533333333333334%El score del modelo logistico calculado con un K-Fold de k = 10 es : 0.9533333333333334%El score del modelo logistico calculado con un K-Fold de k = 10 es : 0.9533333333333334%El score del modelo logistico calculado con un K-Fold de k = 10 es : 0.9533333333333334%El score del modelo logistico calculado con un K-Fold de k = 10 es : 0.9533333333333334%El score del modelo logistico calculado con un K-Fold de k = 10 es : 0.9533333333333334%El score del modelo logistico calculado con un K-Fold de k = 10 es : 0.9533333333333334%El score del modelo logistico calculado con un K-Fold de k = 10 es : 0.9533333333333334%El score del modelo logistico calculado con un K-Fold de k = 10 es : 0.9533333333333334%El score del modelo logistico calculado con un K-Fold de k = 10 es : 0.9533333333333334%El score del modelo logistico calculado con un K-Fold de k = 10 es : 0.9533333333333334%El score del modelo logistico calculado con un K-Fold de k = 10 es : 0.9533333333333334%El score del modelo logistico calculado con un K-Fold de k = 10 es : 0.9533333333333334%El score del modelo logistico calculado con un K-Fold de k = 10 es : 0.9533333333333334%El score del modelo logistico calculado con un K-Fold de k = 10 es : 0.9533333333333334%El score del modelo logistico calculado con un K-Fold de k = 10 es : 0.9533333333333334%El score del modelo logistico calculado con un K-Fold de k = 10 es : 0.9533333333333334%El score del modelo logistico calculado con un K-Fold de k = 10 es : 0.9533333333333334%El score del modelo logistico calculado con un K-Fold de k = 10 es : 0.9533333333333334%El score del modelo logistico calculado con un K-Fold de k = 10 es : 0.9533333333333334%El score del modelo logistico calculado con un K-Fold de k = 10 es : 0.9533333333333334%El score del modelo logistico calculado con un K-Fold de k = 10 es : 0.9533333333333334%El score del modelo logistico calculado con un K-Fold de k = 10 es : 0.9533333333333334%El score del modelo logistico calculado con un K-Fold de k = 10 es : 0.9533333333333334%El score del modelo logistico calculado con un K-Fold de k = 10 es : 0.9533333333333334%El score del modelo logistico calculado con un K-Fold de k = 10 es : 0.9533333333333334%El score del modelo logistico calculado con un K-Fold de k = 10 es : 0.9533333333333334%El score del modelo logistico calculado con un K-Fold de k = 10 es : 0.9533333333333334%El score del modelo logistico calculado con un K-Fold de k = 10 es : 0.9533333333333334%El score del modelo logistico calculado con un K-Fold de k = 10 es : 0.9533333333333334%El score del modelo logistico calculado con un K-Fold de k = 10 es : 0.9533333333333334%El score del modelo logistico calculado con un K-Fold de k = 10 es : 0.9533333333333334%El score del modelo logistico calculado con un K-Fold de k = 10 es : 0.9533333333333334%El score del modelo logistico calculado con un K-Fold de k = 10 es : 0.9533333333333334%El score del modelo logistico calculado con un K-Fold de k = 10 es : 0.9533333333333334%El score del modelo logistico calculado con un K-Fold de k = 10 es : 0.9533333333333334%El score del modelo logistico calculado con un K-Fold de k = 10 es : 0.9533333333333334%El score del modelo logistico calculado con un K-Fold de k = 10 es : 0.9533333333333334%El score del modelo logistico calculado con un K-Fold de k = 10 es : 0.9533333333333334%El score del modelo logistico calculado con un K-Fold de k = 10 es : 0.9533333333333334%El score del modelo logistico calculado con un K-Fold de k = 10 es : 0.9533333333333334%El score del modelo logistico calculado con un K-Fold de k = 10 es : 0.9533333333333334%El score del modelo logistico calculado con un K-Fold de k = 10 es : 0.9533333333333334%El score del modelo logistico calculado con un K-Fold de k = 10 es : 0.9533333333333334%El score del modelo logistico calculado con un K-Fold de k = 10 es : 0.9533333333333334%El score del modelo logistico calculado con un K-Fold de k = 10 es : 0.9533333333333334%El score del modelo logistico calculado con un K-Fold de k = 10 es : 0.9533333333333334%El score del modelo logistico calculado con un K-Fold de k = 10 es : 0.9533333333333334%El score del modelo logistico calculado con un K-Fold de k = 10 es : 0.9533333333333334%El score del modelo logistico calculado con un K-Fold de k = 10 es : 0.9533333333333334%El score del modelo logistico calculado con un K-Fold de k = 10 es : 0.9533333333333334%El score del modelo logistico calculado con un K-Fold de k = 10 es : 0.9533333333333334%El score del modelo logistico calculado con un K-Fold de k = 10 es : 0.9533333333333334%El score del modelo logistico calculado con un K-Fold de k = 10 es : 0.9533333333333334%El score del modelo logistico calculado con un K-Fold de k = 10 es : 0.9533333333333334%El score del modelo logistico calculado con un K-Fold de k = 10 es : 0.9533333333333334%El score del modelo logistico calculado con un K-Fold de k = 10 es : 0.9533333333333334%El score del modelo logistico calculado con un K-Fold de k = 10 es : 0.9533333333333334%El score del modelo logistico calculado con un K-Fold de k = 10 es : 0.9533333333333334%El score del modelo logistico calculado con un K-Fold de k = 10 es : 0.9533333333333334%El score del modelo logistico calculado con un K-Fold de k = 10 es : 0.9533333333333334%El score del modelo logistico calculado con un K-Fold de k = 10 es : 0.9533333333333334%El score del modelo logistico calculado con un K-Fold de k = 10 es : 0.9533333333333334%El score del modelo logistico calculado con un K-Fold de k = 10 es : 0.9533333333333334%El score del modelo logistico calculado con un K-Fold de k = 10 es : 0.9533333333333334%El score del modelo logistico calculado con un K-Fold de k = 10 es : 0.9533333333333334%El score del modelo logistico calculado con un K-Fold de k = 10 es : 0.9533333333333334%El score del modelo logistico calculado con un K-Fold de k = 10 es : 0.9533333333333334%El score del modelo logistico calculado con un K-Fold de k = 10 es : 0.9533333333333334%El score del modelo logistico calculado con un K-Fold de k = 10 es : 0.9533333333333334%El score del modelo logistico calculado con un K-Fold de k = 10 es : 0.9533333333333334%El score del modelo logistico calculado con un K-Fold de k = 10 es : 0.9533333333333334%El score del modelo logistico calculado con un K-Fold de k = 10 es : 0.9533333333333334%El score del modelo logistico calculado con un K-Fold de k = 10 es : 0.9533333333333334%El score del modelo logistico calculado con un K-Fold de k = 10 es : 0.9533333333333334%El score del modelo logistico calculado con un K-Fold de k = 10 es : 0.9533333333333334%El score del modelo logistico calculado con un K-Fold de k = 10 es : 0.9533333333333334%El score del modelo logistico calculado con un K-Fold de k = 10 es : 0.9533333333333334%El score del modelo logistico calculado con un K-Fold de k = 10 es : 0.9533333333333334%El score del modelo logistico calculado con un K-Fold de k = 10 es : 0.9533333333333334%El score del modelo logistico calculado con un K-Fold de k = 10 es : 0.9533333333333334%\n"
     ]
    }
   ],
   "source": [
    "#Viendo el score del modelo logistico con k-Fold de k = 10\n",
    "from sklearn.model_selection import cross_val_score\n",
    "import numpy as np\n",
    "\n",
    "X = iris_df.drop('Specie', axis=1)\n",
    "Y = iris_df['Specie']\n",
    "k = 10\n",
    "score = cross_val_score(log_reg, X, y=Y, cv=k)\n",
    "print('El score del modelo logistico calculado con un K-Fold de k = 10 es : {0}%'.format(np.mean(score)*100))"
   ]
  },
  {
   "cell_type": "markdown",
   "metadata": {},
   "source": [
    "### Leave-One-Out-Cross Validation (LOOCV)\n",
    "<br> Consiste en utilizar al menos una vez cada dato singular del set de datos como test y el resto como train set. Se producen K modelos donde K es el numero de datos que se tiene, donde en cada modelo $K_{i}$ se utiliza un dato en particular como test set y el resto $K-1$ datos como training. Se guardan los scores cometidos por cada modelo y se promedia. <br>\n",
    "Es un metodo mas costoso computacionalmente.<br>\n",
    "<br> Es sencillo de implementar usando la funcion LeaveOneOut de sklearn.model_selection. Esta devuelve los indices de la division de LOOCV.<br>"
   ]
  },
  {
   "cell_type": "code",
   "execution_count": 15,
   "metadata": {
    "scrolled": true
   },
   "outputs": [
    {
     "name": "stdout",
     "output_type": "stream",
     "text": [
      "El score del modelo usando LOOCV es : 95.33333333333334%\n"
     ]
    }
   ],
   "source": [
    "from sklearn.model_selection import LeaveOneOut\n",
    "\n",
    "loo = LeaveOneOut()\n",
    "scores = list()\n",
    "for train, test in loo.split(X):\n",
    "   log_reg.fit(X.iloc[train], Y[train])\n",
    "   scores = np.append(scores, log_reg.score(X.iloc[test], Y[test]))\n",
    "print('El score del modelo usando LOOCV es : {0}%'.format(np.mean(scores)*100))    \n"
   ]
  }
 ],
 "metadata": {
  "kernelspec": {
   "display_name": "Python 3",
   "language": "python",
   "name": "python3"
  },
  "language_info": {
   "codemirror_mode": {
    "name": "ipython",
    "version": 3
   },
   "file_extension": ".py",
   "mimetype": "text/x-python",
   "name": "python",
   "nbconvert_exporter": "python",
   "pygments_lexer": "ipython3",
   "version": "3.6.6"
  }
 },
 "nbformat": 4,
 "nbformat_minor": 2
}
