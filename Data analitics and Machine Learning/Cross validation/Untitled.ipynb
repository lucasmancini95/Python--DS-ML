{
 "cells": [
  {
   "cell_type": "markdown",
   "metadata": {},
   "source": [
    "Guia ADP 2_3"
   ]
  },
  {
   "cell_type": "code",
   "execution_count": 5,
   "metadata": {},
   "outputs": [],
   "source": [
    "import numpy.random as rdm\n",
    "import numpy as np\n",
    "import matplotlib.pyplot as plt\n",
    "import seaborn as sns\n",
    "from sklearn import linear_model"
   ]
  },
  {
   "cell_type": "markdown",
   "metadata": {},
   "source": [
    "1-Generar Muestras:\n",
    "1. Considere  una  variablex∼U(0,10)  y  generen=  100  muestras  de x\n",
    "2. Considerey=  3x+  2  +εdondeε∼N(0,1)  y  genere  100  muestras  apartir  de  las  anteriores."
   ]
  },
  {
   "cell_type": "code",
   "execution_count": 27,
   "metadata": {},
   "outputs": [],
   "source": [
    "x=rdm.rand(100)*10 #rand(100) me da 100 valores aleatorios entre 0 y 1\n",
    "#luego los multiplico por 10 para tener valores aleatorios entre 0, y 10\n",
    "y=3*x + 2 + rdm.randn(100) #hago una recta perfecta de pendinte 3 y ordenada 2 pero le agrego un ruido con randn entre 0 y1"
   ]
  },
  {
   "cell_type": "markdown",
   "metadata": {},
   "source": [
    "2-Evalue:\n",
    "    1.  Seleccione  el  80%  de  los  pares  (x,  y)  en  un  conjunto TRAIN y  el  20% restante  en TEST.\n",
    "    2.  Use  los  datos  enT  RAINpara  ajustar  regresiones  lineales  de  grado0,1,  .  .  .  ,25  y  el  otro  conjunto  para  evaluar  el  error  cuadr  ́atico  medio.\n",
    "    3. Que  modelo  da  mejor?\n",
    "    4. Repita  100  veces  la  generacion  de  muestras  y  selecci  ́on  de  modelo:Da  siempre  el  mismo  resultado?"
   ]
  },
  {
   "cell_type": "code",
   "execution_count": 7,
   "metadata": {},
   "outputs": [],
   "source": [
    "x_y=np.array([x,y]) #creo el conjunto de pares x y"
   ]
  },
  {
   "cell_type": "code",
   "execution_count": 8,
   "metadata": {},
   "outputs": [],
   "source": [
    "#1\n",
    "n=x_y[0].size #tamaño del x_y, es decir el largo de sus columnas\n",
    "s=int(0.8 * n) #le digo que s tenga el 80 porciento del tamaño de x_y\n",
    "\n",
    "training_index=rdm.choice(range(n),size=s,replace=False) #creo el indice de train\n",
    "test_index=np.setdiff1d(range(n),training_index,False) # me da el complemento de el training index y asi me el test index que en este caso va a ser el 20 %"
   ]
  },
  {
   "cell_type": "code",
   "execution_count": 9,
   "metadata": {},
   "outputs": [],
   "source": [
    "#ahora si creo los arreglo de cada uno, usando los index que creamos antes\n",
    "x_train=x[training_index] \n",
    "y_train=y[training_index]\n",
    "x_test=x[test_index]\n",
    "y_test=y[test_index]"
   ]
  },
  {
   "cell_type": "code",
   "execution_count": 147,
   "metadata": {},
   "outputs": [],
   "source": [
    "#2 primero armo las funciones para arma matriz, hacer la rl y por ultimo el error "
   ]
  },
  {
   "cell_type": "code",
   "execution_count": 10,
   "metadata": {},
   "outputs": [],
   "source": [
    "def armar_matriz_vandermonde(x, k):\n",
    "    M = np.zeros((len(x), k+1)) #crea matriz toda llena de 0s\n",
    "                                #con el numero de filas que tenga nuestros datos y con la cantidad de columnas del grado que queramos\n",
    "    for i in range(M.shape[0]): #recorre cada filas\n",
    "        for j in range(M.shape[1]): #en cada fila recorre todas las j columas elevando los datos\n",
    "            M[i,j] = x[i]**j\n",
    "                                #en estos dos ciclos anidados lo que hace es ir llenando cada columna con los datos elevados\n",
    "                                #a medida que aumenta el j se va elevando la potencia, ej si j=3 --> datos^3\n",
    "    return M"
   ]
  },
  {
   "cell_type": "code",
   "execution_count": 11,
   "metadata": {},
   "outputs": [
    {
     "data": {
      "text/plain": [
       "[<matplotlib.lines.Line2D at 0x24e026127f0>]"
      ]
     },
     "execution_count": 11,
     "metadata": {},
     "output_type": "execute_result"
    },
    {
     "data": {
      "image/png": "[encoded data removed]",
      "text/plain": [
       "<matplotlib.figure.Figure at 0x24e02612240>"
      ]
     },
     "metadata": {},
     "output_type": "display_data"
    }
   ],
   "source": [
    "#por EJEMPLO creo la matriz de grado 3 y la grafico\n",
    "matriz_v3=armar_matriz_vandermonde(x, 3)\n",
    "# print(matriz_v3.T)\n",
    "rl= linear_model.LinearRegression()\n",
    "rl.fit(matriz_v3,y)\n",
    "plt.scatter(x,y)\n",
    "plt.plot(x, rl.coef_[3] * x**3 + rl.coef_[2] * x**2 + rl.coef_[1] * x + rl.coef_[0],color='r')\n"
   ]
  },
  {
   "cell_type": "code",
   "execution_count": 12,
   "metadata": {},
   "outputs": [],
   "source": [
    "def ajuste_RL_k(x,y,k):\n",
    "    m=armar_matriz_vandermonde(x,k)\n",
    "    rl=linear_model.LinearRegression()\n",
    "    rl.fit(m,y)\n",
    "    return rl.coef_"
   ]
  },
  {
   "cell_type": "code",
   "execution_count": 13,
   "metadata": {},
   "outputs": [],
   "source": [
    "def error_cuadratico_medio(coef,x,y):\n",
    "    #armo el y predicto\n",
    "    y_predict = np.zeros((len(x), 1))\n",
    "    for i  in range(len(x)):\n",
    "        for j in range(coef.size):\n",
    "            y_predict[i]=y_predict[i]+coef[j]*(x[i]**j)\n",
    "    error=0\n",
    "    for i in range(y_predict.size):\n",
    "        error = error + (y_test[i] - y_predict[i])**2\n",
    "    error=error/i\n",
    "    return error\n"
   ]
  },
  {
   "cell_type": "code",
   "execution_count": 28,
   "metadata": {},
   "outputs": [
    {
     "data": {
      "text/plain": [
       "array([6.43149936])"
      ]
     },
     "execution_count": 28,
     "metadata": {},
     "output_type": "execute_result"
    }
   ],
   "source": [
    "coef=ajuste_RL_k(x_train,y_train,3)\n",
    "error_cuadratico_medio(coef,x_test,y_test)"
   ]
  },
  {
   "cell_type": "code",
   "execution_count": 29,
   "metadata": {},
   "outputs": [
    {
     "data": {
      "text/plain": [
       "2.034777129888078"
      ]
     },
     "execution_count": 29,
     "metadata": {},
     "output_type": "execute_result"
    }
   ],
   "source": [
    "#3\n",
    "e=np.zeros(25)\n",
    "for i in range(25):\n",
    "    e[i]=error_cuadratico_medio(ajuste_RL_k(x_train,y_train,i),x_test,y_test)\n",
    "e.min()"
   ]
  },
  {
   "cell_type": "code",
   "execution_count": 30,
   "metadata": {},
   "outputs": [
    {
     "name": "stdout",
     "output_type": "stream",
     "text": [
      "2.034777129888078\n",
      "2.034777129888078\n",
      "2.034777129888078\n",
      "2.034777129888078\n",
      "2.034777129888078\n",
      "2.034777129888078\n",
      "2.034777129888078\n",
      "2.034777129888078\n",
      "2.034777129888078\n",
      "2.034777129888078\n"
     ]
    }
   ],
   "source": [
    "#4\n",
    "e=np.zeros(25)\n",
    "for i in range(10): #repito 10 veces lo mismo y lo imprimo\n",
    "    rdm.seed(30)\n",
    "    x=rdm.rand(100)*10\n",
    "    y=3*x + 2 + rdm.randn(100)\n",
    "    training_index=rdm.choice(range(n),size=s,replace=False)\n",
    "    test_index=np.setdiff1d(range(n),training_index,False)\n",
    "    x_train=x[training_index] \n",
    "    y_train=y[training_index]\n",
    "    x_test=x[test_index]\n",
    "    y_test=y[test_index]\n",
    "    for i in range(25):\n",
    "        e[i]=error_cuadratico_medio(ajuste_RL_k(x_train,y_train,i),x_test,y_test)\n",
    "    print(e.min())\n",
    "    "
   ]
  },
  {
   "cell_type": "markdown",
   "metadata": {},
   "source": [
    "3.Parta  el  conjunto  original  de  100  pares  en k∈N folds."
   ]
  },
  {
   "cell_type": "code",
   "execution_count": 95,
   "metadata": {},
   "outputs": [
    {
     "ename": "TypeError",
     "evalue": "only size-1 arrays can be converted to Python scalars",
     "output_type": "error",
     "traceback": [
      "\u001b[1;31m---------------------------------------------------------------------------\u001b[0m",
      "\u001b[1;31mTypeError\u001b[0m                                 Traceback (most recent call last)",
      "\u001b[1;32m<ipython-input-95-a7b5b3be93f4>\u001b[0m in \u001b[0;36m<module>\u001b[1;34m()\u001b[0m\n\u001b[0;32m      7\u001b[0m     \u001b[0mb\u001b[0m\u001b[1;33m=\u001b[0m\u001b[0mnp\u001b[0m\u001b[1;33m.\u001b[0m\u001b[0msplit\u001b[0m\u001b[1;33m(\u001b[0m\u001b[0mint\u001b[0m\u001b[1;33m(\u001b[0m\u001b[0mz_y\u001b[0m\u001b[1;33m)\u001b[0m\u001b[1;33m,\u001b[0m\u001b[0mk\u001b[0m\u001b[1;33m)\u001b[0m\u001b[1;33m\u001b[0m\u001b[0m\n\u001b[0;32m      8\u001b[0m     \u001b[1;32mreturn\u001b[0m \u001b[0ma\u001b[0m\u001b[1;33m,\u001b[0m\u001b[0mb\u001b[0m\u001b[1;33m\u001b[0m\u001b[0m\n\u001b[1;32m----> 9\u001b[1;33m \u001b[0mx_folds\u001b[0m\u001b[1;33m,\u001b[0m \u001b[0my_folds\u001b[0m \u001b[1;33m=\u001b[0m\u001b[0mk_folds\u001b[0m\u001b[1;33m(\u001b[0m\u001b[0mx\u001b[0m\u001b[1;33m,\u001b[0m\u001b[0my\u001b[0m\u001b[1;33m,\u001b[0m\u001b[1;36m20\u001b[0m\u001b[1;33m)\u001b[0m\u001b[1;33m\u001b[0m\u001b[0m\n\u001b[0m",
      "\u001b[1;32m<ipython-input-95-a7b5b3be93f4>\u001b[0m in \u001b[0;36mk_folds\u001b[1;34m(x, y, k)\u001b[0m\n\u001b[0;32m      4\u001b[0m     \u001b[0mrdm\u001b[0m\u001b[1;33m.\u001b[0m\u001b[0mshuffle\u001b[0m\u001b[1;33m(\u001b[0m\u001b[0mz_x\u001b[0m\u001b[1;33m)\u001b[0m\u001b[1;33m\u001b[0m\u001b[0m\n\u001b[0;32m      5\u001b[0m     \u001b[0mrdm\u001b[0m\u001b[1;33m.\u001b[0m\u001b[0mshuffle\u001b[0m\u001b[1;33m(\u001b[0m\u001b[0mz_y\u001b[0m\u001b[1;33m)\u001b[0m\u001b[1;33m\u001b[0m\u001b[0m\n\u001b[1;32m----> 6\u001b[1;33m     \u001b[0ma\u001b[0m\u001b[1;33m=\u001b[0m\u001b[0mnp\u001b[0m\u001b[1;33m.\u001b[0m\u001b[0msplit\u001b[0m\u001b[1;33m(\u001b[0m\u001b[0mint\u001b[0m\u001b[1;33m(\u001b[0m\u001b[0mz_x\u001b[0m\u001b[1;33m)\u001b[0m\u001b[1;33m,\u001b[0m\u001b[0mk\u001b[0m\u001b[1;33m)\u001b[0m\u001b[1;33m\u001b[0m\u001b[0m\n\u001b[0m\u001b[0;32m      7\u001b[0m     \u001b[0mb\u001b[0m\u001b[1;33m=\u001b[0m\u001b[0mnp\u001b[0m\u001b[1;33m.\u001b[0m\u001b[0msplit\u001b[0m\u001b[1;33m(\u001b[0m\u001b[0mint\u001b[0m\u001b[1;33m(\u001b[0m\u001b[0mz_y\u001b[0m\u001b[1;33m)\u001b[0m\u001b[1;33m,\u001b[0m\u001b[0mk\u001b[0m\u001b[1;33m)\u001b[0m\u001b[1;33m\u001b[0m\u001b[0m\n\u001b[0;32m      8\u001b[0m     \u001b[1;32mreturn\u001b[0m \u001b[0ma\u001b[0m\u001b[1;33m,\u001b[0m\u001b[0mb\u001b[0m\u001b[1;33m\u001b[0m\u001b[0m\n",
      "\u001b[1;31mTypeError\u001b[0m: only size-1 arrays can be converted to Python scalars"
     ]
    }
   ],
   "source": [
    "def k_folds(x,y,k):\n",
    "    z_x=x\n",
    "    z_y=y\n",
    "    rdm.shuffle(z_x)\n",
    "    rdm.shuffle(z_y)\n",
    "    a=np.split(z_x,k)\n",
    "    b=np.split(z_y,k)\n",
    "    return a,b\n",
    "x_folds, y_folds =k_folds(x,y,20)"
   ]
  },
  {
   "cell_type": "code",
   "execution_count": 76,
   "metadata": {},
   "outputs": [],
   "source": [
    "# Seleccione un fold F y use los demas para ajustar una regresion y el fold F para evaluar el error cometido EF\n",
    "\n",
    "x_folds, y_folds =k_folds(x,y,10) #creo los folds\n",
    "x_f_test=np.asarray(x_folds[0]).flatten() # agarro uno cualquiera como el test x\n",
    "x_f_train=np.asarray(x_folds[1:10]).flatten() # el resto son train x\n",
    "y_f_test=np.asarray(y_folds[0]).flatten() # agarro uno cualquiera como el test y\n",
    "y_f_train=np.asarray(y_folds[1:10]).flatten() # el resto son train y\n"
   ]
  },
  {
   "cell_type": "code",
   "execution_count": 33,
   "metadata": {},
   "outputs": [
    {
     "data": {
      "text/plain": [
       "array([757.11879736])"
      ]
     },
     "execution_count": 33,
     "metadata": {},
     "output_type": "execute_result"
    }
   ],
   "source": [
    "coef=ajuste_RL_k(x_f_train,y_f_train,3) #ajusto\n",
    "error_cuadratico_medio(coef,x_test,y_test) #calculo error"
   ]
  },
  {
   "cell_type": "code",
   "execution_count": 34,
   "metadata": {},
   "outputs": [
    {
     "data": {
      "text/plain": [
       "41.45209651052315"
      ]
     },
     "execution_count": 34,
     "metadata": {},
     "output_type": "execute_result"
    }
   ],
   "source": [
    "#Repita para regresiones lineales de diferente grado, como antes.\n",
    "e=np.zeros(25)\n",
    "for i in range(25):\n",
    "    e[i]=error_cuadratico_medio(ajuste_RL_k(x_f_train,y_f_train,i),x_f_test,y_f_test)\n",
    "e.min()"
   ]
  },
  {
   "cell_type": "code",
   "execution_count": 69,
   "metadata": {},
   "outputs": [],
   "source": [
    "# Calcule el error medio (promedio) cuando F recorre todos los folds.\n",
    "def error_medio_k_folds(k,x,y,n): #siendo k el numero de folds, x y y los conjuntos de examen y el n el orden del ajuste que se quiere hacer\n",
    "    x_folds, y_folds =k_folds(x,y,10) #creo los folds\n",
    "    sum_e=0\n",
    "    for i in range(x.size/k):\n",
    "        print(i)\n",
    "        x_f_test=np.asarray(x_folds[i]).flatten() # agarro uno cualquiera como el test x\n",
    "        x_f_train=np.delete(np.asarray(x_folds),i,0).flatten() # el resto son train x\n",
    "        y_f_test=np.asarray(y_folds[i]).flatten() # agarro uno cualquiera como el test y\n",
    "        y_f_train=np.delete(np.asarray(y_folds),i,0).flatten() # el resto son train y\n",
    "        sum_e=sum_e + error_cuadratico_medio(ajuste_RL_k(x_f_train,y_f_train,n),x_f_test,y_f_test)\n",
    "    return (sum_e)/k\n"
   ]
  },
  {
   "cell_type": "code",
   "execution_count": 92,
   "metadata": {},
   "outputs": [
    {
     "data": {
      "text/plain": [
       "100"
      ]
     },
     "execution_count": 92,
     "metadata": {},
     "output_type": "execute_result"
    }
   ],
   "source": []
  }
 ],
 "metadata": {
  "kernelspec": {
   "display_name": "Python 3",
   "language": "python",
   "name": "python3"
  },
  "language_info": {
   "codemirror_mode": {
    "name": "ipython",
    "version": 3
   },
   "file_extension": ".py",
   "mimetype": "text/x-python",
   "name": "python",
   "nbconvert_exporter": "python",
   "pygments_lexer": "ipython3",
   "version": "3.6.4"
  }
 },
 "nbformat": 4,
 "nbformat_minor": 2
}
