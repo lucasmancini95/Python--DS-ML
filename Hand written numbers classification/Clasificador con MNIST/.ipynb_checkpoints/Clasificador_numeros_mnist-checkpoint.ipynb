{
 "cells": [
  {
   "cell_type": "code",
   "execution_count": 5,
   "metadata": {},
   "outputs": [],
   "source": [
    "import  tensorflow  as tf\n",
    "import numpy as np"
   ]
  },
  {
   "cell_type": "markdown",
   "metadata": {},
   "source": [
    "# Imporatacion base de datos MNIST"
   ]
  },
  {
   "cell_type": "code",
   "execution_count": 46,
   "metadata": {},
   "outputs": [
    {
     "name": "stdout",
     "output_type": "stream",
     "text": [
      "Extracting MNIST_data/train-images-idx3-ubyte.gz\n",
      "Extracting MNIST_data/train-labels-idx1-ubyte.gz\n",
      "Extracting MNIST_data/t10k-images-idx3-ubyte.gz\n",
      "Extracting MNIST_data/t10k-labels-idx1-ubyte.gz\n"
     ]
    }
   ],
   "source": [
    "from tensorflow.examples.tutorials.mnist import input_data\n",
    "mnist=input_data.read_data_sets(\"MNIST_data/\", one_hot=True) \n",
    "#en la variable mnist esta el dataset, que tiene las imagenes con sus etiquetas correspondientes\n",
    "#Las imagenes tienen dimension de 28x28"
   ]
  },
  {
   "cell_type": "code",
   "execution_count": 66,
   "metadata": {
    "scrolled": true
   },
   "outputs": [
    {
     "name": "stdout",
     "output_type": "stream",
     "text": [
      "labels validation (5000, 10)\n",
      "images validation (5000, 784)\n",
      "labels test (10000, 10)\n",
      "images test (10000, 784)\n",
      "labels train (55000, 10)\n",
      "images train (55000, 784)\n",
      "La cantidad total de imagenes que tengo es: 54880000\n"
     ]
    }
   ],
   "source": [
    "print(\"labels validation\",mnist.validation.labels.shape)\n",
    "print(\"images validation\",mnist.validation.images.shape)\n",
    "print(\"labels test\",mnist.test.labels.shape)\n",
    "print(\"images test\",mnist.test.images.shape)\n",
    "print(\"labels train\",mnist.train.labels.shape)\n",
    "print(\"images train\",mnist.train.images.shape)\n",
    "print(\"La cantidad total de imagenes que tengo es:\",mnist.validation.images.size+mnist.test.images.size+mnist.train.images.size)"
   ]
  },
  {
   "cell_type": "markdown",
   "metadata": {},
   "source": [
    "# Estructuracion de la RED NEURONAL"
   ]
  },
  {
   "cell_type": "markdown",
   "metadata": {},
   "source": [
    "Primero hay que pensar como va a ser la forma de nuestra red neuronal.\n",
    "En este caso la idea es que tenga una capa de entrada y una de salida."
   ]
  },
  {
   "cell_type": "markdown",
   "metadata": {},
   "source": [
    "La idea es que en la entrada tengamos una posicion para cada pixel (osea 28x28=784) y luego en la etapa de salida tendremos 10 neuronas que nos indicara que numero del 0 al 9 predice. Es decir, vamos a empezar con 784 elementos y de cada uno van a salir 10 \"axiomas\" cada una con un valor de peso "
   ]
  },
  {
   "cell_type": "code",
   "execution_count": 8,
   "metadata": {},
   "outputs": [],
   "source": [
    "#se define a x como nuestra Matriz que representa a la capa de entrada de la red neurnal\n",
    "#como voy a procesar imagnes de 28*28 pixels ==> 28*28=784\n",
    "#la palabra \"None\" indica que la otra dimension va a ser variable, este numero es \"la cantidad de imagenes que le ingreso\"\n",
    "#que sea float32 significa que los pixeles van a ser floats\n",
    "cantidad_neuronas_entrada=784\n",
    "x=tf.placeholder(tf.float32,[None,cantidad_neuronas_entrada]) "
   ]
  },
  {
   "cell_type": "code",
   "execution_count": 9,
   "metadata": {},
   "outputs": [],
   "source": [
    "#Ahora se define a P como la matriz de pesos que conecta la capa de entrada con la proxima capa (la de salida)\n",
    "#son 784 las neuronas de entrada y 10 las de la siguiente capa (entonces cada neurona tendra 10 conexiones salientes)\n",
    "cantidad_neuronas_salida=10\n",
    "P=tf.Variable(tf.zeros([cantidad_neuronas_entrada,cantidad_neuronas_salida])) "
   ]
  },
  {
   "cell_type": "code",
   "execution_count": 10,
   "metadata": {},
   "outputs": [],
   "source": [
    "#defino el vector de bias, es uno para cada neurona de salida\n",
    "b=tf.Variable(tf.zeros([cantidad_neuronas_salida]))"
   ]
  },
  {
   "cell_type": "code",
   "execution_count": 11,
   "metadata": {},
   "outputs": [],
   "source": [
    "# \"y\"  es la operacion que se realizara en cada neurona\n",
    "#se hace la multiplicacion de variables x y P (es decir que es el producto entre las entradas y los pesos)\n",
    "#luego se le suma el bias\n",
    "y=tf.matmul(x,P)+b "
   ]
  },
  {
   "cell_type": "code",
   "execution_count": 12,
   "metadata": {},
   "outputs": [],
   "source": [
    "#finalmente definimos yR que es donde van a estar las etiquetas REALES del set de datos \n",
    "#(el vector \"one-hot\" con las etiquetas de los dígitos)\n",
    "#se va a usar para entrenar,este yR se va comparar con lo que el algoritmo predijo.\n",
    "yR=tf.placeholder(tf.float32,[None,cantidad_neuronas_salida]) "
   ]
  },
  {
   "cell_type": "markdown",
   "metadata": {},
   "source": [
    "# Operaciones que se van a usar en el entrenamiento"
   ]
  },
  {
   "cell_type": "markdown",
   "metadata": {},
   "source": [
    "Con el fin de entrenar nuestro modelo, deberemos definir que significa para el modelo ser bueno. Bueno, en realidad, en machine learning se suele definirse que significa para un modelo ser malo. Llamamos a esto el coste, o la perdida, y representa lo lejos que nuestro modelo está del resultado deseado. Tratamos de minimizar el error, y cuanto menor sea el margen de error de este nuestro modelo será mejor."
   ]
  },
  {
   "cell_type": "markdown",
   "metadata": {},
   "source": [
    "CROSS ENTROPY:Una función muy común para determinar la pérdida del modelo se llama \"entropía cruzada\". Es la sumatoria: log(\"nuestra distribución de probabilidad predicha) multiplicado  por \"la distribución real\" (\"yR\":el vector \"one-hot\" con las etiquetas de los dígitos). En cierto sentido, la entropía cruzada es la medición de nuestras predicciones para describir la realidad."
   ]
  },
  {
   "cell_type": "markdown",
   "metadata": {},
   "source": [
    "SOFTMAX:Una imagen solo puede ser un número entre diez. Nuestro objetivo es ser capaces de ver una imagen y conocer las probabilidades de ser cada uno de los números.\n",
    "Entonces una regresión de softmax está compuesta por dos pasos: primero sumamos la evidencia que tenemos de que un objeto sea de un determinado tipo, y después, convertimos esa evidencia en una probabilidad.La función softmax es utilizada en la capa final de los clasificadores.\n",
    "Matematicamente Softmax es una funcion==> softmax(x)=(e^(x_j))/sumatoria(e^(x_k) {de k=1 a K} "
   ]
  },
  {
   "cell_type": "code",
   "execution_count": 13,
   "metadata": {},
   "outputs": [],
   "source": [
    "softmax=tf.nn.softmax_cross_entropy_with_logits_v2(labels=yR,logits=y)\n",
    "costo=tf.reduce_mean(softmax)\n",
    "#el optimizador es el que va a tratar de mejorar la red para que cada vez el error sea menor, osea que costo tienda a 0\n",
    "#se usa la tecnica optimizador del gradiente\n",
    "optimizador=tf.train.GradientDescentOptimizer(0.5).minimize(costo)"
   ]
  },
  {
   "cell_type": "code",
   "execution_count": 14,
   "metadata": {},
   "outputs": [],
   "source": [
    "#PREDICCION\n",
    "max_prediccion=tf.argmax(y, 1) #del vector \"y\" de predicciones solo agarro el que tenga el valor mas alto en todos los casos.\n",
    "max_real=tf.argmax(yR, 1) #agarro el valor real que tengo\n",
    "#Ahora comparo esos dos resultados y veo si las predicciones acerto con la realida\n",
    "#devuelve un vector de booleanos indicando cuales se acertaron y cuales no\n",
    "prediccion = tf.equal(max_prediccion, max_real) \n",
    "\n",
    "\n",
    "#Calculo el porcentaje de aciertos que obtuve en prediccion\n",
    "accuracy = tf.reduce_mean(tf.cast(prediccion, tf.float32))"
   ]
  },
  {
   "cell_type": "code",
   "execution_count": 15,
   "metadata": {},
   "outputs": [],
   "source": [
    "#defino una operación que inicialice todas las variables que hemos creado.\n",
    "#(obs:solo estoy definiendo la operacion, todavia no la ejecuto)\n",
    "init=tf.global_variables_initializer()"
   ]
  },
  {
   "cell_type": "markdown",
   "metadata": {},
   "source": [
    "# Entrenamiento"
   ]
  },
  {
   "cell_type": "code",
   "execution_count": 16,
   "metadata": {},
   "outputs": [],
   "source": [
    "#creo una session para trabajar\n",
    "sess = tf.Session()\n",
    "#voy a usar la operacion que ya defini para inizializar las varibles\n",
    "sess.run(init)"
   ]
  },
  {
   "cell_type": "markdown",
   "metadata": {},
   "source": [
    "En vez de pasarle todos los datos de mnist de una, le voy a pasar de a \"lotes\" de 100 elementos (batch en ingles)(esto es para que se vaya entrenando de a poco y no todo de una, eso seria bueno pero tardaria mucho).\n",
    "Para armar cada lote se eligen al azar 100 elementos del total.\n",
    "Se van a repetir 1000 veces este proceso (epocas, epoch en ingles), y en cada vuelta se va a ir entrenando mas."
   ]
  },
  {
   "cell_type": "code",
   "execution_count": 17,
   "metadata": {},
   "outputs": [],
   "source": [
    "#Defino esta funcion solo para poder ver que tan bien va a aprendiendo nuestro modelo en cada epoca\n",
    "def avance(i, sess, last_features, last_labels):\n",
    "    costoActual = sess.run(costo,feed_dict={x: last_features, yR: last_labels})\n",
    "    Certeza = sess.run(accuracy,feed_dict={x:mnist.validation.images,yR: mnist.validation.labels})\n",
    "    print('Epoca: {:<4} - Costo: {:<8.3} Certeza: {:<5.3}'.format(i,costoActual,Certeza))"
   ]
  },
  {
   "cell_type": "code",
   "execution_count": 18,
   "metadata": {},
   "outputs": [
    {
     "name": "stdout",
     "output_type": "stream",
     "text": [
      "Epoca: 0    - Costo: 1.67     Certeza: 0.296\n",
      "Epoca: 50   - Costo: 0.348    Certeza: 0.877\n",
      "Epoca: 100  - Costo: 0.339    Certeza: 0.893\n",
      "Epoca: 150  - Costo: 0.363    Certeza: 0.909\n",
      "Epoca: 200  - Costo: 0.2      Certeza: 0.91 \n",
      "Epoca: 250  - Costo: 0.294    Certeza: 0.911\n",
      "Epoca: 300  - Costo: 0.206    Certeza: 0.917\n",
      "Epoca: 350  - Costo: 0.233    Certeza: 0.907\n",
      "Epoca: 400  - Costo: 0.252    Certeza: 0.914\n",
      "Epoca: 450  - Costo: 0.334    Certeza: 0.915\n",
      "Epoca: 500  - Costo: 0.231    Certeza: 0.916\n",
      "Epoca: 550  - Costo: 0.201    Certeza: 0.915\n",
      "Epoca: 600  - Costo: 0.225    Certeza: 0.919\n",
      "Epoca: 650  - Costo: 0.333    Certeza: 0.916\n",
      "Epoca: 700  - Costo: 0.268    Certeza: 0.92 \n",
      "Epoca: 750  - Costo: 0.52     Certeza: 0.919\n",
      "Epoca: 800  - Costo: 0.281    Certeza: 0.918\n",
      "Epoca: 850  - Costo: 0.207    Certeza: 0.918\n",
      "Epoca: 900  - Costo: 0.243    Certeza: 0.921\n",
      "Epoca: 950  - Costo: 0.251    Certeza: 0.921\n"
     ]
    }
   ],
   "source": [
    "for i in range(1000):\n",
    "    batch_xs, batch_ys = mnist.train.next_batch(100)\n",
    "    sess.run(optimizador, feed_dict={x: batch_xs, yR: batch_ys})\n",
    "    if (i%50==0):\n",
    "            avance(i, sess, batch_xs, batch_ys)\n",
    "#obs: el if es solo para ver como va mejorando la certeza en cada epoca"
   ]
  },
  {
   "cell_type": "code",
   "execution_count": 19,
   "metadata": {},
   "outputs": [
    {
     "name": "stdout",
     "output_type": "stream",
     "text": [
      "RESULTADO FINAL:  0.9162\n"
     ]
    }
   ],
   "source": [
    "print('RESULTADO FINAL: ',sess.run(accuracy, feed_dict={x: mnist.test.images,yR: mnist.test.labels}))"
   ]
  },
  {
   "cell_type": "code",
   "execution_count": 20,
   "metadata": {},
   "outputs": [
    {
     "name": "stdout",
     "output_type": "stream",
     "text": [
      "Resultado de una imagen [4]\n"
     ]
    },
    {
     "data": {
      "text/plain": [
       "array([0., 0., 0., 0., 1., 0., 0., 0., 0., 0.])"
      ]
     },
     "execution_count": 20,
     "metadata": {},
     "output_type": "execute_result"
    }
   ],
   "source": [
    "Produccion = tf.argmax(y,1)\n",
    "print ('Resultado de una imagen',sess.run(Produccion,feed_dict={x: mnist.test.images[6].reshape(1,784)}))\n",
    "mnist.test.labels[6]"
   ]
  },
  {
   "cell_type": "markdown",
   "metadata": {},
   "source": [
    "# Importar Modelo"
   ]
  },
  {
   "cell_type": "code",
   "execution_count": 21,
   "metadata": {},
   "outputs": [],
   "source": [
    "#------------------"
   ]
  },
  {
   "cell_type": "markdown",
   "metadata": {},
   "source": [
    "# Prueba con numero recortado"
   ]
  },
  {
   "cell_type": "code",
   "execution_count": 22,
   "metadata": {},
   "outputs": [],
   "source": [
    "import numpy as np\n",
    "import os #para entrar a mis archivos\n",
    "import cv2 #opencv\n",
    "import matplotlib.pyplot as plt"
   ]
  },
  {
   "cell_type": "code",
   "execution_count": 43,
   "metadata": {},
   "outputs": [
    {
     "data": {
      "image/png": "[encoded data removed]",
      "text/plain": [
       "<Figure size 432x288 with 1 Axes>"
      ]
     },
     "metadata": {},
     "output_type": "display_data"
    }
   ],
   "source": [
    "num_dni= cv2.imread('./numero_recortado_9.png',0)\n",
    "plt.imshow(num_dni, cmap = 'gray')\n",
    "plt.xticks([]), plt.yticks([])  # to hide tick values on X and Y axis\n",
    "plt.show()"
   ]
  },
  {
   "cell_type": "code",
   "execution_count": 44,
   "metadata": {},
   "outputs": [
    {
     "name": "stdout",
     "output_type": "stream",
     "text": [
      "Resultado de una imagen [8]\n"
     ]
    }
   ],
   "source": [
    "print ('Resultado de una imagen',sess.run(Produccion,feed_dict={x: num_dni.flatten().reshape(1,784)}))   "
   ]
  },
  {
   "cell_type": "code",
   "execution_count": 45,
   "metadata": {},
   "outputs": [
    {
     "data": {
      "image/png": "[encoded data removed]",
      "text/plain": [
       "<Figure size 432x288 with 1 Axes>"
      ]
     },
     "metadata": {},
     "output_type": "display_data"
    },
    {
     "name": "stdout",
     "output_type": "stream",
     "text": [
      "Resultado de una imagen [3]\n"
     ]
    }
   ],
   "source": [
    "num_dni_l= cv2.imread('./numero_dni_lucas_recortado.png',0)\n",
    "plt.imshow(num_dni_l, cmap = 'gray')\n",
    "plt.xticks([]), plt.yticks([])  # to hide tick values on X and Y axis\n",
    "plt.show()\n",
    "print ('Resultado de una imagen',sess.run(Produccion,feed_dict={x: num_dni_l.flatten().reshape(1,784)}))  "
   ]
  },
  {
   "cell_type": "markdown",
   "metadata": {},
   "source": [
    "# Ver imagenes de mnist con cv2 (opencv)"
   ]
  },
  {
   "cell_type": "code",
   "execution_count": 188,
   "metadata": {},
   "outputs": [],
   "source": [
    "import os #para entrar a mis archivos\n",
    "import cv2 #opencv\n",
    "import matplotlib.pyplot as plt"
   ]
  },
  {
   "cell_type": "code",
   "execution_count": 190,
   "metadata": {},
   "outputs": [
    {
     "data": {
      "image/png": "[encoded data removed]",
      "text/plain": [
       "<Figure size 432x288 with 1 Axes>"
      ]
     },
     "metadata": {},
     "output_type": "display_data"
    }
   ],
   "source": [
    "plt.imshow(a, cmap = 'gray', interpolation = 'bicubic')\n",
    "plt.xticks([]), plt.yticks([])  # to hide tick values on X and Y axis\n",
    "plt.show()\n",
    "mnist.test.labels[6]"
   ]
  },
  {
   "cell_type": "code",
   "execution_count": 191,
   "metadata": {},
   "outputs": [],
   "source": [
    "a=mnist.test.images[6].reshape(28,28)\n",
    "cv2.imshow('image',a)\n",
    "cv2.waitKey(0)\n",
    "cv2.destroyAllWindows()\n"
   ]
  }
 ],
 "metadata": {
  "kernelspec": {
   "display_name": "Python 3",
   "language": "python",
   "name": "python3"
  },
  "language_info": {
   "codemirror_mode": {
    "name": "ipython",
    "version": 3
   },
   "file_extension": ".py",
   "mimetype": "text/x-python",
   "name": "python",
   "nbconvert_exporter": "python",
   "pygments_lexer": "ipython3",
   "version": "3.6.6"
  }
 },
 "nbformat": 4,
 "nbformat_minor": 2
}
