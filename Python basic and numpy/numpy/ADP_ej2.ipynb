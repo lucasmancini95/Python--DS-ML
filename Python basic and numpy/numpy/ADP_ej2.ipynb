{
 "cells": [
  {
   "cell_type": "markdown",
   "metadata": {},
   "source": [
    "#Guia de Ejercicios de ADP, Clase 2. UNSAM 2018\n",
    "#A. Debugguear\n",
    "## Ejercicio 1:\n",
    "La función *saludar()* pide nombre y apellido, los imprime en un mensaje de bienvenida y los devuelve.\n",
    "Sin embargo, al ejecutarlo da error. Hallar el error y corregirlo."
   ]
  },
  {
   "cell_type": "code",
   "execution_count": 37,
   "metadata": {},
   "outputs": [
    {
     "name": "stdout",
     "output_type": "stream",
     "text": [
      "Nombre: dfgd\n",
      "Apellido: fdf\n",
      "Bienvenido dfgd fdf!\n"
     ]
    },
    {
     "data": {
      "text/plain": [
       "['dfgd', 'fdf']"
      ]
     },
     "execution_count": 37,
     "metadata": {},
     "output_type": "execute_result"
    }
   ],
   "source": [
    "def saludar():\n",
    "   \n",
    "    N=[]\n",
    "    N.append(input(\"Nombre: \"))\n",
    "    N.append(input(\"Apellido: \"))\n",
    "    print(\"Bienvenido {0} {1}!\".format(N[0],N[1]))\n",
    "    return N\n",
    "    \n",
    "saludar()\n",
    "\n"
   ]
  },
  {
   "cell_type": "markdown",
   "metadata": {},
   "source": [
    "##Ejercicio 2:\n",
    "En este fragmento ocurre algo extraño. Una variable cambia de valor cuando no pareciera tener que cambiar. \n",
    "Determine dónde y por qué cambia y corrija el código de forma conveniente."
   ]
  },
  {
   "cell_type": "code",
   "execution_count": null,
   "metadata": {},
   "outputs": [],
   "source": [
    "import numpy as np    \n",
    "\n",
    "def cuadrados(V):\n",
    "    \"\"\"\n",
    "    esta función toma un array V\n",
    "    e imprime sus elementos al cuadrado.\n",
    "    \"\"\"\n",
    "    W=V.copy()\n",
    "    n=len(V)\n",
    "    for i in range(n):\n",
    "        W[i]=V[i]**2\n",
    "    print(\"El vector cuadrado: \",W)\n",
    "    return W\n",
    "        \n",
    "        \n",
    "V=np.linspace(0,5,6)\n",
    "print(\"El vector original: \",V)\n",
    "W=cuadrados(V)\n",
    "print(\"El vector original: \",V)\n",
    "print(\"El vector cuadrado: \",W)\n"
   ]
  },
  {
   "cell_type": "markdown",
   "metadata": {},
   "source": [
    "##Ejercicio 3:\n",
    "Determinar por qué el gráfico de la parábola que realiza el siguiente código no se ve simétrico y corregirlo.\n",
    "\n",
    "*ojo:* la priemra linea (_%matplotlib inline_) solo se usa si se corre en una notebook para que plotee inline, si lo corrés de otra forma hay que sacarla\n"
   ]
  },
  {
   "cell_type": "code",
   "execution_count": 2,
   "metadata": {},
   "outputs": [
    {
     "data": {
      "text/plain": [
       "[<matplotlib.lines.Line2D at 0x13046573898>]"
      ]
     },
     "execution_count": 2,
     "metadata": {},
     "output_type": "execute_result"
    },
    {
     "data": {
      "image/png": "[encoded data removed]",
      "text/plain": [
       "<matplotlib.figure.Figure at 0x130464f29e8>"
      ]
     },
     "metadata": {},
     "output_type": "display_data"
    }
   ],
   "source": [
    "%matplotlib inline\n",
    "import matplotlib.pyplot as plt\n",
    "import numpy as np    \n",
    "\n",
    "def F(x):\n",
    "    return x**2 #defino una funcion cuadratica\n",
    "\n",
    "X = np.arange(-10,11) #la funcion arrange(a,b) va desde a, hasta b-1\n",
    "type(X)\n",
    "\n",
    "plt.plot(X,F(X)) #plote x vs F(X)"
   ]
  },
  {
   "cell_type": "markdown",
   "metadata": {},
   "source": [
    "#B. Estructuras de datos: Diccionarios, conjuntos y arrays\n",
    "##Diccionarios\n",
    "\n",
    "##Ejercicio 1: \n",
    "\n",
    "\n",
    "Crear un diccionario que se llame precios. Agregar los siguientes elementos al diccionario:\n",
    "\n",
    "```python\n",
    "    'banana': 30\n",
    "    'manzana': 30\n",
    "    'naranja': 20\n",
    "    'pera': 30\n",
    "```\n",
    "\n",
    "Crear un diccionario que se llame stock, Agregarlos siguientes elementos al diccionario:\n",
    "\n",
    "```python\n",
    "    'banana': 6,\n",
    "    'manzana': 0,\n",
    "    'naranja': 32,\n",
    "    'pera': 15\n",
    "```   \n",
    "\n",
    "1. Utilizando ciclos sobre los diccionarios correspondientes:\n",
    " 1. Reducir todos los precios un 10%.\n",
    "\n",
    " 1. Imprimir cada el nombre el precio y el stock de cada fruta. Por ejemplo, se espera que para la manzana se  imprima:\n",
    "\n",
    "   ```python\n",
    "    manzana\n",
    "    precio: 27.0\n",
    "    stock: 0\n",
    "   ```\n",
    "\n",
    " 2. Calcular cuánto dinero obtendría si logra vender toda la fruta al precio dado."
   ]
  },
  {
   "cell_type": "code",
   "execution_count": 11,
   "metadata": {},
   "outputs": [
    {
     "name": "stdout",
     "output_type": "stream",
     "text": [
      "banana : 30\n",
      "manzana : 10\n",
      "naranja : 20\n",
      "pera : 30\n",
      "banana : 27.0\n",
      "manzana : 9.0\n",
      "naranja : 18.0\n",
      "pera : 27.0\n",
      "banana :\n",
      " precio: 27.0 \n",
      " stock: 6\n",
      "manzana :\n",
      " precio: 9.0 \n",
      " stock: 0\n",
      "naranja :\n",
      " precio: 18.0 \n",
      " stock: 32\n",
      "pera :\n",
      " precio: 27.0 \n",
      " stock: 15\n",
      "1143.0\n"
     ]
    }
   ],
   "source": [
    "#A\n",
    "precios_frutas={}  #diccionario de frutas (keys) con sus precio (attributes)\n",
    "precios_frutas['banana']=30 #automaticamente crea la key y crea uno de los attributes\n",
    "precios_frutas['manzana']=10\n",
    "precios_frutas['naranja']=20\n",
    "precios_frutas['pera']=30\n",
    "\n",
    "#B\n",
    "stock_frutas={'banana':6,'manzana':0,'naranja':32,'pera':15}    #diccionario de frutas (keys) con su stock (attributes)\n",
    "                                                                #en este caso se crea el dicc ya con keys y attributes\n",
    "#muestro el diccionario completo\n",
    "for i in precios_frutas:\n",
    "    print(i,\":\",precios_frutas[i])\n",
    "\n",
    "#Reducir los precios de todo en un 10%, es decir modificar los atributos del diccionario\n",
    "for i in precios_frutas:\n",
    "    precios_frutas[i]=precios_frutas[i]*0.9 \n",
    "    print(i,\":\",precios_frutas[i])\n",
    "    \n",
    "\n",
    "#imprimir el nombre, el precio y el stock\n",
    "for i in precios_frutas:\n",
    "    print(i,\":\\n\",\"precio:\",precios_frutas[i],\"\\n stock:\",stock_frutas[i])\n",
    "\n",
    "#calcular cuanto se ganaria si se vende toda la fruta en stock despues del descuento\n",
    "total=0\n",
    "for i in precios_frutas:\n",
    "    total=total+(precios_frutas[i]*stock_frutas[i])\n",
    "print(total)   \n",
    "-----------------------------------------------------------------------------------------    \n",
    "#ahora hago un nuevo diccionario con listas en vez de ints y que tiene tanto precio como stock\n",
    "frutas_precios_stock={}  \n",
    "frutas_precios_stock['banana']=[30,6] #automaticamente crea la key y crea uno de los attributes\n",
    "frutas_precios_stock['manzana']=[10,0]\n",
    "frutas_precios_stock['naranja']=[20,32]\n",
    "frutas_precios_stock['pera']=[30,15]\n",
    "\n",
    "for i in frutas_precios_stock:\n",
    "    print(i,\":\",\"\\n precio\", frutas_precios_stock[i][0], \"\\n\" , \"stock\", frutas_precios_stock[i][1] )\n",
    "\n",
    "# o simplemete imprimo el diccionario entero ---> print(frutas_precio_Stock)"
   ]
  },
  {
   "cell_type": "markdown",
   "metadata": {},
   "source": [
    "##Ejercicio 2: \n",
    "Dado el siguiente diccionario\n",
    "\n",
    "```python\n",
    "inventario = {\n",
    "'cajon': ['libro', 'cordel', 'pelusa']\n",
    "'mochila': ['libro', 'comida', 'plata', 'moneda'],\n",
    "'bolsa': ['cordel', 'piedra', 'comida']\n",
    "}\n",
    "```\n",
    "\n",
    "1. Agregar un item al diccionario cuya clave sea *'bolsillo'* y su valor sera una lista de las siguientes cadenas *'pelusa'*, *'fósforo usado'* y *'moneda'*.\n",
    "\n",
    "2. Ordenar los items de la lista que tiene como clave *'mochila'*.\n",
    "\n",
    "3. Luego, remover *'comida'* de la lista de items de la clave *'mochila'*.\n"
   ]
  },
  {
   "cell_type": "code",
   "execution_count": 39,
   "metadata": {
    "scrolled": true
   },
   "outputs": [
    {
     "name": "stdout",
     "output_type": "stream",
     "text": [
      "{'cajon': ['pelusa', 'cordel', 'libro'], 'mochila': ['comida', 'libro', 'moneda', 'plata'], 'bolsillo': ['pelusa', 'fosforo usado', 'moneda']}\n"
     ]
    }
   ],
   "source": [
    "inventario = {\n",
    "'cajon': ['libro', 'cordel', 'pelusa'],\n",
    "'mochila': ['libro', 'comida', 'plata', 'moneda'],\n",
    "'bolsa': ['cordel', 'piedra', 'comida'],\n",
    "}\n",
    "\n",
    "inventario\n",
    "\n",
    "inventario['mochila']=sorted(inventario['mochila']) #funcion sorted que sirve para ordenar los elementos de una lista\n",
    "inventario.__setitem__('bolsillo',['pelusa','fosforo usado','moneda']) # metodo de la clase dict que sirve para agregar un elemento, agrego la key y le digo cual van aser los attributos en la lista \n",
    "inventario.__delitem__('bolsa') # metodo de la clase dict elimin el key con todos sus attributos (no hay que preocuparse por que quede un dato sin puntero)\n",
    "inventario['cajon'].reverse() #metodo de la clase list, cambia el orden de los elemento de la lista \n",
    "\n",
    "print(inventario)"
   ]
  },
  {
   "cell_type": "markdown",
   "metadata": {},
   "source": [
    "## SET\n",
    "\n",
    "##Ejercicio 3:\n",
    "\n",
    "1. Basándose en el diccionario del ejercicio anterior crée un conjunto (*set()*) que contenga los elementos que se encuentran en el *cajon*, la *mochila*, la *bolsa*  y el *bolsillo*\n",
    "2. Agregue  al conjunto el elemento *'cortaplumas'*.\n",
    "3. Elimine  del conjunto la *moneda*.\n",
    "4. Calcule la cantidad de elementos que hay en el conjunto.\n"
   ]
  },
  {
   "cell_type": "code",
   "execution_count": 1,
   "metadata": {},
   "outputs": [
    {
     "data": {
      "text/plain": [
       "set"
      ]
     },
     "execution_count": 1,
     "metadata": {},
     "output_type": "execute_result"
    }
   ],
   "source": [
    "inventario = {\n",
    "'cajon': ['libro', 'cordel', 'pelusa'],\n",
    "'mochila': ['libro', 'comida', 'plata', 'moneda'],\n",
    "'bolsa': ['cordel', 'piedra', 'comida'],\n",
    "}\n",
    "\n",
    "inventario['mochila']=sorted(inventario['mochila']) #funcion sorted que sirve para ordenar los elementos de una lista\n",
    "inventario.__setitem__('bolsillo',['pelusa','fosforo usado','moneda']) # metodo de la clase dict que sirve para agregar un elemento, agrego la key y le digo cual van a ser los attributos en la lista \n",
    "inventario.__delitem__('bolsa') # metodo de la clase dict elimin el key con todos sus attributos (no hay que preocuparse por que quede un dato sin puntero)\n",
    "inventario['cajon'].reverse() # metodo de la clase list, cambia el orden de los elemento de la lista \n",
    "inventario #imprimo el inventario\n",
    "\n",
    "s = set() #creo un nuevo conjunto\n",
    "\n",
    "for i in inventario: #recorro las keys del dict\n",
    "    for j in inventario[i]: #recorro los atributos de las keys\n",
    "        s.add(j) #uso el metodo de set y agrego todos los atrubutos de todas las keys del dicionario\n"
   ]
  },
  {
   "cell_type": "markdown",
   "metadata": {},
   "source": [
    "## NUMPY ARRAYS\n",
    "\n",
    "##Ejercicio 4:\n",
    "\n",
    "1. Crear un arreglo de Numpy Array de 3x3 que tenga todos los valores de 2 a 10 (inclusive).\n",
    "\n",
    " Output esperado:\n",
    " ```python\n",
    " [[ 2 3 4]\n",
    " [ 5 6 7]\n",
    " [ 8 9 10]]\n",
    " ```\n",
    "\n",
    "2. Crear un Numpy Array de ceros de longitud 10. Luego actualice el sexto valor a 11.\n",
    " Output esperado 1:\n",
    " ```\n",
    " [ 0. 0. 0. 0. 0. 0. 0. 0. 0. 0.]\n",
    " ```\n",
    "\n",
    " Output esperado luego de actualizar el sexto lugar:\n",
    " ```\n",
    " [ 0. 0. 0. 0. 0. 0. 11. 0. 0. 0.]\n",
    " ```\n",
    "\n",
    "3. Crear un Numpy Array que contenga todos los valores de 12 a 38.\n",
    "\n",
    " Output esperado:\n",
    " ```\n",
    " [12 13 14 15 16 17 18 19 20 21 22 23 24 25 26 27 28 29 30 31 32 33 34 35 36 37] \n",
    " ```"
   ]
  },
  {
   "cell_type": "code",
   "execution_count": 7,
   "metadata": {},
   "outputs": [
    {
     "data": {
      "text/plain": [
       "array([12, 13, 14, 15, 16, 17, 18, 19, 20, 21, 22, 23, 24, 25, 26, 27, 28,\n",
       "       29, 30, 31, 32, 33, 34, 35, 36, 37, 38])"
      ]
     },
     "execution_count": 7,
     "metadata": {},
     "output_type": "execute_result"
    }
   ],
   "source": [
    "import numpy as np\n",
    "b = np.array([[2, 3, 4], [5, 6, 7],[8,9,10]])\n",
    "b\n",
    "\n",
    "\n",
    "c=np.zeros(10,int) \n",
    "c\n",
    "\n",
    "c[5]=11\n",
    "c\n",
    "\n",
    "d=np.arange(12,39,1)\n",
    "d"
   ]
  },
  {
   "cell_type": "markdown",
   "metadata": {},
   "source": [
    "## Ejercicio 5:\n",
    "Realizar un programa en Python que tenga como input un Numpy Array de valores de temperatura en grados Celcius y dé como output un Numpy Array de temperaturas en Fahrenheit.\n"
   ]
  },
  {
   "cell_type": "code",
   "execution_count": 8,
   "metadata": {},
   "outputs": [],
   "source": [
    "def conv_temp_nparray(data_in,U):\n",
    "    dim_t=data_in.ndim\n",
    "    forma=data_in.shape\n",
    "    dim_1=forma[0]\n",
    "    if(dim_t==2):\n",
    "        dim_2=forma[1]\n",
    "    elif(dim_t>2):\n",
    "        print(\"error en dimension\")\n",
    "    if(U=='F'):\n",
    "        for i in range(0,dim_1,1):\n",
    "            data_in[i]=(data_in[i]-32)*(5/9)\n",
    "        if(dim_t>2):\n",
    "            for j in range(0,dim_2,1):\n",
    "                data_in[j]=(data_in[j]-32)*(5/9)\n",
    "         \n",
    "    elif(U=='C'):\n",
    "        for i in range(0,dim_1,1):\n",
    "            data_in[i]=(data_in[i]*(9/5)+32)\n",
    "        if(dim_t>2):\n",
    "            for j in range(0,dim_2,1):\n",
    "                data_in[j]=(data_in[j]*(9/5)+32) \n",
    "    else:\n",
    "        print(\"error, unidad incorrecta\")\n",
    "    print(data_in)"
   ]
  },
  {
   "cell_type": "markdown",
   "metadata": {},
   "source": [
    "##  Ejercicio 6:\n",
    "Utilizando la función _numpy.where()_ o _numpy.nonzero()_, escribir un par de líneas de código en python que, dado un np.array *x*, devuelva los elementos de *x* mayores que 10 y sus coordenadas.\n",
    "\n",
    "*Ejemplo:*\n",
    "```python\n",
    "Input: [[ 0 10 20], [20 30 40]]\n",
    "\n",
    "Valores mayores a 10 = [20 20 30 40]\n",
    "Indices:  (array([0, 1, 1, 1]), array([2, 0, 1, 2]))\n",
    "```"
   ]
  },
  {
   "cell_type": "code",
   "execution_count": 36,
   "metadata": {},
   "outputs": [
    {
     "name": "stdout",
     "output_type": "stream",
     "text": [
      "[20 20 30 40]\n",
      "(array([0, 1, 1, 1], dtype=int64), array([2, 0, 1, 2], dtype=int64))\n"
     ]
    }
   ],
   "source": [
    "import numpy as np\n",
    "x=np.array([[0,10,20],[20,30,40]])\n",
    "\n",
    "print(x[np.where(x>10)])\n",
    "print(np.where(x>10))\n",
    "\n"
   ]
  },
  {
   "cell_type": "markdown",
   "metadata": {},
   "source": [
    "#C. Análisis de código\n",
    "\n",
    "##Ejercicio: \n",
    "El siguiente fragmento de código realiza un *experimento numérico*. Analizarlo para describir qué hace cada una de las tres funciones. ¿Qué conclusión puede sacar de los resultados del experimento?"
   ]
  },
  {
   "cell_type": "code",
   "execution_count": 8,
   "metadata": {},
   "outputs": [
    {
     "name": "stdout",
     "output_type": "stream",
     "text": [
      "Observar que 9.007 es menor que 13.0865\n"
     ]
    }
   ],
   "source": [
    "import numpy as np\n",
    "from numpy.random import randint as randint\n",
    "\n",
    "def busqueda_alea(n):\n",
    "    cota_inf = 1\n",
    "    cota_sup = 1024\n",
    "    hallado = False\n",
    "    n_intentos=0\n",
    "    while (not hallado):\n",
    "        n_intentos += 1\n",
    "        propuesta = randint(cota_inf,cota_sup)\n",
    "        #print(n_intentos, propuesta, cota_inf, cota_sup)\n",
    "        if (propuesta == n):\n",
    "            hallado = True\n",
    "        elif (propuesta < n):\n",
    "            cota_inf = propuesta\n",
    "        else: #en este caso propuesta > n\n",
    "            cota_sup = propuesta\n",
    "    return n_intentos\n",
    "\n",
    "def busqueda_bina(n):\n",
    "    cota_inf = 1\n",
    "    cota_sup = 1024\n",
    "    hallado = False\n",
    "    n_intentos=0\n",
    "    while (not hallado):\n",
    "        n_intentos += 1\n",
    "        propuesta = (cota_inf + cota_sup) // 2\n",
    "        #print(n_intentos, propuesta, cota_inf, cota_sup)\n",
    "        if (propuesta == n):\n",
    "            hallado = True\n",
    "        elif (propuesta < n):\n",
    "            cota_inf = propuesta\n",
    "        else: #en este caso propuesta > n\n",
    "            cota_sup = propuesta\n",
    "    return n_intentos\n",
    "        \n",
    "def comparar():\n",
    "    intentos_alea = []\n",
    "    intentos_bina = []\n",
    "        \n",
    "    for i in range(10000):\n",
    "        n=randint(1,1024)\n",
    "        intentos_alea.append(busqueda_alea(n))\n",
    "        intentos_bina.append(busqueda_bina(n))\n",
    "    \n",
    "    print(\"Observar que {0} es menor que {1}\".format(np.mean(intentos_bina), np.mean(intentos_alea)))\n",
    "\n",
    "comparar()"
   ]
  }
 ],
 "metadata": {
  "kernelspec": {
   "display_name": "Python 3",
   "language": "python",
   "name": "python3"
  },
  "language_info": {
   "codemirror_mode": {
    "name": "ipython",
    "version": 3
   },
   "file_extension": ".py",
   "mimetype": "text/x-python",
   "name": "python",
   "nbconvert_exporter": "python",
   "pygments_lexer": "ipython3",
   "version": "3.6.6"
  }
 },
 "nbformat": 4,
 "nbformat_minor": 1
}
