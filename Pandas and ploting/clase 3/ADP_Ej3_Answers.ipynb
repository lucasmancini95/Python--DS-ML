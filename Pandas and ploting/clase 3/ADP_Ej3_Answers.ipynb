{
 "cells": [
  {
   "cell_type": "markdown",
   "metadata": {},
   "source": [
    "##Análisis de Datos con Python, UNSAM 2018, Guía 3."
   ]
  },
  {
   "cell_type": "markdown",
   "metadata": {},
   "source": [
    "Defina un DataFrame **df** a partir de los datos del archivo *SAmericaFruitProd.csv* e importe las librerías a utilizar (plt,sns,np,pd). Use el comando **%matplotlib inline ** para que los plors del notebook sea *inline*"
   ]
  },
  {
   "cell_type": "code",
   "execution_count": 3,
   "metadata": {},
   "outputs": [
    {
     "ename": "ModuleNotFoundError",
     "evalue": "No module named 'seaborn'",
     "output_type": "error",
     "traceback": [
      "\u001b[1;31m---------------------------------------------------------------------------\u001b[0m",
      "\u001b[1;31mModuleNotFoundError\u001b[0m                       Traceback (most recent call last)",
      "\u001b[1;32m<ipython-input-3-e522341c0f23>\u001b[0m in \u001b[0;36m<module>\u001b[1;34m()\u001b[0m\n\u001b[0;32m      1\u001b[0m \u001b[1;32mimport\u001b[0m \u001b[0mnumpy\u001b[0m \u001b[1;32mas\u001b[0m \u001b[0mnp\u001b[0m\u001b[1;33m\u001b[0m\u001b[0m\n\u001b[0;32m      2\u001b[0m \u001b[1;32mimport\u001b[0m \u001b[0mpandas\u001b[0m \u001b[1;32mas\u001b[0m \u001b[0mpd\u001b[0m\u001b[1;33m\u001b[0m\u001b[0m\n\u001b[1;32m----> 3\u001b[1;33m \u001b[1;32mimport\u001b[0m \u001b[0mseaborn\u001b[0m \u001b[1;32mas\u001b[0m \u001b[0msns\u001b[0m\u001b[1;33m\u001b[0m\u001b[0m\n\u001b[0m\u001b[0;32m      4\u001b[0m \u001b[1;32mimport\u001b[0m \u001b[0mmatplotlib\u001b[0m\u001b[1;33m.\u001b[0m\u001b[0mpyplot\u001b[0m \u001b[1;32mas\u001b[0m \u001b[0mplt\u001b[0m\u001b[1;33m\u001b[0m\u001b[0m\n\u001b[0;32m      5\u001b[0m \u001b[0mget_ipython\u001b[0m\u001b[1;33m(\u001b[0m\u001b[1;33m)\u001b[0m\u001b[1;33m.\u001b[0m\u001b[0mrun_line_magic\u001b[0m\u001b[1;33m(\u001b[0m\u001b[1;34m'matplotlib'\u001b[0m\u001b[1;33m,\u001b[0m \u001b[1;34m'inline'\u001b[0m\u001b[1;33m)\u001b[0m\u001b[1;33m\u001b[0m\u001b[0m\n",
      "\u001b[1;31mModuleNotFoundError\u001b[0m: No module named 'seaborn'"
     ]
    }
   ],
   "source": [
    "import numpy as np\n",
    "import pandas as pd\n",
    "import seaborn as sns\n",
    "import matplotlib.pyplot as plt\n",
    "%matplotlib inline  \n",
    "\n",
    "df = pd.read_csv(\"SAmericaFruitProd.csv\",  encoding = \"ISO-8859-1\")\n",
    "\n",
    "df.head()"
   ]
  },
  {
   "cell_type": "markdown",
   "metadata": {},
   "source": [
    "Generar un nuevo dataframe, **data_arg**, con los datos de argentina (usar una copia y no un alias)"
   ]
  },
  {
   "cell_type": "code",
   "execution_count": 2,
   "metadata": {},
   "outputs": [],
   "source": [
    "data_arg=df[df['Country']=='Argentina'].copy()"
   ]
  },
  {
   "cell_type": "markdown",
   "metadata": {},
   "source": [
    "tirar la columna (irrelevante) 'Country' de **data_arg**"
   ]
  },
  {
   "cell_type": "code",
   "execution_count": 3,
   "metadata": {},
   "outputs": [],
   "source": [
    "data_arg.drop('Country',axis=1,inplace=True)"
   ]
  },
  {
   "cell_type": "markdown",
   "metadata": {},
   "source": [
    "genere una Serie **mand** a partir de la columna *Mandarins* de **data_arg**"
   ]
  },
  {
   "cell_type": "code",
   "execution_count": 4,
   "metadata": {},
   "outputs": [
    {
     "data": {
      "text/plain": [
       "0    196000\n",
       "1    166000\n",
       "2    195000\n",
       "3    187200\n",
       "4    101000\n",
       "Name: Mandarins, dtype: int64"
      ]
     },
     "execution_count": 4,
     "metadata": {},
     "output_type": "execute_result"
    }
   ],
   "source": [
    "mand=data_arg.Mandarins\n",
    "mand.head()"
   ]
  },
  {
   "cell_type": "markdown",
   "metadata": {},
   "source": [
    "usar la columna 'Year' como indice de data_arg (ver método set_index, estudiar la opción modificador inplace)"
   ]
  },
  {
   "cell_type": "code",
   "execution_count": 5,
   "metadata": {},
   "outputs": [],
   "source": [
    "data_arg.set_index('Year',inplace=True)"
   ]
  },
  {
   "cell_type": "markdown",
   "metadata": {},
   "source": [
    "genere la Serie **mand** nuevamente. Qué diferencia hay en los índices? Trabaje con esta última Serie"
   ]
  },
  {
   "cell_type": "code",
   "execution_count": 6,
   "metadata": {},
   "outputs": [
    {
     "data": {
      "text/plain": [
       "Year\n",
       "Y1961    196000\n",
       "Y1962    166000\n",
       "Y1963    195000\n",
       "Y1964    187200\n",
       "Y1965    101000\n",
       "Name: Mandarins, dtype: int64"
      ]
     },
     "execution_count": 6,
     "metadata": {},
     "output_type": "execute_result"
    }
   ],
   "source": [
    "mand=data_arg.Mandarins\n",
    "mand.head()"
   ]
  },
  {
   "cell_type": "markdown",
   "metadata": {},
   "source": [
    "plotée la produccion de mandarinas en argentina"
   ]
  },
  {
   "cell_type": "code",
   "execution_count": 7,
   "metadata": {},
   "outputs": [
    {
     "data": {
      "text/plain": [
       "<matplotlib.axes._subplots.AxesSubplot at 0x7f9acc23a390>"
      ]
     },
     "execution_count": 7,
     "metadata": {},
     "output_type": "execute_result"
    },
    {
     "data": {
      "image/png": "[encoded data removed]",
      "text/plain": [
       "<matplotlib.figure.Figure at 0x7f9acc299ba8>"
      ]
     },
     "metadata": {},
     "output_type": "display_data"
    }
   ],
   "source": [
    "mand.plot()"
   ]
  },
  {
   "cell_type": "markdown",
   "metadata": {},
   "source": [
    "Use los métodos argmax y max para determinar la cantidad y el año en que la producción de mandarina fue máxima en Argentina y cuál fue su cantidad."
   ]
  },
  {
   "cell_type": "code",
   "execution_count": 8,
   "metadata": {},
   "outputs": [
    {
     "name": "stdout",
     "output_type": "stream",
     "text": [
      "El máximo se alcanzó en el año 2001 y fue de 700404 toneladas.\n",
      "El mínimo se alcanzó en el año 1965 y fue de 101000 toneladas.\n"
     ]
    }
   ],
   "source": [
    "print(\"El máximo se alcanzó en el año\", mand.argmax()[1:], \"y fue de\", mand.max(), \"toneladas.\")\n",
    "print(\"El mínimo se alcanzó en el año\", mand.argmin()[1:], \"y fue de\", mand.min(), \"toneladas.\")\n",
    "\n"
   ]
  },
  {
   "cell_type": "markdown",
   "metadata": {},
   "source": [
    "seleccione las filas de correspondientes a la década del '70 y calcule la producción media de eta década"
   ]
  },
  {
   "cell_type": "code",
   "execution_count": 9,
   "metadata": {},
   "outputs": [
    {
     "data": {
      "text/plain": [
       "238440.0"
      ]
     },
     "execution_count": 9,
     "metadata": {},
     "output_type": "execute_result"
    }
   ],
   "source": [
    "mand.loc['Y1970':'Y1979'].mean()"
   ]
  },
  {
   "cell_type": "markdown",
   "metadata": {},
   "source": [
    "calcule la producción media de cada década y plotée los datos obtenidos (puede ser tedioso)\n",
    "\n"
   ]
  },
  {
   "cell_type": "markdown",
   "metadata": {},
   "source": [
    "#volvamos a trabajar con el dataframe data_arg\n",
    "plotear las 7 series de datos de Argentina en un solo grafico"
   ]
  },
  {
   "cell_type": "code",
   "execution_count": 10,
   "metadata": {},
   "outputs": [
    {
     "data": {
      "text/plain": [
       "<matplotlib.axes._subplots.AxesSubplot at 0x7f9acc1ded68>"
      ]
     },
     "execution_count": 10,
     "metadata": {},
     "output_type": "execute_result"
    },
    {
     "data": {
      "image/png": "[encoded data removed]",
      "text/plain": [
       "<matplotlib.figure.Figure at 0x7f9acc1d79e8>"
      ]
     },
     "metadata": {},
     "output_type": "display_data"
    }
   ],
   "source": [
    "data_arg.plot()"
   ]
  },
  {
   "cell_type": "markdown",
   "metadata": {},
   "source": [
    "realizar un scatterplot de la produccion de 'pears' vs 'citrus'"
   ]
  },
  {
   "cell_type": "code",
   "execution_count": 11,
   "metadata": {},
   "outputs": [
    {
     "data": {
      "text/plain": [
       "<matplotlib.axes._subplots.AxesSubplot at 0x7f9acc1c16d8>"
      ]
     },
     "execution_count": 11,
     "metadata": {},
     "output_type": "execute_result"
    },
    {
     "data": {
      "image/png": "[encoded data removed]",
      "text/plain": [
       "<matplotlib.figure.Figure at 0x7f9acc12d128>"
      ]
     },
     "metadata": {},
     "output_type": "display_data"
    }
   ],
   "source": [
    "data_arg.plot.scatter('Pears','Citrus')"
   ]
  },
  {
   "cell_type": "markdown",
   "metadata": {},
   "source": [
    "determinar la producción media de cada fruta durante la década del '70 "
   ]
  },
  {
   "cell_type": "code",
   "execution_count": 12,
   "metadata": {},
   "outputs": [
    {
     "data": {
      "text/plain": [
       "Apples        618700.0\n",
       "Bananas       265660.0\n",
       "Citrus       1439082.7\n",
       "Kiwi               0.0\n",
       "Oranges       780840.0\n",
       "Pears         110935.0\n",
       "Mandarins     238440.0\n",
       "dtype: float64"
      ]
     },
     "execution_count": 12,
     "metadata": {},
     "output_type": "execute_result"
    }
   ],
   "source": [
    "data_arg['Y1970':'Y1979'].mean()"
   ]
  },
  {
   "cell_type": "markdown",
   "metadata": {},
   "source": [
    "#volvamos a trabajar con el dataframe completo, df"
   ]
  },
  {
   "cell_type": "markdown",
   "metadata": {},
   "source": [
    "Genere un nuevo dataframe, **dM**, que contenga la produccion de mandarinas de todos los países, seteando el índice adecuadamente "
   ]
  },
  {
   "cell_type": "code",
   "execution_count": 13,
   "metadata": {},
   "outputs": [
    {
     "data": {
      "text/html": [
       "<div style=\"max-width:1500px;overflow:auto;\">\n",
       "<table border=\"1\" class=\"dataframe\">\n",
       "  <thead>\n",
       "    <tr style=\"text-align: right;\">\n",
       "      <th></th>\n",
       "      <th>Country</th>\n",
       "      <th>Mandarins</th>\n",
       "    </tr>\n",
       "    <tr>\n",
       "      <th>Year</th>\n",
       "      <th></th>\n",
       "      <th></th>\n",
       "    </tr>\n",
       "  </thead>\n",
       "  <tbody>\n",
       "    <tr>\n",
       "      <th>Y1961</th>\n",
       "      <td>Argentina</td>\n",
       "      <td>196000</td>\n",
       "    </tr>\n",
       "    <tr>\n",
       "      <th>Y1962</th>\n",
       "      <td>Argentina</td>\n",
       "      <td>166000</td>\n",
       "    </tr>\n",
       "    <tr>\n",
       "      <th>Y1963</th>\n",
       "      <td>Argentina</td>\n",
       "      <td>195000</td>\n",
       "    </tr>\n",
       "    <tr>\n",
       "      <th>Y1964</th>\n",
       "      <td>Argentina</td>\n",
       "      <td>187200</td>\n",
       "    </tr>\n",
       "    <tr>\n",
       "      <th>Y1965</th>\n",
       "      <td>Argentina</td>\n",
       "      <td>101000</td>\n",
       "    </tr>\n",
       "  </tbody>\n",
       "</table>\n",
       "</div>"
      ],
      "text/plain": [
       "         Country  Mandarins\n",
       "Year                       \n",
       "Y1961  Argentina     196000\n",
       "Y1962  Argentina     166000\n",
       "Y1963  Argentina     195000\n",
       "Y1964  Argentina     187200\n",
       "Y1965  Argentina     101000"
      ]
     },
     "execution_count": 13,
     "metadata": {},
     "output_type": "execute_result"
    }
   ],
   "source": [
    "dM=df[['Country','Mandarins']].copy()\n",
    "dM.index=df.Year\n",
    "dM.head()"
   ]
  },
  {
   "cell_type": "markdown",
   "metadata": {},
   "source": [
    "realice un boxplot comparando las magnitudes de producción de mandarinas de cada país"
   ]
  },
  {
   "cell_type": "code",
   "execution_count": 14,
   "metadata": {},
   "outputs": [
    {
     "data": {
      "text/plain": [
       "<matplotlib.axes._subplots.AxesSubplot at 0x7f9acc0d07f0>"
      ]
     },
     "execution_count": 14,
     "metadata": {},
     "output_type": "execute_result"
    },
    {
     "data": {
      "image/png": "[encoded data removed]",
      "text/plain": [
       "<matplotlib.figure.Figure at 0x7f9acc072198>"
      ]
     },
     "metadata": {},
     "output_type": "display_data"
    }
   ],
   "source": [
    "dM.boxplot(by='Country')"
   ]
  },
  {
   "cell_type": "markdown",
   "metadata": {},
   "source": [
    "compare la producción de Citrus por país con un boxplot un swarmplot y un violinplot (seaborn)"
   ]
  },
  {
   "cell_type": "code",
   "execution_count": 2,
   "metadata": {},
   "outputs": [
    {
     "ename": "NameError",
     "evalue": "name 'plt' is not defined",
     "output_type": "error",
     "traceback": [
      "\u001b[1;31m---------------------------------------------------------------------------\u001b[0m",
      "\u001b[1;31mNameError\u001b[0m                                 Traceback (most recent call last)",
      "\u001b[1;32m<ipython-input-2-3a6ef4967408>\u001b[0m in \u001b[0;36m<module>\u001b[1;34m()\u001b[0m\n\u001b[1;32m----> 1\u001b[1;33m \u001b[0mplt\u001b[0m\u001b[1;33m.\u001b[0m\u001b[0mfigure\u001b[0m\u001b[1;33m(\u001b[0m\u001b[1;33m)\u001b[0m\u001b[1;33m\u001b[0m\u001b[0m\n\u001b[0m\u001b[0;32m      2\u001b[0m \u001b[0msns\u001b[0m\u001b[1;33m.\u001b[0m\u001b[0mswarmplot\u001b[0m\u001b[1;33m(\u001b[0m\u001b[0mx\u001b[0m\u001b[1;33m=\u001b[0m\u001b[0mdf\u001b[0m\u001b[1;33m.\u001b[0m\u001b[0mCountry\u001b[0m\u001b[1;33m,\u001b[0m \u001b[0my\u001b[0m\u001b[1;33m=\u001b[0m\u001b[0mdf\u001b[0m\u001b[1;33m.\u001b[0m\u001b[0mMandarins\u001b[0m\u001b[1;33m)\u001b[0m\u001b[1;33m\u001b[0m\u001b[0m\n\u001b[0;32m      3\u001b[0m \u001b[0mplt\u001b[0m\u001b[1;33m.\u001b[0m\u001b[0mfigure\u001b[0m\u001b[1;33m(\u001b[0m\u001b[1;33m)\u001b[0m\u001b[1;33m\u001b[0m\u001b[0m\n\u001b[0;32m      4\u001b[0m \u001b[0msns\u001b[0m\u001b[1;33m.\u001b[0m\u001b[0mviolinplot\u001b[0m\u001b[1;33m(\u001b[0m\u001b[0mx\u001b[0m\u001b[1;33m=\u001b[0m\u001b[0mdf\u001b[0m\u001b[1;33m.\u001b[0m\u001b[0mCountry\u001b[0m\u001b[1;33m,\u001b[0m \u001b[0my\u001b[0m\u001b[1;33m=\u001b[0m\u001b[0mdf\u001b[0m\u001b[1;33m.\u001b[0m\u001b[0mMandarins\u001b[0m\u001b[1;33m)\u001b[0m\u001b[1;33m\u001b[0m\u001b[0m\n\u001b[0;32m      5\u001b[0m \u001b[0mplt\u001b[0m\u001b[1;33m.\u001b[0m\u001b[0mfigure\u001b[0m\u001b[1;33m(\u001b[0m\u001b[1;33m)\u001b[0m\u001b[1;33m\u001b[0m\u001b[0m\n",
      "\u001b[1;31mNameError\u001b[0m: name 'plt' is not defined"
     ]
    }
   ],
   "source": [
    "plt.figure()\n",
    "sns.swarmplot(x=df.Country, y=df.Mandarins)\n",
    "plt.figure()\n",
    "sns.violinplot(x=df.Country, y=df.Mandarins)\n",
    "plt.figure()\n",
    "sns.boxplot(x=df.Country, y=df.Mandarins)\n"
   ]
  },
  {
   "cell_type": "markdown",
   "metadata": {},
   "source": [
    "Defina el conjunto Países y Years, usando el método unique() y el dataframe **dM**"
   ]
  },
  {
   "cell_type": "code",
   "execution_count": 1,
   "metadata": {},
   "outputs": [
    {
     "ename": "NameError",
     "evalue": "name 'dM' is not defined",
     "output_type": "error",
     "traceback": [
      "\u001b[1;31m---------------------------------------------------------------------------\u001b[0m",
      "\u001b[1;31mNameError\u001b[0m                                 Traceback (most recent call last)",
      "\u001b[1;32m<ipython-input-1-b1a524cfbdc3>\u001b[0m in \u001b[0;36m<module>\u001b[1;34m()\u001b[0m\n\u001b[1;32m----> 1\u001b[1;33m \u001b[0mPaises\u001b[0m \u001b[1;33m=\u001b[0m \u001b[0mdM\u001b[0m\u001b[1;33m.\u001b[0m\u001b[0mCountry\u001b[0m\u001b[1;33m.\u001b[0m\u001b[0munique\u001b[0m\u001b[1;33m(\u001b[0m\u001b[1;33m)\u001b[0m\u001b[1;33m\u001b[0m\u001b[0m\n\u001b[0m\u001b[0;32m      2\u001b[0m \u001b[0mYears\u001b[0m\u001b[1;33m=\u001b[0m\u001b[1;33m[\u001b[0m\u001b[0mint\u001b[0m\u001b[1;33m(\u001b[0m\u001b[0mY\u001b[0m\u001b[1;33m[\u001b[0m\u001b[1;36m1\u001b[0m\u001b[1;33m:\u001b[0m\u001b[1;33m]\u001b[0m\u001b[1;33m)\u001b[0m \u001b[1;32mfor\u001b[0m \u001b[0mY\u001b[0m \u001b[1;32min\u001b[0m \u001b[0mdM\u001b[0m\u001b[1;33m.\u001b[0m\u001b[0mindex\u001b[0m\u001b[1;33m.\u001b[0m\u001b[0munique\u001b[0m\u001b[1;33m(\u001b[0m\u001b[1;33m)\u001b[0m\u001b[1;33m]\u001b[0m\u001b[1;33m\u001b[0m\u001b[0m\n\u001b[0;32m      3\u001b[0m \u001b[0mprint\u001b[0m\u001b[1;33m(\u001b[0m\u001b[1;34m'Paises:'\u001b[0m\u001b[1;33m,\u001b[0m\u001b[0mPaises\u001b[0m\u001b[1;33m,\u001b[0m\u001b[1;34m'\\n\\nAños:'\u001b[0m\u001b[1;33m,\u001b[0m \u001b[0mYears\u001b[0m\u001b[1;33m)\u001b[0m\u001b[1;33m\u001b[0m\u001b[0m\n\u001b[0;32m      4\u001b[0m \u001b[0mtype\u001b[0m\u001b[1;33m(\u001b[0m\u001b[0mYears\u001b[0m\u001b[1;33m)\u001b[0m\u001b[1;33m\u001b[0m\u001b[0m\n",
      "\u001b[1;31mNameError\u001b[0m: name 'dM' is not defined"
     ]
    }
   ],
   "source": [
    "Paises = dM.Country.unique()\n",
    "Years=[int(Y[1:]) for Y in dM.index.unique()]\n",
    "print('Paises:',Paises,'\\n\\nAños:', Years)\n"
   ]
  },
  {
   "cell_type": "markdown",
   "metadata": {},
   "source": [
    "utilice estos conjuntos para plotear la producción de Mandarins a lo largo de los años para todos los paises en un solo gráfico"
   ]
  },
  {
   "cell_type": "code",
   "execution_count": 17,
   "metadata": {},
   "outputs": [
    {
     "data": {
      "image/png": "[encoded data removed]",
      "text/plain": [
       "<matplotlib.figure.Figure at 0x7f9acbcadef0>"
      ]
     },
     "metadata": {},
     "output_type": "display_data"
    }
   ],
   "source": [
    "plt.clf()\n",
    "for pais in Paises:\n",
    "    plt.plot(Years,df[df['Country']==pais].Mandarins.values)"
   ]
  },
  {
   "cell_type": "markdown",
   "metadata": {},
   "source": [
    "##------------------------------------------------------------------------------------------------------\n",
    "Volvamos a trabajar con **FAO.csv**, el archivo que usamos en la *Parte 3* de la clase como ejemplo.\n",
    "\n",
    "En este ejercicio vamos a plotear la produccion de soja desde 1961 hasta 2016 de los 10 paises que mas produjeron en el periodo"
   ]
  },
  {
   "cell_type": "markdown",
   "metadata": {},
   "source": [
    "Abrir el archivo en un DataFrame **df**"
   ]
  },
  {
   "cell_type": "code",
   "execution_count": 18,
   "metadata": {},
   "outputs": [],
   "source": [
    "df = pd.read_csv(\"~/Downloads/Production_Crops_E_All_Data.csv\",  encoding = \"ISO-8859-1\")"
   ]
  },
  {
   "cell_type": "markdown",
   "metadata": {},
   "source": [
    "Armar un df df_soy_prod que tenga solo las filas de df con 'Element'=='Production' & 'Item'=='Soybeans'"
   ]
  },
  {
   "cell_type": "code",
   "execution_count": 19,
   "metadata": {},
   "outputs": [],
   "source": [
    "df_soy_prod = df[(df['Element']=='Production') & (df['Item']=='Soybeans')]"
   ]
  },
  {
   "cell_type": "markdown",
   "metadata": {},
   "source": [
    "Cuales son las columnas de este nuevo df? Use el método describe para inspeccionar **df**"
   ]
  },
  {
   "cell_type": "code",
   "execution_count": 20,
   "metadata": {},
   "outputs": [
    {
     "name": "stdout",
     "output_type": "stream",
     "text": [
      "         Area Code  Item Code  Element Code            Y1961            Y1962  \\\n",
      "count   140.000000        140           140        77.000000        76.000000   \n",
      "mean   1252.214286        236          5510   1482059.467532   1518503.302632   \n",
      "std    2160.460958          0             0   4847774.713335   4876932.835686   \n",
      "min       3.000000        236          5510        19.000000        20.000000   \n",
      "25%      90.500000        236          5510      1000.000000      1045.750000   \n",
      "50%     165.500000        236          5510      5000.000000      8152.000000   \n",
      "75%     240.500000        236          5510    164836.000000    160560.250000   \n",
      "max    5817.000000        236          5510  26883158.000000  27120148.000000   \n",
      "\n",
      "                 Y1963            Y1964            Y1965            Y1966  \\\n",
      "count        76.000000        75.000000        75.000000        76.000000   \n",
      "mean    1581268.960526   1661714.320000   1778805.813333   2031709.763158   \n",
      "std     5085738.177990   5252274.530159   5911894.729378   6635179.657470   \n",
      "min          12.000000        12.000000        30.000000        25.000000   \n",
      "25%        1000.000000      1021.000000      1112.000000      1000.000000   \n",
      "50%        8133.500000      9560.000000      9895.000000     11167.000000   \n",
      "75%      141193.500000    176358.000000    187228.000000    170852.250000   \n",
      "max    28207071.000000  29079547.000000  31704923.000000  36412918.000000   \n",
      "\n",
      "                 Y1967      ...              Y2007         Y2008  \\\n",
      "count        76.000000      ...       1.250000e+02  1.250000e+02   \n",
      "mean    2112504.539474      ...       7.322545e+06  7.694912e+06   \n",
      "std     6934244.484273      ...       2.963165e+07  3.111221e+07   \n",
      "min          25.000000      ...       0.000000e+00  0.000000e+00   \n",
      "25%        1047.250000      ...       2.683000e+03  2.900000e+03   \n",
      "50%       12560.500000      ...       5.290000e+04  5.095200e+04   \n",
      "75%      193313.000000      ...       5.800000e+05  5.910000e+05   \n",
      "max    37933319.000000      ...       2.197930e+08  2.311484e+08   \n",
      "\n",
      "              Y2009         Y2010         Y2011         Y2012         Y2013  \\\n",
      "count  1.250000e+02  1.250000e+02  1.250000e+02  1.250000e+02  1.250000e+02   \n",
      "mean   7.427548e+06  8.813889e+06  8.700321e+06  8.037083e+06  9.212550e+06   \n",
      "std    3.003818e+07  3.560058e+07  3.512578e+07  3.208001e+07  3.762285e+07   \n",
      "min    0.000000e+00  0.000000e+00  0.000000e+00  0.000000e+00  0.000000e+00   \n",
      "25%    2.767000e+03  2.814000e+03  2.767000e+03  2.866000e+03  3.553000e+03   \n",
      "50%    5.940000e+04  6.298700e+04  6.715400e+04  7.124600e+04  7.515300e+04   \n",
      "75%    5.160000e+05  5.660000e+05  7.100000e+05  6.500000e+05  7.799920e+05   \n",
      "max    2.232675e+08  2.649429e+08  2.614370e+08  2.411854e+08  2.775373e+08   \n",
      "\n",
      "              Y2014         Y2015         Y2016  \n",
      "count  1.250000e+02  1.270000e+02  1.270000e+02  \n",
      "mean   1.014517e+07  1.049582e+07  1.090753e+07  \n",
      "std    4.160508e+07  4.390414e+07  4.507822e+07  \n",
      "min    0.000000e+00  0.000000e+00  0.000000e+00  \n",
      "25%    3.877000e+03  4.533000e+03  5.651500e+03  \n",
      "50%    9.012600e+04  6.364600e+04  7.000000e+04  \n",
      "75%    9.480000e+05  1.016592e+06  7.622235e+05  \n",
      "max    3.063735e+08  3.232047e+08  3.348941e+08  \n",
      "\n",
      "[8 rows x 59 columns]\n"
     ]
    },
    {
     "data": {
      "text/plain": [
       "Index(['Area Code', 'Area', 'Item Code', 'Item', 'Element Code', 'Element',\n",
       "       'Unit', 'Y1961', 'Y1961F', 'Y1962',\n",
       "       ...\n",
       "       'Y2012', 'Y2012F', 'Y2013', 'Y2013F', 'Y2014', 'Y2014F', 'Y2015',\n",
       "       'Y2015F', 'Y2016', 'Y2016F'],\n",
       "      dtype='object', length=119)"
      ]
     },
     "execution_count": 20,
     "metadata": {},
     "output_type": "execute_result"
    }
   ],
   "source": [
    "print(df_soy_prod.describe())\n",
    "df_soy_prod.columns"
   ]
  },
  {
   "cell_type": "markdown",
   "metadata": {},
   "source": [
    "Vamos a dar algunos pasos para armar el DataFrame adecuado, con los datos que nos resultan de interés para nuestro objetivo.\n",
    "Perimero definamos year_cols=['Y'+str(y) for y in np.arange(1961,2017)], como en la clase"
   ]
  },
  {
   "cell_type": "code",
   "execution_count": 21,
   "metadata": {},
   "outputs": [],
   "source": [
    "year_cols=['Y'+str(y) for y in np.arange(1961,2017)]"
   ]
  },
  {
   "cell_type": "markdown",
   "metadata": {},
   "source": [
    "Observar que las primeras 110 filas corresponden a datos de paises y las siguientes a regiones.\n",
    "Seleccionar solo las primeras 110 filas, correspondientes a paises\n",
    "\n",
    "Observar que las columnas que nos interesan son *Area* y las columnas con datos de años, no las que tienen flags. Es decir, las columnas de interés están en la lista: ['Area']+year_cols donde year_cols=['Y'+str(y) for y in np.arange(1961,2017)]\n",
    "\n",
    "De hecho, una vez seleccionadas estas filas y columnas, podemos definir 'Area' como el *index* del nuevo DataFrame"
   ]
  },
  {
   "cell_type": "code",
   "execution_count": 22,
   "metadata": {},
   "outputs": [
    {
     "data": {
      "text/html": [
       "<div style=\"max-width:1500px;overflow:auto;\">\n",
       "<table border=\"1\" class=\"dataframe\">\n",
       "  <thead>\n",
       "    <tr style=\"text-align: right;\">\n",
       "      <th></th>\n",
       "      <th>Y1961</th>\n",
       "      <th>Y1962</th>\n",
       "      <th>Y1963</th>\n",
       "      <th>Y1964</th>\n",
       "      <th>Y1965</th>\n",
       "      <th>Y1966</th>\n",
       "      <th>Y1967</th>\n",
       "      <th>Y1968</th>\n",
       "      <th>Y1969</th>\n",
       "      <th>Y1970</th>\n",
       "      <th>...</th>\n",
       "      <th>Y2007</th>\n",
       "      <th>Y2008</th>\n",
       "      <th>Y2009</th>\n",
       "      <th>Y2010</th>\n",
       "      <th>Y2011</th>\n",
       "      <th>Y2012</th>\n",
       "      <th>Y2013</th>\n",
       "      <th>Y2014</th>\n",
       "      <th>Y2015</th>\n",
       "      <th>Y2016</th>\n",
       "    </tr>\n",
       "    <tr>\n",
       "      <th>Area</th>\n",
       "      <th></th>\n",
       "      <th></th>\n",
       "      <th></th>\n",
       "      <th></th>\n",
       "      <th></th>\n",
       "      <th></th>\n",
       "      <th></th>\n",
       "      <th></th>\n",
       "      <th></th>\n",
       "      <th></th>\n",
       "      <th></th>\n",
       "      <th></th>\n",
       "      <th></th>\n",
       "      <th></th>\n",
       "      <th></th>\n",
       "      <th></th>\n",
       "      <th></th>\n",
       "      <th></th>\n",
       "      <th></th>\n",
       "      <th></th>\n",
       "      <th></th>\n",
       "    </tr>\n",
       "  </thead>\n",
       "  <tbody>\n",
       "    <tr>\n",
       "      <th>Albania</th>\n",
       "      <td>NaN</td>\n",
       "      <td>NaN</td>\n",
       "      <td>NaN</td>\n",
       "      <td>NaN</td>\n",
       "      <td>NaN</td>\n",
       "      <td>NaN</td>\n",
       "      <td>NaN</td>\n",
       "      <td>NaN</td>\n",
       "      <td>NaN</td>\n",
       "      <td>NaN</td>\n",
       "      <td>...</td>\n",
       "      <td>400</td>\n",
       "      <td>600</td>\n",
       "      <td>500</td>\n",
       "      <td>500</td>\n",
       "      <td>600</td>\n",
       "      <td>400</td>\n",
       "      <td>300</td>\n",
       "      <td>350</td>\n",
       "      <td>500</td>\n",
       "      <td>664</td>\n",
       "    </tr>\n",
       "    <tr>\n",
       "      <th>Angola</th>\n",
       "      <td>NaN</td>\n",
       "      <td>NaN</td>\n",
       "      <td>NaN</td>\n",
       "      <td>NaN</td>\n",
       "      <td>NaN</td>\n",
       "      <td>NaN</td>\n",
       "      <td>NaN</td>\n",
       "      <td>NaN</td>\n",
       "      <td>NaN</td>\n",
       "      <td>NaN</td>\n",
       "      <td>...</td>\n",
       "      <td>7064</td>\n",
       "      <td>14711</td>\n",
       "      <td>5936</td>\n",
       "      <td>6087</td>\n",
       "      <td>7743</td>\n",
       "      <td>5898</td>\n",
       "      <td>10326</td>\n",
       "      <td>13763</td>\n",
       "      <td>14835</td>\n",
       "      <td>15160</td>\n",
       "    </tr>\n",
       "    <tr>\n",
       "      <th>Argentina</th>\n",
       "      <td>957</td>\n",
       "      <td>11220</td>\n",
       "      <td>18920</td>\n",
       "      <td>14000</td>\n",
       "      <td>17000</td>\n",
       "      <td>18200</td>\n",
       "      <td>20500</td>\n",
       "      <td>22000</td>\n",
       "      <td>31800</td>\n",
       "      <td>26800</td>\n",
       "      <td>...</td>\n",
       "      <td>47482784</td>\n",
       "      <td>46238088</td>\n",
       "      <td>30993380</td>\n",
       "      <td>52675464</td>\n",
       "      <td>48888536</td>\n",
       "      <td>40100196</td>\n",
       "      <td>49306200</td>\n",
       "      <td>53397715</td>\n",
       "      <td>61398276</td>\n",
       "      <td>58799258</td>\n",
       "    </tr>\n",
       "    <tr>\n",
       "      <th>Australia</th>\n",
       "      <td>200</td>\n",
       "      <td>260</td>\n",
       "      <td>599</td>\n",
       "      <td>748</td>\n",
       "      <td>1112</td>\n",
       "      <td>770</td>\n",
       "      <td>775</td>\n",
       "      <td>887</td>\n",
       "      <td>1740</td>\n",
       "      <td>5028</td>\n",
       "      <td>...</td>\n",
       "      <td>25907</td>\n",
       "      <td>34700</td>\n",
       "      <td>80105</td>\n",
       "      <td>59600</td>\n",
       "      <td>29750</td>\n",
       "      <td>86100</td>\n",
       "      <td>91800</td>\n",
       "      <td>80000</td>\n",
       "      <td>63646</td>\n",
       "      <td>62556</td>\n",
       "    </tr>\n",
       "    <tr>\n",
       "      <th>Austria</th>\n",
       "      <td>NaN</td>\n",
       "      <td>NaN</td>\n",
       "      <td>NaN</td>\n",
       "      <td>NaN</td>\n",
       "      <td>NaN</td>\n",
       "      <td>NaN</td>\n",
       "      <td>NaN</td>\n",
       "      <td>NaN</td>\n",
       "      <td>NaN</td>\n",
       "      <td>NaN</td>\n",
       "      <td>...</td>\n",
       "      <td>52902</td>\n",
       "      <td>54095</td>\n",
       "      <td>71333</td>\n",
       "      <td>94544</td>\n",
       "      <td>109378</td>\n",
       "      <td>104143</td>\n",
       "      <td>82780</td>\n",
       "      <td>118132</td>\n",
       "      <td>136195</td>\n",
       "      <td>152599</td>\n",
       "    </tr>\n",
       "  </tbody>\n",
       "</table>\n",
       "<p>5 rows × 56 columns</p>\n",
       "</div>"
      ],
      "text/plain": [
       "           Y1961  Y1962  Y1963  Y1964  Y1965  Y1966  Y1967  Y1968  Y1969  \\\n",
       "Area                                                                       \n",
       "Albania      NaN    NaN    NaN    NaN    NaN    NaN    NaN    NaN    NaN   \n",
       "Angola       NaN    NaN    NaN    NaN    NaN    NaN    NaN    NaN    NaN   \n",
       "Argentina    957  11220  18920  14000  17000  18200  20500  22000  31800   \n",
       "Australia    200    260    599    748   1112    770    775    887   1740   \n",
       "Austria      NaN    NaN    NaN    NaN    NaN    NaN    NaN    NaN    NaN   \n",
       "\n",
       "           Y1970    ...        Y2007     Y2008     Y2009     Y2010     Y2011  \\\n",
       "Area                ...                                                        \n",
       "Albania      NaN    ...          400       600       500       500       600   \n",
       "Angola       NaN    ...         7064     14711      5936      6087      7743   \n",
       "Argentina  26800    ...     47482784  46238088  30993380  52675464  48888536   \n",
       "Australia   5028    ...        25907     34700     80105     59600     29750   \n",
       "Austria      NaN    ...        52902     54095     71333     94544    109378   \n",
       "\n",
       "              Y2012     Y2013     Y2014     Y2015     Y2016  \n",
       "Area                                                         \n",
       "Albania         400       300       350       500       664  \n",
       "Angola         5898     10326     13763     14835     15160  \n",
       "Argentina  40100196  49306200  53397715  61398276  58799258  \n",
       "Australia     86100     91800     80000     63646     62556  \n",
       "Austria      104143     82780    118132    136195    152599  \n",
       "\n",
       "[5 rows x 56 columns]"
      ]
     },
     "execution_count": 22,
     "metadata": {},
     "output_type": "execute_result"
    }
   ],
   "source": [
    "df_soy_prod_country = df_soy_prod[['Area']+['Y'+str(y) for y in np.arange(1961,2017)]].iloc[:110].copy()\n",
    "df_soy_prod_country.index=df_soy_prod_country.Area\n",
    "df_soy_prod_country.drop('Area',axis=1,inplace=True)\n",
    "df_soy_prod_country.head()\n"
   ]
  },
  {
   "cell_type": "markdown",
   "metadata": {},
   "source": [
    "Finalmente, observar también el dataframe resultante tiene las series de producción por pais en las filas y no en las columnas. Luego, trasponerlo y guardarlo en df_soy_prod_country"
   ]
  },
  {
   "cell_type": "code",
   "execution_count": 23,
   "metadata": {},
   "outputs": [
    {
     "data": {
      "text/html": [
       "<div style=\"max-width:1500px;overflow:auto;\">\n",
       "<table border=\"1\" class=\"dataframe\">\n",
       "  <thead>\n",
       "    <tr style=\"text-align: right;\">\n",
       "      <th>Area</th>\n",
       "      <th>Albania</th>\n",
       "      <th>Angola</th>\n",
       "      <th>Argentina</th>\n",
       "      <th>Australia</th>\n",
       "      <th>Austria</th>\n",
       "      <th>Azerbaijan</th>\n",
       "      <th>Bangladesh</th>\n",
       "      <th>Belize</th>\n",
       "      <th>Benin</th>\n",
       "      <th>Bhutan</th>\n",
       "      <th>...</th>\n",
       "      <th>Ukraine</th>\n",
       "      <th>United Republic of Tanzania</th>\n",
       "      <th>United States of America</th>\n",
       "      <th>Uruguay</th>\n",
       "      <th>USSR</th>\n",
       "      <th>Venezuela (Bolivarian Republic of)</th>\n",
       "      <th>Viet Nam</th>\n",
       "      <th>Yugoslav SFR</th>\n",
       "      <th>Zambia</th>\n",
       "      <th>Zimbabwe</th>\n",
       "    </tr>\n",
       "  </thead>\n",
       "  <tbody>\n",
       "    <tr>\n",
       "      <th>Y1961</th>\n",
       "      <td>NaN</td>\n",
       "      <td>NaN</td>\n",
       "      <td>957</td>\n",
       "      <td>200</td>\n",
       "      <td>NaN</td>\n",
       "      <td>NaN</td>\n",
       "      <td>NaN</td>\n",
       "      <td>350</td>\n",
       "      <td>NaN</td>\n",
       "      <td>NaN</td>\n",
       "      <td>...</td>\n",
       "      <td>NaN</td>\n",
       "      <td>2600</td>\n",
       "      <td>18468000</td>\n",
       "      <td>1000</td>\n",
       "      <td>344000</td>\n",
       "      <td>NaN</td>\n",
       "      <td>14100</td>\n",
       "      <td>9840</td>\n",
       "      <td>NaN</td>\n",
       "      <td>472</td>\n",
       "    </tr>\n",
       "    <tr>\n",
       "      <th>Y1962</th>\n",
       "      <td>NaN</td>\n",
       "      <td>NaN</td>\n",
       "      <td>11220</td>\n",
       "      <td>260</td>\n",
       "      <td>NaN</td>\n",
       "      <td>NaN</td>\n",
       "      <td>NaN</td>\n",
       "      <td>NaN</td>\n",
       "      <td>NaN</td>\n",
       "      <td>NaN</td>\n",
       "      <td>...</td>\n",
       "      <td>NaN</td>\n",
       "      <td>2200</td>\n",
       "      <td>18213008</td>\n",
       "      <td>1000</td>\n",
       "      <td>475000</td>\n",
       "      <td>NaN</td>\n",
       "      <td>13000</td>\n",
       "      <td>7920</td>\n",
       "      <td>NaN</td>\n",
       "      <td>581</td>\n",
       "    </tr>\n",
       "    <tr>\n",
       "      <th>Y1963</th>\n",
       "      <td>NaN</td>\n",
       "      <td>NaN</td>\n",
       "      <td>18920</td>\n",
       "      <td>599</td>\n",
       "      <td>NaN</td>\n",
       "      <td>NaN</td>\n",
       "      <td>NaN</td>\n",
       "      <td>NaN</td>\n",
       "      <td>NaN</td>\n",
       "      <td>NaN</td>\n",
       "      <td>...</td>\n",
       "      <td>NaN</td>\n",
       "      <td>4000</td>\n",
       "      <td>19028000</td>\n",
       "      <td>1000</td>\n",
       "      <td>445000</td>\n",
       "      <td>NaN</td>\n",
       "      <td>12000</td>\n",
       "      <td>7000</td>\n",
       "      <td>NaN</td>\n",
       "      <td>281</td>\n",
       "    </tr>\n",
       "    <tr>\n",
       "      <th>Y1964</th>\n",
       "      <td>NaN</td>\n",
       "      <td>NaN</td>\n",
       "      <td>14000</td>\n",
       "      <td>748</td>\n",
       "      <td>NaN</td>\n",
       "      <td>NaN</td>\n",
       "      <td>NaN</td>\n",
       "      <td>NaN</td>\n",
       "      <td>NaN</td>\n",
       "      <td>NaN</td>\n",
       "      <td>...</td>\n",
       "      <td>NaN</td>\n",
       "      <td>1700</td>\n",
       "      <td>19076000</td>\n",
       "      <td>1000</td>\n",
       "      <td>285000</td>\n",
       "      <td>NaN</td>\n",
       "      <td>14000</td>\n",
       "      <td>9560</td>\n",
       "      <td>NaN</td>\n",
       "      <td>181</td>\n",
       "    </tr>\n",
       "    <tr>\n",
       "      <th>Y1965</th>\n",
       "      <td>NaN</td>\n",
       "      <td>NaN</td>\n",
       "      <td>17000</td>\n",
       "      <td>1112</td>\n",
       "      <td>NaN</td>\n",
       "      <td>NaN</td>\n",
       "      <td>NaN</td>\n",
       "      <td>NaN</td>\n",
       "      <td>NaN</td>\n",
       "      <td>NaN</td>\n",
       "      <td>...</td>\n",
       "      <td>NaN</td>\n",
       "      <td>1200</td>\n",
       "      <td>23014000</td>\n",
       "      <td>1000</td>\n",
       "      <td>421000</td>\n",
       "      <td>NaN</td>\n",
       "      <td>15200</td>\n",
       "      <td>9660</td>\n",
       "      <td>NaN</td>\n",
       "      <td>167</td>\n",
       "    </tr>\n",
       "  </tbody>\n",
       "</table>\n",
       "<p>5 rows × 110 columns</p>\n",
       "</div>"
      ],
      "text/plain": [
       "Area   Albania  Angola  Argentina  Australia  Austria  Azerbaijan  Bangladesh  \\\n",
       "Y1961      NaN     NaN        957        200      NaN         NaN         NaN   \n",
       "Y1962      NaN     NaN      11220        260      NaN         NaN         NaN   \n",
       "Y1963      NaN     NaN      18920        599      NaN         NaN         NaN   \n",
       "Y1964      NaN     NaN      14000        748      NaN         NaN         NaN   \n",
       "Y1965      NaN     NaN      17000       1112      NaN         NaN         NaN   \n",
       "\n",
       "Area   Belize  Benin  Bhutan    ...     Ukraine  United Republic of Tanzania  \\\n",
       "Y1961     350    NaN     NaN    ...         NaN                         2600   \n",
       "Y1962     NaN    NaN     NaN    ...         NaN                         2200   \n",
       "Y1963     NaN    NaN     NaN    ...         NaN                         4000   \n",
       "Y1964     NaN    NaN     NaN    ...         NaN                         1700   \n",
       "Y1965     NaN    NaN     NaN    ...         NaN                         1200   \n",
       "\n",
       "Area   United States of America  Uruguay    USSR  \\\n",
       "Y1961                  18468000     1000  344000   \n",
       "Y1962                  18213008     1000  475000   \n",
       "Y1963                  19028000     1000  445000   \n",
       "Y1964                  19076000     1000  285000   \n",
       "Y1965                  23014000     1000  421000   \n",
       "\n",
       "Area   Venezuela (Bolivarian Republic of)  Viet Nam  Yugoslav SFR  Zambia  \\\n",
       "Y1961                                 NaN     14100          9840     NaN   \n",
       "Y1962                                 NaN     13000          7920     NaN   \n",
       "Y1963                                 NaN     12000          7000     NaN   \n",
       "Y1964                                 NaN     14000          9560     NaN   \n",
       "Y1965                                 NaN     15200          9660     NaN   \n",
       "\n",
       "Area   Zimbabwe  \n",
       "Y1961       472  \n",
       "Y1962       581  \n",
       "Y1963       281  \n",
       "Y1964       181  \n",
       "Y1965       167  \n",
       "\n",
       "[5 rows x 110 columns]"
      ]
     },
     "execution_count": 23,
     "metadata": {},
     "output_type": "execute_result"
    }
   ],
   "source": [
    "df_soy_prod_country = df_soy_prod_country.T\n",
    "df_soy_prod_country.head()"
   ]
  },
  {
   "cell_type": "markdown",
   "metadata": {},
   "source": [
    "sumar las series para obtener la produccion total por país.\n",
    "Ordenar estos valores y quedarse con los 10 países que más produjeron.\n"
   ]
  },
  {
   "cell_type": "code",
   "execution_count": 24,
   "metadata": {},
   "outputs": [],
   "source": [
    "topten=df_soy_prod_country.sum().sort_values(ascending=False)[:10].index"
   ]
  },
  {
   "cell_type": "markdown",
   "metadata": {},
   "source": [
    "plotear la produccion de soja año a año de estos diez países"
   ]
  },
  {
   "cell_type": "code",
   "execution_count": 25,
   "metadata": {},
   "outputs": [
    {
     "data": {
      "text/plain": [
       "<matplotlib.axes._subplots.AxesSubplot at 0x7f9acbdb7828>"
      ]
     },
     "execution_count": 25,
     "metadata": {},
     "output_type": "execute_result"
    },
    {
     "data": {
      "image/png": "[encoded data removed]",
      "text/plain": [
       "<matplotlib.figure.Figure at 0x7f9acbce3710>"
      ]
     },
     "metadata": {},
     "output_type": "display_data"
    }
   ],
   "source": [
    "df_soy_prod_country[topten].plot()"
   ]
  }
 ],
 "metadata": {
  "kernelspec": {
   "display_name": "Python 3",
   "language": "python",
   "name": "python3"
  },
  "language_info": {
   "codemirror_mode": {
    "name": "ipython",
    "version": 3
   },
   "file_extension": ".py",
   "mimetype": "text/x-python",
   "name": "python",
   "nbconvert_exporter": "python",
   "pygments_lexer": "ipython3",
   "version": "3.6.6"
  }
 },
 "nbformat": 4,
 "nbformat_minor": 1
}
